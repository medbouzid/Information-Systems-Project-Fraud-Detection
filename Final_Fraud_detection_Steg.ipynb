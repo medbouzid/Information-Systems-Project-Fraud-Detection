{
  "nbformat": 4,
  "nbformat_minor": 0,
  "metadata": {
    "kernelspec": {
      "display_name": "Python 3",
      "language": "python",
      "name": "python3"
    },
    "language_info": {
      "codemirror_mode": {
        "name": "ipython",
        "version": 3
      },
      "file_extension": ".py",
      "mimetype": "text/x-python",
      "name": "python",
      "nbconvert_exporter": "python",
      "pygments_lexer": "ipython3",
      "version": "3.7.6"
    },
    "colab": {
      "name": "Final_Fraud detection Steg.ipynb",
      "provenance": []
    }
  },
  "cells": [
    {
      "cell_type": "markdown",
      "metadata": {
        "id": "EFxa7M3ArzCD"
      },
      "source": [
        "# Mini Project-Fraud Detection"
      ]
    },
    {
      "cell_type": "markdown",
      "metadata": {
        "id": "I_AZoa8ErzCE"
      },
      "source": [
        "## Import libraries"
      ]
    },
    {
      "cell_type": "code",
      "metadata": {
        "id": "m9dFfcLMrzCF"
      },
      "source": [
        "import numpy as np \n",
        "import pandas as pd\n",
        "import seaborn as sns\n",
        "import matplotlib.pyplot as plt\n",
        "import warnings\n",
        "warnings.filterwarnings(\"ignore\")\n",
        "from sklearn.preprocessing import StandardScaler\n",
        "sns.set()"
      ],
      "execution_count": null,
      "outputs": []
    },
    {
      "cell_type": "markdown",
      "metadata": {
        "id": "vd5ieJz3rzCJ"
      },
      "source": [
        "## Import data (Clients + Consumption )"
      ]
    },
    {
      "cell_type": "code",
      "metadata": {
        "scrolled": true,
        "id": "ToqW3uKorzCK",
        "outputId": "c8b84f46-0284-4ddc-c374-57ce6f5e55ed"
      },
      "source": [
        "client = pd.read_csv('CLIENT_CONSOMMATION_UR60.csv')\n",
        "data = pd.DataFrame(data= [x[0].split() for x in client.values ] , columns =client.iloc[0].index[0].split()+['unnamed'])\n",
        "data = data.drop('unnamed',1)\n",
        "data.head()"
      ],
      "execution_count": null,
      "outputs": [
        {
          "output_type": "execute_result",
          "data": {
            "text/html": [
              "<div>\n",
              "<style scoped>\n",
              "    .dataframe tbody tr th:only-of-type {\n",
              "        vertical-align: middle;\n",
              "    }\n",
              "\n",
              "    .dataframe tbody tr th {\n",
              "        vertical-align: top;\n",
              "    }\n",
              "\n",
              "    .dataframe thead th {\n",
              "        text-align: right;\n",
              "    }\n",
              "</style>\n",
              "<table border=\"1\" class=\"dataframe\">\n",
              "  <thead>\n",
              "    <tr style=\"text-align: right;\">\n",
              "      <th></th>\n",
              "      <th>CF_AB_CODE</th>\n",
              "      <th>CF_AB_REF</th>\n",
              "      <th>CF_FACT_DATFACT</th>\n",
              "      <th>RC_BTTARIF_CODE</th>\n",
              "      <th>BT_CONSO_NUMCPTR</th>\n",
              "      <th>RC_BT_SCPTR_CODE</th>\n",
              "      <th>RC_CCPTEUR_CODE</th>\n",
              "      <th>RC_BT_ERLV_CODE</th>\n",
              "      <th>BT_CONSO_COEFF</th>\n",
              "      <th>BT_CONSO_CONSO1</th>\n",
              "      <th>BT_CONSO_CONSO2</th>\n",
              "      <th>BT_CONSO_CONSO3</th>\n",
              "      <th>BT_CONSO_CONSO4</th>\n",
              "      <th>BT_CONSO_AINDEX</th>\n",
              "      <th>BT_CONSO_NINDEX</th>\n",
              "      <th>BT_CONSO_NBRMOIS</th>\n",
              "    </tr>\n",
              "  </thead>\n",
              "  <tbody>\n",
              "    <tr>\n",
              "      <th>0</th>\n",
              "      <td>BT</td>\n",
              "      <td>000110050</td>\n",
              "      <td>03/10/2017</td>\n",
              "      <td>11</td>\n",
              "      <td>124416</td>\n",
              "      <td>0</td>\n",
              "      <td>433</td>\n",
              "      <td>9</td>\n",
              "      <td>1</td>\n",
              "      <td>200</td>\n",
              "      <td>100</td>\n",
              "      <td>200</td>\n",
              "      <td>3409</td>\n",
              "      <td>762111</td>\n",
              "      <td>766020</td>\n",
              "      <td>1</td>\n",
              "    </tr>\n",
              "    <tr>\n",
              "      <th>1</th>\n",
              "      <td>BT</td>\n",
              "      <td>000110050</td>\n",
              "      <td>05/12/2017</td>\n",
              "      <td>11</td>\n",
              "      <td>124416</td>\n",
              "      <td>0</td>\n",
              "      <td>433</td>\n",
              "      <td>9</td>\n",
              "      <td>1</td>\n",
              "      <td>200</td>\n",
              "      <td>100</td>\n",
              "      <td>200</td>\n",
              "      <td>4327</td>\n",
              "      <td>771442</td>\n",
              "      <td>776269</td>\n",
              "      <td>1</td>\n",
              "    </tr>\n",
              "    <tr>\n",
              "      <th>2</th>\n",
              "      <td>BT</td>\n",
              "      <td>000110050</td>\n",
              "      <td>02/02/2018</td>\n",
              "      <td>11</td>\n",
              "      <td>124416</td>\n",
              "      <td>0</td>\n",
              "      <td>433</td>\n",
              "      <td>9</td>\n",
              "      <td>1</td>\n",
              "      <td>200</td>\n",
              "      <td>100</td>\n",
              "      <td>200</td>\n",
              "      <td>3756</td>\n",
              "      <td>779828</td>\n",
              "      <td>784084</td>\n",
              "      <td>1</td>\n",
              "    </tr>\n",
              "    <tr>\n",
              "      <th>3</th>\n",
              "      <td>BT</td>\n",
              "      <td>000110050</td>\n",
              "      <td>02/03/2018</td>\n",
              "      <td>11</td>\n",
              "      <td>124416</td>\n",
              "      <td>0</td>\n",
              "      <td>433</td>\n",
              "      <td>9</td>\n",
              "      <td>1</td>\n",
              "      <td>200</td>\n",
              "      <td>100</td>\n",
              "      <td>200</td>\n",
              "      <td>4130</td>\n",
              "      <td>784084</td>\n",
              "      <td>788714</td>\n",
              "      <td>1</td>\n",
              "    </tr>\n",
              "    <tr>\n",
              "      <th>4</th>\n",
              "      <td>BT</td>\n",
              "      <td>000110050</td>\n",
              "      <td>03/04/2018</td>\n",
              "      <td>11</td>\n",
              "      <td>124416</td>\n",
              "      <td>0</td>\n",
              "      <td>433</td>\n",
              "      <td>9</td>\n",
              "      <td>1</td>\n",
              "      <td>200</td>\n",
              "      <td>100</td>\n",
              "      <td>200</td>\n",
              "      <td>3732</td>\n",
              "      <td>788714</td>\n",
              "      <td>792946</td>\n",
              "      <td>1</td>\n",
              "    </tr>\n",
              "  </tbody>\n",
              "</table>\n",
              "</div>"
            ],
            "text/plain": [
              "  CF_AB_CODE  CF_AB_REF CF_FACT_DATFACT RC_BTTARIF_CODE BT_CONSO_NUMCPTR  \\\n",
              "0         BT  000110050      03/10/2017              11           124416   \n",
              "1         BT  000110050      05/12/2017              11           124416   \n",
              "2         BT  000110050      02/02/2018              11           124416   \n",
              "3         BT  000110050      02/03/2018              11           124416   \n",
              "4         BT  000110050      03/04/2018              11           124416   \n",
              "\n",
              "  RC_BT_SCPTR_CODE RC_CCPTEUR_CODE RC_BT_ERLV_CODE BT_CONSO_COEFF  \\\n",
              "0                0             433               9              1   \n",
              "1                0             433               9              1   \n",
              "2                0             433               9              1   \n",
              "3                0             433               9              1   \n",
              "4                0             433               9              1   \n",
              "\n",
              "  BT_CONSO_CONSO1 BT_CONSO_CONSO2 BT_CONSO_CONSO3 BT_CONSO_CONSO4  \\\n",
              "0             200             100             200            3409   \n",
              "1             200             100             200            4327   \n",
              "2             200             100             200            3756   \n",
              "3             200             100             200            4130   \n",
              "4             200             100             200            3732   \n",
              "\n",
              "  BT_CONSO_AINDEX BT_CONSO_NINDEX BT_CONSO_NBRMOIS  \n",
              "0          762111          766020                1  \n",
              "1          771442          776269                1  \n",
              "2          779828          784084                1  \n",
              "3          784084          788714                1  \n",
              "4          788714          792946                1  "
            ]
          },
          "metadata": {
            "tags": []
          },
          "execution_count": 2
        }
      ]
    },
    {
      "cell_type": "code",
      "metadata": {
        "id": "UwW1lCUCrzCO"
      },
      "source": [
        "clients = pd.read_csv('CLIENT.csv')"
      ],
      "execution_count": null,
      "outputs": []
    },
    {
      "cell_type": "code",
      "metadata": {
        "id": "w37XYiszrzCR"
      },
      "source": [
        "data2 = pd.DataFrame(data= [x[0].split() for x in clients.values ] , columns =clients.iloc[0].index[0].split())"
      ],
      "execution_count": null,
      "outputs": []
    },
    {
      "cell_type": "markdown",
      "metadata": {
        "id": "a_5nfsq2rzCU"
      },
      "source": [
        "## Jointure de clients et consommations"
      ]
    },
    {
      "cell_type": "code",
      "metadata": {
        "id": "YTZns4myrzCU"
      },
      "source": [
        "new_train = pd.merge(data,data2, on=\"CF_AB_REF\",how=\"inner\")"
      ],
      "execution_count": null,
      "outputs": []
    },
    {
      "cell_type": "markdown",
      "metadata": {
        "id": "a1RhukpsrzCX"
      },
      "source": [
        "The goal of merging the data here is to determine what are we going to do with the missing values that we have. Add to that, we will use it in the future in order to evaluate the model that we have created."
      ]
    },
    {
      "cell_type": "markdown",
      "metadata": {
        "id": "h0BmmEmirzCX"
      },
      "source": [
        "### Client data set cleaning"
      ]
    },
    {
      "cell_type": "code",
      "metadata": {
        "scrolled": false,
        "id": "K3-dNSiIrzCY",
        "outputId": "2c3cdaaa-357d-4834-ae67-42d003d133ba"
      },
      "source": [
        "data2.head()"
      ],
      "execution_count": null,
      "outputs": [
        {
          "output_type": "execute_result",
          "data": {
            "text/html": [
              "<div>\n",
              "<style scoped>\n",
              "    .dataframe tbody tr th:only-of-type {\n",
              "        vertical-align: middle;\n",
              "    }\n",
              "\n",
              "    .dataframe tbody tr th {\n",
              "        vertical-align: top;\n",
              "    }\n",
              "\n",
              "    .dataframe thead th {\n",
              "        text-align: right;\n",
              "    }\n",
              "</style>\n",
              "<table border=\"1\" class=\"dataframe\">\n",
              "  <thead>\n",
              "    <tr style=\"text-align: right;\">\n",
              "      <th></th>\n",
              "      <th>RC_UR_CODE</th>\n",
              "      <th>CF_AB_CODE</th>\n",
              "      <th>CF_AB_REF</th>\n",
              "      <th>RC_CATEG_CODE</th>\n",
              "      <th>RC_COMMUNE_CODE</th>\n",
              "      <th>CF_AB_DAT_CREATION</th>\n",
              "      <th>CF_AB_SOLDE_FINAL</th>\n",
              "      <th>CF_AB_MENSUALISE</th>\n",
              "      <th>CF_AB_RELANCE</th>\n",
              "      <th>FRAUDE</th>\n",
              "    </tr>\n",
              "  </thead>\n",
              "  <tbody>\n",
              "    <tr>\n",
              "      <th>0</th>\n",
              "      <td>60</td>\n",
              "      <td>BT</td>\n",
              "      <td>000010010</td>\n",
              "      <td>11</td>\n",
              "      <td>0101</td>\n",
              "      <td>15/01/2009</td>\n",
              "      <td>299704</td>\n",
              "      <td>0</td>\n",
              "      <td>1</td>\n",
              "      <td>0</td>\n",
              "    </tr>\n",
              "    <tr>\n",
              "      <th>1</th>\n",
              "      <td>60</td>\n",
              "      <td>BT</td>\n",
              "      <td>000010020</td>\n",
              "      <td>11</td>\n",
              "      <td>0101</td>\n",
              "      <td>29/04/2014</td>\n",
              "      <td>0</td>\n",
              "      <td>0</td>\n",
              "      <td>0</td>\n",
              "      <td>0</td>\n",
              "    </tr>\n",
              "    <tr>\n",
              "      <th>2</th>\n",
              "      <td>60</td>\n",
              "      <td>BT</td>\n",
              "      <td>000110020</td>\n",
              "      <td>11</td>\n",
              "      <td>0101</td>\n",
              "      <td>23/12/2013</td>\n",
              "      <td>636432</td>\n",
              "      <td>0</td>\n",
              "      <td>1</td>\n",
              "      <td>0</td>\n",
              "    </tr>\n",
              "    <tr>\n",
              "      <th>3</th>\n",
              "      <td>60</td>\n",
              "      <td>BT</td>\n",
              "      <td>000110050</td>\n",
              "      <td>51</td>\n",
              "      <td>0101</td>\n",
              "      <td>08/10/2004</td>\n",
              "      <td>523661</td>\n",
              "      <td>0</td>\n",
              "      <td>0</td>\n",
              "      <td>0</td>\n",
              "    </tr>\n",
              "    <tr>\n",
              "      <th>4</th>\n",
              "      <td>60</td>\n",
              "      <td>BT</td>\n",
              "      <td>000110070</td>\n",
              "      <td>51</td>\n",
              "      <td>0101</td>\n",
              "      <td>08/10/2008</td>\n",
              "      <td>218691</td>\n",
              "      <td>0</td>\n",
              "      <td>0</td>\n",
              "      <td>0</td>\n",
              "    </tr>\n",
              "  </tbody>\n",
              "</table>\n",
              "</div>"
            ],
            "text/plain": [
              "  RC_UR_CODE CF_AB_CODE  CF_AB_REF RC_CATEG_CODE RC_COMMUNE_CODE  \\\n",
              "0         60         BT  000010010            11            0101   \n",
              "1         60         BT  000010020            11            0101   \n",
              "2         60         BT  000110020            11            0101   \n",
              "3         60         BT  000110050            51            0101   \n",
              "4         60         BT  000110070            51            0101   \n",
              "\n",
              "  CF_AB_DAT_CREATION CF_AB_SOLDE_FINAL CF_AB_MENSUALISE CF_AB_RELANCE FRAUDE  \n",
              "0         15/01/2009            299704                0             1      0  \n",
              "1         29/04/2014                 0                0             0      0  \n",
              "2         23/12/2013            636432                0             1      0  \n",
              "3         08/10/2004            523661                0             0      0  \n",
              "4         08/10/2008            218691                0             0      0  "
            ]
          },
          "metadata": {
            "tags": []
          },
          "execution_count": 6
        }
      ]
    },
    {
      "cell_type": "code",
      "metadata": {
        "scrolled": false,
        "id": "AylO5zdurzCb",
        "outputId": "d1ed65de-d4fe-437e-d1bc-eeff86bfc6c9"
      },
      "source": [
        "data2.info()"
      ],
      "execution_count": null,
      "outputs": [
        {
          "output_type": "stream",
          "text": [
            "<class 'pandas.core.frame.DataFrame'>\n",
            "RangeIndex: 686576 entries, 0 to 686575\n",
            "Data columns (total 10 columns):\n",
            " #   Column              Non-Null Count   Dtype \n",
            "---  ------              --------------   ----- \n",
            " 0   RC_UR_CODE          686576 non-null  object\n",
            " 1   CF_AB_CODE          686576 non-null  object\n",
            " 2   CF_AB_REF           686576 non-null  object\n",
            " 3   RC_CATEG_CODE       686576 non-null  object\n",
            " 4   RC_COMMUNE_CODE     686576 non-null  object\n",
            " 5   CF_AB_DAT_CREATION  686576 non-null  object\n",
            " 6   CF_AB_SOLDE_FINAL   686576 non-null  object\n",
            " 7   CF_AB_MENSUALISE    686576 non-null  object\n",
            " 8   CF_AB_RELANCE       686576 non-null  object\n",
            " 9   FRAUDE              520979 non-null  object\n",
            "dtypes: object(10)\n",
            "memory usage: 52.4+ MB\n"
          ],
          "name": "stdout"
        }
      ]
    },
    {
      "cell_type": "markdown",
      "metadata": {
        "id": "_tntE7hsrzCe"
      },
      "source": [
        "Let's drop the unnecessary columns"
      ]
    },
    {
      "cell_type": "code",
      "metadata": {
        "id": "YvPskn7XrzCf"
      },
      "source": [
        "data2.drop('CF_AB_CODE',axis=1,inplace=True)\n",
        "data2.drop('CF_AB_SOLDE_FINAL',axis=1,inplace=True)\n",
        "data2.drop('CF_AB_MENSUALISE',axis=1,inplace=True)\n",
        "data2.drop('CF_AB_RELANCE',axis=1,inplace=True)"
      ],
      "execution_count": null,
      "outputs": []
    },
    {
      "cell_type": "code",
      "metadata": {
        "scrolled": true,
        "id": "BjU2BXoQrzCh",
        "outputId": "40469186-94e3-40a4-fb34-5b9e68ceab15"
      },
      "source": [
        "data2.info()"
      ],
      "execution_count": null,
      "outputs": [
        {
          "output_type": "stream",
          "text": [
            "<class 'pandas.core.frame.DataFrame'>\n",
            "RangeIndex: 686576 entries, 0 to 686575\n",
            "Data columns (total 6 columns):\n",
            " #   Column              Non-Null Count   Dtype \n",
            "---  ------              --------------   ----- \n",
            " 0   RC_UR_CODE          686576 non-null  object\n",
            " 1   CF_AB_REF           686576 non-null  object\n",
            " 2   RC_CATEG_CODE       686576 non-null  object\n",
            " 3   RC_COMMUNE_CODE     686576 non-null  object\n",
            " 4   CF_AB_DAT_CREATION  686576 non-null  object\n",
            " 5   FRAUDE              520979 non-null  object\n",
            "dtypes: object(6)\n",
            "memory usage: 31.4+ MB\n"
          ],
          "name": "stdout"
        }
      ]
    },
    {
      "cell_type": "markdown",
      "metadata": {
        "id": "4ydeLwiJrzCk"
      },
      "source": [
        "We will set the \"CF_AB_REF\" in the index."
      ]
    },
    {
      "cell_type": "code",
      "metadata": {
        "id": "pbYb3gsJrzCk"
      },
      "source": [
        "data2[\"CF_AB_REF\"]= data2[\"CF_AB_REF\"].astype(int)"
      ],
      "execution_count": null,
      "outputs": []
    },
    {
      "cell_type": "code",
      "metadata": {
        "id": "8p2YAc_ErzCn"
      },
      "source": [
        "data2.set_index(\"CF_AB_REF\",inplace=True)"
      ],
      "execution_count": null,
      "outputs": []
    },
    {
      "cell_type": "code",
      "metadata": {
        "id": "SaI2VE_lrzCq",
        "outputId": "2feb86b3-0df7-4cf8-bd97-50f12ab131e2"
      },
      "source": [
        "data2[\"RC_COMMUNE_CODE\"].unique()"
      ],
      "execution_count": null,
      "outputs": [
        {
          "output_type": "execute_result",
          "data": {
            "text/plain": [
              "array(['0101', '0199', '0301', '0302', '0303', '0305', '0310', '0304',\n",
              "       '0307', '0306', '0309', '0308', '0371', '0399', '0312', '0311',\n",
              "       '0372', '0313', '0379', '0103', '0107', '0104', '0206', '0106',\n",
              "       '0105'], dtype=object)"
            ]
          },
          "metadata": {
            "tags": []
          },
          "execution_count": 13
        }
      ]
    },
    {
      "cell_type": "markdown",
      "metadata": {
        "id": "5_3qjaw7rzCt"
      },
      "source": [
        "It corresponds to the 'Commune' shown in the description."
      ]
    },
    {
      "cell_type": "markdown",
      "metadata": {
        "id": "dLF0A6n1rzCv"
      },
      "source": [
        "Let's explore the column \"Date Creation\"."
      ]
    },
    {
      "cell_type": "code",
      "metadata": {
        "id": "LPLZzTp5rzCw",
        "outputId": "8c699a1b-79cc-456a-d6ae-026b42076f58"
      },
      "source": [
        "len(data2[\"CF_AB_DAT_CREATION\"].unique())"
      ],
      "execution_count": null,
      "outputs": [
        {
          "output_type": "execute_result",
          "data": {
            "text/plain": [
              "86444"
            ]
          },
          "metadata": {
            "tags": []
          },
          "execution_count": 14
        }
      ]
    },
    {
      "cell_type": "markdown",
      "metadata": {
        "id": "3Aftd19krzCy"
      },
      "source": [
        "As we see here this column has a lot of non representative values(ie: we have only 365 day in the year and we are working on only 15 years (5475)), we will not focus on cleaning this column."
      ]
    },
    {
      "cell_type": "markdown",
      "metadata": {
        "id": "qIYXQPsvrzCz"
      },
      "source": [
        "## Data Conversion to the appropriate types"
      ]
    },
    {
      "cell_type": "code",
      "metadata": {
        "id": "K1uF3vIkrzCz"
      },
      "source": [
        "data2[\"RC_UR_CODE\"]=data2[\"RC_UR_CODE\"].astype(int)\n",
        "data2[\"RC_CATEG_CODE\"]=data2[\"RC_CATEG_CODE\"].astype(int)\n",
        "data2[\"RC_COMMUNE_CODE\"]=data2[\"RC_COMMUNE_CODE\"].astype(int)"
      ],
      "execution_count": null,
      "outputs": []
    },
    {
      "cell_type": "code",
      "metadata": {
        "id": "BfUzO_hCrzC1",
        "outputId": "b162741e-d6f6-45a9-c6f2-71a9bdff4a66"
      },
      "source": [
        "data2[\"FRAUDE\"].isnull().sum().sum()"
      ],
      "execution_count": null,
      "outputs": [
        {
          "output_type": "execute_result",
          "data": {
            "text/plain": [
              "165597"
            ]
          },
          "metadata": {
            "tags": []
          },
          "execution_count": 16
        }
      ]
    },
    {
      "cell_type": "markdown",
      "metadata": {
        "id": "2T112rLtrzC3"
      },
      "source": [
        "We have 165597 missing values, which is significant because we have 686576 client in our data.We tried filling them with 0s and dropping them.When we droped them, our model behaved better."
      ]
    },
    {
      "cell_type": "code",
      "metadata": {
        "id": "iEJ6W9w2rzC4"
      },
      "source": [
        "data2.dropna(inplace=True)"
      ],
      "execution_count": null,
      "outputs": []
    },
    {
      "cell_type": "code",
      "metadata": {
        "id": "w0_Ct5dPrzC8",
        "outputId": "2529c707-626c-49c8-9fab-46fb9c9fe7f4"
      },
      "source": [
        "data2[\"FRAUDE\"].unique()"
      ],
      "execution_count": null,
      "outputs": [
        {
          "output_type": "execute_result",
          "data": {
            "text/plain": [
              "array(['0', '1', '2', '3'], dtype=object)"
            ]
          },
          "metadata": {
            "tags": []
          },
          "execution_count": 18
        }
      ]
    },
    {
      "cell_type": "code",
      "metadata": {
        "id": "Ls4X0PrmrzC-"
      },
      "source": [
        "data2[\"FRAUDE\"]=data2[\"FRAUDE\"].astype(int)"
      ],
      "execution_count": null,
      "outputs": []
    },
    {
      "cell_type": "code",
      "metadata": {
        "id": "R4D4U6gvrzDA",
        "outputId": "8a1b5b1e-02cf-4153-ef18-45c6142e486a"
      },
      "source": [
        "data2[\"FRAUDE\"].value_counts()"
      ],
      "execution_count": null,
      "outputs": [
        {
          "output_type": "execute_result",
          "data": {
            "text/plain": [
              "0    510125\n",
              "1     10762\n",
              "2        67\n",
              "3        25\n",
              "Name: FRAUDE, dtype: int64"
            ]
          },
          "metadata": {
            "tags": []
          },
          "execution_count": 20
        }
      ]
    },
    {
      "cell_type": "markdown",
      "metadata": {
        "id": "sguLa-vxrzDC"
      },
      "source": [
        "We have 3 types of fraud. for the electricity, gaz , or both of them. \n",
        "<br> We will convert all of them to 1s in order to indicate that the client is fraudulant.\n"
      ]
    },
    {
      "cell_type": "code",
      "metadata": {
        "id": "rIU6PqkHrzDC"
      },
      "source": [
        "data2.loc[ data2['FRAUDE'] == 2, 'FRAUDE'] = 1\n",
        "data2.loc[ data2['FRAUDE'] == 3, 'FRAUDE'] = 1"
      ],
      "execution_count": null,
      "outputs": []
    },
    {
      "cell_type": "code",
      "metadata": {
        "id": "EP1iU4EdrzDE",
        "outputId": "78a8fdeb-dd77-4a1f-c103-d338ba7f746a"
      },
      "source": [
        "data2.FRAUDE.unique()"
      ],
      "execution_count": null,
      "outputs": [
        {
          "output_type": "execute_result",
          "data": {
            "text/plain": [
              "array([0, 1])"
            ]
          },
          "metadata": {
            "tags": []
          },
          "execution_count": 22
        }
      ]
    },
    {
      "cell_type": "code",
      "metadata": {
        "id": "nXxFYFywrzDH",
        "outputId": "53852530-1286-429e-8f4e-a9157d4352f7"
      },
      "source": [
        "data2.head()"
      ],
      "execution_count": null,
      "outputs": [
        {
          "output_type": "execute_result",
          "data": {
            "text/html": [
              "<div>\n",
              "<style scoped>\n",
              "    .dataframe tbody tr th:only-of-type {\n",
              "        vertical-align: middle;\n",
              "    }\n",
              "\n",
              "    .dataframe tbody tr th {\n",
              "        vertical-align: top;\n",
              "    }\n",
              "\n",
              "    .dataframe thead th {\n",
              "        text-align: right;\n",
              "    }\n",
              "</style>\n",
              "<table border=\"1\" class=\"dataframe\">\n",
              "  <thead>\n",
              "    <tr style=\"text-align: right;\">\n",
              "      <th></th>\n",
              "      <th>RC_UR_CODE</th>\n",
              "      <th>RC_CATEG_CODE</th>\n",
              "      <th>RC_COMMUNE_CODE</th>\n",
              "      <th>CF_AB_DAT_CREATION</th>\n",
              "      <th>FRAUDE</th>\n",
              "    </tr>\n",
              "    <tr>\n",
              "      <th>CF_AB_REF</th>\n",
              "      <th></th>\n",
              "      <th></th>\n",
              "      <th></th>\n",
              "      <th></th>\n",
              "      <th></th>\n",
              "    </tr>\n",
              "  </thead>\n",
              "  <tbody>\n",
              "    <tr>\n",
              "      <th>10010</th>\n",
              "      <td>60</td>\n",
              "      <td>11</td>\n",
              "      <td>101</td>\n",
              "      <td>15/01/2009</td>\n",
              "      <td>0</td>\n",
              "    </tr>\n",
              "    <tr>\n",
              "      <th>10020</th>\n",
              "      <td>60</td>\n",
              "      <td>11</td>\n",
              "      <td>101</td>\n",
              "      <td>29/04/2014</td>\n",
              "      <td>0</td>\n",
              "    </tr>\n",
              "    <tr>\n",
              "      <th>110020</th>\n",
              "      <td>60</td>\n",
              "      <td>11</td>\n",
              "      <td>101</td>\n",
              "      <td>23/12/2013</td>\n",
              "      <td>0</td>\n",
              "    </tr>\n",
              "    <tr>\n",
              "      <th>110050</th>\n",
              "      <td>60</td>\n",
              "      <td>51</td>\n",
              "      <td>101</td>\n",
              "      <td>08/10/2004</td>\n",
              "      <td>0</td>\n",
              "    </tr>\n",
              "    <tr>\n",
              "      <th>110070</th>\n",
              "      <td>60</td>\n",
              "      <td>51</td>\n",
              "      <td>101</td>\n",
              "      <td>08/10/2008</td>\n",
              "      <td>0</td>\n",
              "    </tr>\n",
              "  </tbody>\n",
              "</table>\n",
              "</div>"
            ],
            "text/plain": [
              "           RC_UR_CODE  RC_CATEG_CODE  RC_COMMUNE_CODE CF_AB_DAT_CREATION  \\\n",
              "CF_AB_REF                                                                  \n",
              "10010              60             11              101         15/01/2009   \n",
              "10020              60             11              101         29/04/2014   \n",
              "110020             60             11              101         23/12/2013   \n",
              "110050             60             51              101         08/10/2004   \n",
              "110070             60             51              101         08/10/2008   \n",
              "\n",
              "           FRAUDE  \n",
              "CF_AB_REF          \n",
              "10010           0  \n",
              "10020           0  \n",
              "110020          0  \n",
              "110050          0  \n",
              "110070          0  "
            ]
          },
          "metadata": {
            "tags": []
          },
          "execution_count": 23
        }
      ]
    },
    {
      "cell_type": "markdown",
      "metadata": {
        "id": "Bw5Js9NJrzDJ"
      },
      "source": [
        "### Consumption's dataframe cleaning"
      ]
    },
    {
      "cell_type": "markdown",
      "metadata": {
        "id": "35-fTbYfrzDJ"
      },
      "source": [
        "Droping the unnecessary columns"
      ]
    },
    {
      "cell_type": "code",
      "metadata": {
        "id": "g5XH_zRNrzDK"
      },
      "source": [
        "data.drop(\"CF_AB_CODE\",axis=1,inplace=True)"
      ],
      "execution_count": null,
      "outputs": []
    },
    {
      "cell_type": "code",
      "metadata": {
        "id": "MM1D8hX7rzDN"
      },
      "source": [
        "data.drop(\"RC_CCPTEUR_CODE\",axis=1,inplace=True)"
      ],
      "execution_count": null,
      "outputs": []
    },
    {
      "cell_type": "code",
      "metadata": {
        "id": "5s-pKC9przDQ"
      },
      "source": [
        "data.drop(\"RC_BT_ERLV_CODE\",axis=1,inplace=True)"
      ],
      "execution_count": null,
      "outputs": []
    },
    {
      "cell_type": "markdown",
      "metadata": {
        "id": "b1aaS74LrzDS"
      },
      "source": [
        "#### We will convert now our data"
      ]
    },
    {
      "cell_type": "markdown",
      "metadata": {
        "id": "M6DSr5FprzDS"
      },
      "source": [
        "In our model, we will classify the fraud detection based on the counters and not on the clients. For that reason we are going to work on the consumption  data set and we will further more generalize it using the client's dataset."
      ]
    },
    {
      "cell_type": "markdown",
      "metadata": {
        "id": "fPSsmX4OrzDT"
      },
      "source": [
        "We will start by converting the object types to the appropriate ones."
      ]
    },
    {
      "cell_type": "code",
      "metadata": {
        "id": "rLYGSPCGrzDT"
      },
      "source": [
        "data[\"CF_AB_REF\"]= data[\"CF_AB_REF\"].astype(int)"
      ],
      "execution_count": null,
      "outputs": []
    },
    {
      "cell_type": "code",
      "metadata": {
        "id": "loPKJWd6rzDV"
      },
      "source": [
        "data[\"CF_FACT_DATFACT\"] =  pd.to_datetime(data[\"CF_FACT_DATFACT\"])"
      ],
      "execution_count": null,
      "outputs": []
    },
    {
      "cell_type": "code",
      "metadata": {
        "id": "PYNmT_wArzDY"
      },
      "source": [
        "data[\"RC_BTTARIF_CODE\"] = data[\"RC_BTTARIF_CODE\"].astype(int)"
      ],
      "execution_count": null,
      "outputs": []
    },
    {
      "cell_type": "code",
      "metadata": {
        "id": "RFv-kTeLrzDb"
      },
      "source": [
        "data[\"RC_BT_SCPTR_CODE\"] = data[\"RC_BT_SCPTR_CODE\"].astype(int)"
      ],
      "execution_count": null,
      "outputs": []
    },
    {
      "cell_type": "code",
      "metadata": {
        "id": "5v1syrq8rzDd"
      },
      "source": [
        "data[\"BT_CONSO_COEFF\"] = data[\"BT_CONSO_COEFF\"].astype(int)"
      ],
      "execution_count": null,
      "outputs": []
    },
    {
      "cell_type": "code",
      "metadata": {
        "id": "N8hL5SFwrzDf"
      },
      "source": [
        "data[\"RC_BT_SCPTR_CODE\"]=data['RC_BT_SCPTR_CODE'].astype(int)  "
      ],
      "execution_count": null,
      "outputs": []
    },
    {
      "cell_type": "code",
      "metadata": {
        "id": "P11N0ZoGrzDi",
        "outputId": "7ebff138-1721-4b96-c130-ded89036f439"
      },
      "source": [
        "data[\"BT_CONSO_CONSO2\"].isnull().sum().sum()"
      ],
      "execution_count": null,
      "outputs": [
        {
          "output_type": "execute_result",
          "data": {
            "text/plain": [
              "1890"
            ]
          },
          "metadata": {
            "tags": []
          },
          "execution_count": 34
        }
      ]
    },
    {
      "cell_type": "code",
      "metadata": {
        "scrolled": true,
        "id": "-WjyfFeKrzDk",
        "outputId": "77a04729-0cc8-4a3d-83ec-5b1ff61966c2"
      },
      "source": [
        "new_train[\"FRAUDE\"][new_train[\"BT_CONSO_CONSO2\"].isnull()==True].value_counts()\n"
      ],
      "execution_count": null,
      "outputs": [
        {
          "output_type": "execute_result",
          "data": {
            "text/plain": [
              "0    1697\n",
              "Name: FRAUDE, dtype: int64"
            ]
          },
          "metadata": {
            "tags": []
          },
          "execution_count": 35
        }
      ]
    },
    {
      "cell_type": "code",
      "metadata": {
        "id": "AJUYkiOCrzDm",
        "outputId": "8ecfb163-c9c3-452b-a762-88e3c0a5d6a7"
      },
      "source": [
        "print(\"The proportion for this part of data is:\",1890/1048575)"
      ],
      "execution_count": null,
      "outputs": [
        {
          "output_type": "stream",
          "text": [
            "The proportion for this part of data is: 0.0018024461769544382\n"
          ],
          "name": "stdout"
        }
      ]
    },
    {
      "cell_type": "markdown",
      "metadata": {
        "id": "JEzm2o3przDq"
      },
      "source": [
        "As we see, we have 1890 missing values. Those 1890 missing values correspand to exactly 1890 row in our data. As consulted (when we compared the result according to the merged data), we saw that all of them are not frauders. As the proportion of non frauders is much more higher than of those who are frauders. We decided that we are going to drop those rows."
      ]
    },
    {
      "cell_type": "code",
      "metadata": {
        "id": "fJU7pdSLrzDr"
      },
      "source": [
        "data.dropna(inplace=True)"
      ],
      "execution_count": null,
      "outputs": []
    },
    {
      "cell_type": "code",
      "metadata": {
        "id": "kf8O_oNprzDt"
      },
      "source": [
        "data[\"BT_CONSO_CONSO1\"] = data[\"BT_CONSO_CONSO1\"].astype(int)\n",
        "data[\"BT_CONSO_CONSO2\"] = data[\"BT_CONSO_CONSO2\"].astype(int)\n",
        "data[\"BT_CONSO_CONSO3\"] = data[\"BT_CONSO_CONSO3\"].astype(int)\n",
        "data[\"BT_CONSO_CONSO4\"] = data[\"BT_CONSO_CONSO4\"].astype(int)"
      ],
      "execution_count": null,
      "outputs": []
    },
    {
      "cell_type": "markdown",
      "metadata": {
        "id": "D8wOrpsUrzDv"
      },
      "source": [
        "#### Creation of the \"Consomation\" column."
      ]
    },
    {
      "cell_type": "code",
      "metadata": {
        "id": "w3ga-x8LrzDw"
      },
      "source": [
        "data[\"BT_CONSO_NINDEX\"]=data[\"BT_CONSO_NINDEX\"].astype(int)\n",
        "data[\"BT_CONSO_AINDEX\"]=data[\"BT_CONSO_AINDEX\"].astype(int)\n",
        "\n",
        "data[\"Consomation\"]=data[\"BT_CONSO_NINDEX\"]-data[\"BT_CONSO_AINDEX\"]\n",
        "\n",
        "data.drop(\"BT_CONSO_AINDEX\",axis=1,inplace=True)\n",
        "data.drop(\"BT_CONSO_NINDEX\",axis=1,inplace=True)"
      ],
      "execution_count": null,
      "outputs": []
    },
    {
      "cell_type": "code",
      "metadata": {
        "id": "HX0dkuXwrzDz"
      },
      "source": [
        "data[\"BT_CONSO_NBRMOIS\"]=data[\"BT_CONSO_NBRMOIS\"].astype(int)"
      ],
      "execution_count": null,
      "outputs": []
    },
    {
      "cell_type": "code",
      "metadata": {
        "id": "T4CWaJslrzD1",
        "outputId": "53ed869c-c1e6-4a3f-d1a3-7187c56e3f32"
      },
      "source": [
        "data.dtypes"
      ],
      "execution_count": null,
      "outputs": [
        {
          "output_type": "execute_result",
          "data": {
            "text/plain": [
              "CF_AB_REF                    int32\n",
              "CF_FACT_DATFACT     datetime64[ns]\n",
              "RC_BTTARIF_CODE              int32\n",
              "BT_CONSO_NUMCPTR            object\n",
              "RC_BT_SCPTR_CODE             int32\n",
              "BT_CONSO_COEFF               int32\n",
              "BT_CONSO_CONSO1              int32\n",
              "BT_CONSO_CONSO2              int32\n",
              "BT_CONSO_CONSO3              int32\n",
              "BT_CONSO_CONSO4              int32\n",
              "BT_CONSO_NBRMOIS             int32\n",
              "Consomation                  int32\n",
              "dtype: object"
            ]
          },
          "metadata": {
            "tags": []
          },
          "execution_count": 41
        }
      ]
    },
    {
      "cell_type": "markdown",
      "metadata": {
        "id": "8_naiyQhrzD3"
      },
      "source": [
        "All type are now as described"
      ]
    },
    {
      "cell_type": "markdown",
      "metadata": {
        "id": "_rSTsrcZrzD4"
      },
      "source": [
        "#### Verifing the data range."
      ]
    },
    {
      "cell_type": "code",
      "metadata": {
        "id": "BSn15KdsrzD4"
      },
      "source": [
        "data.set_index(\"CF_AB_REF\",inplace=True)"
      ],
      "execution_count": null,
      "outputs": []
    },
    {
      "cell_type": "code",
      "metadata": {
        "id": "40dgn5yurzD6",
        "outputId": "4b9fe02b-6921-45b7-ad9d-ef0e906a96c5"
      },
      "source": [
        "data[\"BT_CONSO_NBRMOIS\"][data[\"BT_CONSO_NBRMOIS\"] >94].value_counts()"
      ],
      "execution_count": null,
      "outputs": [
        {
          "output_type": "execute_result",
          "data": {
            "text/plain": [
              "28229    2\n",
              "28223    1\n",
              "28263    1\n",
              "28259    1\n",
              "24100    1\n",
              "28273    1\n",
              "28231    1\n",
              "26184    1\n",
              "24612    1\n",
              "27564    1\n",
              "26677    1\n",
              "28274    1\n",
              "25203    1\n",
              "24949    1\n",
              "27895    1\n",
              "28248    1\n",
              "27161    1\n",
              "25698    1\n",
              "Name: BT_CONSO_NBRMOIS, dtype: int64"
            ]
          },
          "metadata": {
            "tags": []
          },
          "execution_count": 43
        }
      ]
    },
    {
      "cell_type": "code",
      "metadata": {
        "id": "it158Z-IrzD-",
        "outputId": "9c9b049e-50bf-4f22-97a3-43fd59b66897"
      },
      "source": [
        "print(np.where(data[\"BT_CONSO_NBRMOIS\"] >94))\n"
      ],
      "execution_count": null,
      "outputs": [
        {
          "output_type": "stream",
          "text": [
            "(array([659072, 659074, 659076, 659079, 659082, 659085, 659088, 659091,\n",
            "       659092, 659095, 659098, 659101, 659420, 659423, 659426, 659428,\n",
            "       659431, 659434, 659436], dtype=int64),)\n"
          ],
          "name": "stdout"
        }
      ]
    },
    {
      "cell_type": "code",
      "metadata": {
        "id": "b0eZo0gXrzEA"
      },
      "source": [
        "data[\"BT_CONSO_NBRMOIS\"]=data[\"BT_CONSO_NBRMOIS\"].apply(lambda x:min(x,94))"
      ],
      "execution_count": null,
      "outputs": []
    },
    {
      "cell_type": "markdown",
      "metadata": {
        "id": "6iykXPvnrzEC"
      },
      "source": [
        "According to the description of our data , at most we will have 94 months between the new and the old  measure of the  indexs index , as we saw we have greater result, this is may be due to some unknown error , for that reason , we sat up all this values to the value of 94."
      ]
    },
    {
      "cell_type": "code",
      "metadata": {
        "id": "wDtF1uP2rzEC",
        "outputId": "22f147d9-2d69-44dd-8b48-75b46c0dee89"
      },
      "source": [
        "data[\"BT_CONSO_NBRMOIS\"].max()"
      ],
      "execution_count": null,
      "outputs": [
        {
          "output_type": "execute_result",
          "data": {
            "text/plain": [
              "94"
            ]
          },
          "metadata": {
            "tags": []
          },
          "execution_count": 46
        }
      ]
    },
    {
      "cell_type": "markdown",
      "metadata": {
        "id": "lBi0Y5W2rzEE"
      },
      "source": [
        "As we see , we have solved this problem."
      ]
    },
    {
      "cell_type": "code",
      "metadata": {
        "id": "mYhMBkEkrzEE",
        "outputId": "80aaf0cb-e714-487e-c25c-ac900b42296c"
      },
      "source": [
        "data.dtypes"
      ],
      "execution_count": null,
      "outputs": [
        {
          "output_type": "execute_result",
          "data": {
            "text/plain": [
              "CF_FACT_DATFACT     datetime64[ns]\n",
              "RC_BTTARIF_CODE              int32\n",
              "BT_CONSO_NUMCPTR            object\n",
              "RC_BT_SCPTR_CODE             int32\n",
              "BT_CONSO_COEFF               int32\n",
              "BT_CONSO_CONSO1              int32\n",
              "BT_CONSO_CONSO2              int32\n",
              "BT_CONSO_CONSO3              int32\n",
              "BT_CONSO_CONSO4              int32\n",
              "BT_CONSO_NBRMOIS             int64\n",
              "Consomation                  int32\n",
              "dtype: object"
            ]
          },
          "metadata": {
            "tags": []
          },
          "execution_count": 47
        }
      ]
    },
    {
      "cell_type": "code",
      "metadata": {
        "id": "aVH5ui7yrzEH",
        "outputId": "ec32193c-7827-42c3-eef0-a9617e8e24fe"
      },
      "source": [
        "data[\"RC_BT_SCPTR_CODE\"].unique()"
      ],
      "execution_count": null,
      "outputs": [
        {
          "output_type": "execute_result",
          "data": {
            "text/plain": [
              "array([     0,      1,      5,      4,      3,      2, 282181])"
            ]
          },
          "metadata": {
            "tags": []
          },
          "execution_count": 48
        }
      ]
    },
    {
      "cell_type": "code",
      "metadata": {
        "id": "XZt5EYlZrzEL",
        "outputId": "a8a6b540-d33f-4b54-d77c-9191c3ff2805"
      },
      "source": [
        "data[\"RC_BT_SCPTR_CODE\"].value_counts(ascending=True)\n"
      ],
      "execution_count": null,
      "outputs": [
        {
          "output_type": "execute_result",
          "data": {
            "text/plain": [
              "282181         19\n",
              "2              42\n",
              "3             101\n",
              "4            1085\n",
              "5            6893\n",
              "1           12424\n",
              "0         1026121\n",
              "Name: RC_BT_SCPTR_CODE, dtype: int64"
            ]
          },
          "metadata": {
            "tags": []
          },
          "execution_count": 49
        }
      ]
    },
    {
      "cell_type": "markdown",
      "metadata": {
        "id": "X9YISN0WrzEN"
      },
      "source": [
        "We have 19 values that violate the range of our data as described.So we are going to drop those values so that we can't make wrong assumptions."
      ]
    },
    {
      "cell_type": "code",
      "metadata": {
        "id": "TTeSY213rzEO",
        "outputId": "02ef66ae-8ccf-41de-c675-0f644a16d4ef"
      },
      "source": [
        "new_train[\"FRAUDE\"][new_train[\"RC_BT_SCPTR_CODE\"]==\"282181\"].value_counts()\n",
        " "
      ],
      "execution_count": null,
      "outputs": [
        {
          "output_type": "execute_result",
          "data": {
            "text/plain": [
              "0    19\n",
              "Name: FRAUDE, dtype: int64"
            ]
          },
          "metadata": {
            "tags": []
          },
          "execution_count": 50
        }
      ]
    },
    {
      "cell_type": "code",
      "metadata": {
        "id": "VP6Q5vJurzET"
      },
      "source": [
        "data.drop(data.loc[data['RC_BT_SCPTR_CODE']==282181].index, inplace=True)"
      ],
      "execution_count": null,
      "outputs": []
    },
    {
      "cell_type": "code",
      "metadata": {
        "id": "HLSX4PT0rzEV",
        "outputId": "97b779e9-ae99-4b9a-d9c3-ff2c4a8ef439"
      },
      "source": [
        "data[\"RC_BT_SCPTR_CODE\"].value_counts(ascending=True)"
      ],
      "execution_count": null,
      "outputs": [
        {
          "output_type": "execute_result",
          "data": {
            "text/plain": [
              "2         42\n",
              "3        101\n",
              "4       1085\n",
              "5       6893\n",
              "1      12423\n",
              "0    1026052\n",
              "Name: RC_BT_SCPTR_CODE, dtype: int64"
            ]
          },
          "metadata": {
            "tags": []
          },
          "execution_count": 52
        }
      ]
    },
    {
      "cell_type": "markdown",
      "metadata": {
        "id": "6K1zkp5DrzEX"
      },
      "source": [
        "For the moment, we will not do anything , for this ordinal categorical variable , as we don't have enough information about it."
      ]
    },
    {
      "cell_type": "code",
      "metadata": {
        "id": "QeITO80UrzEY",
        "outputId": "f3b34ec2-92f6-499a-e3d9-88aefdb67b97"
      },
      "source": [
        "data[\"RC_BTTARIF_CODE\"].unique()"
      ],
      "execution_count": null,
      "outputs": [
        {
          "output_type": "execute_result",
          "data": {
            "text/plain": [
              "array([11, 40, 15, 45,  9, 10, 29, 12, 13, 14, 21,  8, 30, 41, 27, 42, 28,\n",
              "       43])"
            ]
          },
          "metadata": {
            "tags": []
          },
          "execution_count": 53
        }
      ]
    },
    {
      "cell_type": "markdown",
      "metadata": {
        "id": "jhVI5SszrzEf"
      },
      "source": [
        "This column explain either we are using an electric counter or w gaz one , for that reason we are going to classify this into 2 categories <br>\n",
        "1:elect\n",
        "<br>2:gaz"
      ]
    },
    {
      "cell_type": "code",
      "metadata": {
        "id": "ezotwNhNrzEg"
      },
      "source": [
        "data.loc[ data['RC_BTTARIF_CODE'] <= 29, 'RC_BTTARIF_CODE'] = 1\n",
        "data.loc[ data['RC_BTTARIF_CODE'] > 29, 'RC_BTTARIF_CODE'] = 2"
      ],
      "execution_count": null,
      "outputs": []
    },
    {
      "cell_type": "code",
      "metadata": {
        "id": "EH42KiiGrzEi",
        "outputId": "3dd0b43e-b341-4202-a36e-1e4eaa07e7d7"
      },
      "source": [
        "data[\"RC_BTTARIF_CODE\"].value_counts()"
      ],
      "execution_count": null,
      "outputs": [
        {
          "output_type": "execute_result",
          "data": {
            "text/plain": [
              "1    649269\n",
              "2    397327\n",
              "Name: RC_BTTARIF_CODE, dtype: int64"
            ]
          },
          "metadata": {
            "tags": []
          },
          "execution_count": 55
        }
      ]
    },
    {
      "cell_type": "markdown",
      "metadata": {
        "id": "3gIKExIQrzEk"
      },
      "source": [
        "As we said in class we will focus only in fraud detection conserning electricity. We will drop the gaz one."
      ]
    },
    {
      "cell_type": "code",
      "metadata": {
        "id": "KfeygxO_rzEk"
      },
      "source": [
        "data=data[data['RC_BTTARIF_CODE']==1]"
      ],
      "execution_count": null,
      "outputs": []
    },
    {
      "cell_type": "code",
      "metadata": {
        "id": "zVLRniFJrzEm"
      },
      "source": [
        "data.drop(\"RC_BTTARIF_CODE\",1,inplace=True)"
      ],
      "execution_count": null,
      "outputs": []
    },
    {
      "cell_type": "code",
      "metadata": {
        "id": "5GdxAgiIrzEq",
        "outputId": "e13ba6f2-782e-4a46-a462-afc07bfb6f62"
      },
      "source": [
        "data.head()"
      ],
      "execution_count": null,
      "outputs": [
        {
          "output_type": "execute_result",
          "data": {
            "text/html": [
              "<div>\n",
              "<style scoped>\n",
              "    .dataframe tbody tr th:only-of-type {\n",
              "        vertical-align: middle;\n",
              "    }\n",
              "\n",
              "    .dataframe tbody tr th {\n",
              "        vertical-align: top;\n",
              "    }\n",
              "\n",
              "    .dataframe thead th {\n",
              "        text-align: right;\n",
              "    }\n",
              "</style>\n",
              "<table border=\"1\" class=\"dataframe\">\n",
              "  <thead>\n",
              "    <tr style=\"text-align: right;\">\n",
              "      <th></th>\n",
              "      <th>CF_FACT_DATFACT</th>\n",
              "      <th>BT_CONSO_NUMCPTR</th>\n",
              "      <th>RC_BT_SCPTR_CODE</th>\n",
              "      <th>BT_CONSO_COEFF</th>\n",
              "      <th>BT_CONSO_CONSO1</th>\n",
              "      <th>BT_CONSO_CONSO2</th>\n",
              "      <th>BT_CONSO_CONSO3</th>\n",
              "      <th>BT_CONSO_CONSO4</th>\n",
              "      <th>BT_CONSO_NBRMOIS</th>\n",
              "      <th>Consomation</th>\n",
              "    </tr>\n",
              "    <tr>\n",
              "      <th>CF_AB_REF</th>\n",
              "      <th></th>\n",
              "      <th></th>\n",
              "      <th></th>\n",
              "      <th></th>\n",
              "      <th></th>\n",
              "      <th></th>\n",
              "      <th></th>\n",
              "      <th></th>\n",
              "      <th></th>\n",
              "      <th></th>\n",
              "    </tr>\n",
              "  </thead>\n",
              "  <tbody>\n",
              "    <tr>\n",
              "      <th>110050</th>\n",
              "      <td>2017-03-10</td>\n",
              "      <td>124416</td>\n",
              "      <td>0</td>\n",
              "      <td>1</td>\n",
              "      <td>200</td>\n",
              "      <td>100</td>\n",
              "      <td>200</td>\n",
              "      <td>3409</td>\n",
              "      <td>1</td>\n",
              "      <td>3909</td>\n",
              "    </tr>\n",
              "    <tr>\n",
              "      <th>110050</th>\n",
              "      <td>2017-05-12</td>\n",
              "      <td>124416</td>\n",
              "      <td>0</td>\n",
              "      <td>1</td>\n",
              "      <td>200</td>\n",
              "      <td>100</td>\n",
              "      <td>200</td>\n",
              "      <td>4327</td>\n",
              "      <td>1</td>\n",
              "      <td>4827</td>\n",
              "    </tr>\n",
              "    <tr>\n",
              "      <th>110050</th>\n",
              "      <td>2018-02-02</td>\n",
              "      <td>124416</td>\n",
              "      <td>0</td>\n",
              "      <td>1</td>\n",
              "      <td>200</td>\n",
              "      <td>100</td>\n",
              "      <td>200</td>\n",
              "      <td>3756</td>\n",
              "      <td>1</td>\n",
              "      <td>4256</td>\n",
              "    </tr>\n",
              "    <tr>\n",
              "      <th>110050</th>\n",
              "      <td>2018-02-03</td>\n",
              "      <td>124416</td>\n",
              "      <td>0</td>\n",
              "      <td>1</td>\n",
              "      <td>200</td>\n",
              "      <td>100</td>\n",
              "      <td>200</td>\n",
              "      <td>4130</td>\n",
              "      <td>1</td>\n",
              "      <td>4630</td>\n",
              "    </tr>\n",
              "    <tr>\n",
              "      <th>110050</th>\n",
              "      <td>2018-03-04</td>\n",
              "      <td>124416</td>\n",
              "      <td>0</td>\n",
              "      <td>1</td>\n",
              "      <td>200</td>\n",
              "      <td>100</td>\n",
              "      <td>200</td>\n",
              "      <td>3732</td>\n",
              "      <td>1</td>\n",
              "      <td>4232</td>\n",
              "    </tr>\n",
              "  </tbody>\n",
              "</table>\n",
              "</div>"
            ],
            "text/plain": [
              "          CF_FACT_DATFACT BT_CONSO_NUMCPTR  RC_BT_SCPTR_CODE  BT_CONSO_COEFF  \\\n",
              "CF_AB_REF                                                                      \n",
              "110050         2017-03-10           124416                 0               1   \n",
              "110050         2017-05-12           124416                 0               1   \n",
              "110050         2018-02-02           124416                 0               1   \n",
              "110050         2018-02-03           124416                 0               1   \n",
              "110050         2018-03-04           124416                 0               1   \n",
              "\n",
              "           BT_CONSO_CONSO1  BT_CONSO_CONSO2  BT_CONSO_CONSO3  BT_CONSO_CONSO4  \\\n",
              "CF_AB_REF                                                                       \n",
              "110050                 200              100              200             3409   \n",
              "110050                 200              100              200             4327   \n",
              "110050                 200              100              200             3756   \n",
              "110050                 200              100              200             4130   \n",
              "110050                 200              100              200             3732   \n",
              "\n",
              "           BT_CONSO_NBRMOIS  Consomation  \n",
              "CF_AB_REF                                 \n",
              "110050                    1         3909  \n",
              "110050                    1         4827  \n",
              "110050                    1         4256  \n",
              "110050                    1         4630  \n",
              "110050                    1         4232  "
            ]
          },
          "metadata": {
            "tags": []
          },
          "execution_count": 58
        }
      ]
    },
    {
      "cell_type": "markdown",
      "metadata": {
        "id": "UL9xwd7NrzEt"
      },
      "source": [
        "Data cleaning , deleting the rows that have unknown counter names."
      ]
    },
    {
      "cell_type": "code",
      "metadata": {
        "id": "i2x3m4y7rzEt"
      },
      "source": [
        "data = data[data.BT_CONSO_NUMCPTR != 'FICTIF']\n",
        "data = data[data.BT_CONSO_NUMCPTR != 'fictif']\n",
        "data = data[data.BT_CONSO_NUMCPTR != 'fectif']"
      ],
      "execution_count": null,
      "outputs": []
    },
    {
      "cell_type": "markdown",
      "metadata": {
        "id": "J0S9IwVSrzEx"
      },
      "source": [
        "## Generating new features"
      ]
    },
    {
      "cell_type": "markdown",
      "metadata": {
        "id": "WaThy9uUrzEy"
      },
      "source": [
        "We can create new variable here to idicate the ratio of consumption every month"
      ]
    },
    {
      "cell_type": "markdown",
      "metadata": {
        "id": "Gv7T7P8VrzEy"
      },
      "source": [
        "Before we do that, let's explore the consumption feature.\n"
      ]
    },
    {
      "cell_type": "code",
      "metadata": {
        "id": "h9bM0rlIrzEy"
      },
      "source": [
        "data=data[data[\"Consomation\"]>=0]"
      ],
      "execution_count": null,
      "outputs": []
    },
    {
      "cell_type": "code",
      "metadata": {
        "id": "8IQtNTKarzE2"
      },
      "source": [
        "data[\"ratio_consumtion\"] = (data[\"Consomation\"]/data[\"BT_CONSO_NBRMOIS\"])"
      ],
      "execution_count": null,
      "outputs": []
    },
    {
      "cell_type": "code",
      "metadata": {
        "id": "EPhSQY5vrzE3",
        "outputId": "b8a8e46f-3b21-4676-d299-6da0be8c4e1b"
      },
      "source": [
        "max(data[\"ratio_consumtion\"])-min(data[\"ratio_consumtion\"])"
      ],
      "execution_count": null,
      "outputs": [
        {
          "output_type": "execute_result",
          "data": {
            "text/plain": [
              "111304.0"
            ]
          },
          "metadata": {
            "tags": []
          },
          "execution_count": 62
        }
      ]
    },
    {
      "cell_type": "markdown",
      "metadata": {
        "id": "bYmR6WxprzE5"
      },
      "source": [
        "We have a big range of values here,\n",
        "we are likely to apply data standardisation in order to avoid all types of overfitting."
      ]
    },
    {
      "cell_type": "code",
      "metadata": {
        "id": "AeZUrTg-rzE5"
      },
      "source": [
        "data[\"Consommation_all_palier\"]=data[\"BT_CONSO_CONSO1\"]+data[\"BT_CONSO_CONSO2\"]+data[\"BT_CONSO_CONSO3\"]+data[\"BT_CONSO_CONSO4\"]"
      ],
      "execution_count": null,
      "outputs": []
    },
    {
      "cell_type": "markdown",
      "metadata": {
        "id": "GAbbZIlhrzE6"
      },
      "source": [
        "Generation ration for all levels of consumption"
      ]
    },
    {
      "cell_type": "code",
      "metadata": {
        "id": "XoJWu2y7rzE7"
      },
      "source": [
        "data[\"CONS1_ratio\"]=data[\"BT_CONSO_CONSO1\"]/data[\"Consommation_all_palier\"]\n",
        "data[\"CONS2_ratio\"]=data[\"BT_CONSO_CONSO2\"]/data[\"Consommation_all_palier\"]\n",
        "data[\"CONS3_ratio\"]=data[\"BT_CONSO_CONSO3\"]/data[\"Consommation_all_palier\"]\n",
        "data[\"CONS4_ratio\"]=data[\"BT_CONSO_CONSO4\"]/data[\"Consommation_all_palier\"]"
      ],
      "execution_count": null,
      "outputs": []
    },
    {
      "cell_type": "code",
      "metadata": {
        "id": "-TIvnGtfrzE9"
      },
      "source": [
        "data.drop(\"Consommation_all_palier\",axis=1,inplace=True)"
      ],
      "execution_count": null,
      "outputs": []
    },
    {
      "cell_type": "code",
      "metadata": {
        "scrolled": true,
        "id": "OXNx565erzE_",
        "outputId": "d4ef5078-adaf-4af9-8454-99516630ca74"
      },
      "source": [
        "data['CF_FACT_DATFACT']"
      ],
      "execution_count": null,
      "outputs": [
        {
          "output_type": "execute_result",
          "data": {
            "text/plain": [
              "CF_AB_REF\n",
              "110050    2017-03-10\n",
              "110050    2017-05-12\n",
              "110050    2018-02-02\n",
              "110050    2018-02-03\n",
              "110050    2018-03-04\n",
              "             ...    \n",
              "3755650   2009-02-06\n",
              "3755650   2010-02-02\n",
              "3755650   2010-05-28\n",
              "3755650   2010-09-27\n",
              "3755650   2011-07-02\n",
              "Name: CF_FACT_DATFACT, Length: 646131, dtype: datetime64[ns]"
            ]
          },
          "metadata": {
            "tags": []
          },
          "execution_count": 66
        }
      ]
    },
    {
      "cell_type": "markdown",
      "metadata": {
        "id": "D5FW7_q6rzFD"
      },
      "source": [
        "Let's take a look at the corrolation matrix."
      ]
    },
    {
      "cell_type": "code",
      "metadata": {
        "id": "Qst2YoyJrzFD",
        "outputId": "98729ab5-c049-47f6-ed87-e2c8d0210ba9"
      },
      "source": [
        "corrmat = data.corr()\n",
        "f, ax = plt.subplots(figsize=(30, 20))\n",
        "sns.heatmap(corrmat,vmax=0.9, square=True,annot=True)\n",
        "plt.show();"
      ],
      "execution_count": null,
      "outputs": [
        {
          "output_type": "display_data",
          "data": {
            "image/png": "[encoded data removed]",
            "text/plain": [
              "<Figure size 2160x1440 with 2 Axes>"
            ]
          },
          "metadata": {
            "tags": []
          }
        }
      ]
    },
    {
      "cell_type": "markdown",
      "metadata": {
        "id": "7WmPpz9VrzFF"
      },
      "source": [
        "As we see, most of the features that we have created are not  corrolated with each other. So most likely  that this data will not overfit the model. Although, We will take that into considaration when we will test our model. We may decide to drop some of them for the sake of our project."
      ]
    },
    {
      "cell_type": "code",
      "metadata": {
        "id": "3_BLhOHYrzFF"
      },
      "source": [
        "data.drop(\"ratio_consumtion\",1,inplace=True)"
      ],
      "execution_count": null,
      "outputs": []
    },
    {
      "cell_type": "markdown",
      "metadata": {
        "id": "JbF_CoderzFH"
      },
      "source": [
        "We will create a new feature from the date column."
      ]
    },
    {
      "cell_type": "code",
      "metadata": {
        "id": "lNsB8-JcrzFH"
      },
      "source": [
        "data['quarter'] = data['CF_FACT_DATFACT'].dt.quarter"
      ],
      "execution_count": null,
      "outputs": []
    },
    {
      "cell_type": "markdown",
      "metadata": {
        "id": "Xh8MHXcTrzFJ"
      },
      "source": [
        "We already took what we want to from the date feature, It is useless for us now, we are going to drop it."
      ]
    },
    {
      "cell_type": "code",
      "metadata": {
        "id": "ANOVcUwQrzFJ"
      },
      "source": [
        "data.drop(\"CF_FACT_DATFACT\",1,inplace=True)"
      ],
      "execution_count": null,
      "outputs": []
    },
    {
      "cell_type": "markdown",
      "metadata": {
        "id": "UI97vbWTrzFK"
      },
      "source": [
        "## New merge (After cleaning)"
      ]
    },
    {
      "cell_type": "code",
      "metadata": {
        "id": "uh1ea3UBrzFL"
      },
      "source": [
        "new_train = pd.merge(data,data2, on=\"CF_AB_REF\",how=\"inner\")"
      ],
      "execution_count": null,
      "outputs": []
    },
    {
      "cell_type": "code",
      "metadata": {
        "id": "-ci8ehFurzFM",
        "outputId": "a1e4ef29-1bdc-4946-c9ae-72bf63366e92"
      },
      "source": [
        "new_train.head()"
      ],
      "execution_count": null,
      "outputs": [
        {
          "output_type": "execute_result",
          "data": {
            "text/html": [
              "<div>\n",
              "<style scoped>\n",
              "    .dataframe tbody tr th:only-of-type {\n",
              "        vertical-align: middle;\n",
              "    }\n",
              "\n",
              "    .dataframe tbody tr th {\n",
              "        vertical-align: top;\n",
              "    }\n",
              "\n",
              "    .dataframe thead th {\n",
              "        text-align: right;\n",
              "    }\n",
              "</style>\n",
              "<table border=\"1\" class=\"dataframe\">\n",
              "  <thead>\n",
              "    <tr style=\"text-align: right;\">\n",
              "      <th></th>\n",
              "      <th>BT_CONSO_NUMCPTR</th>\n",
              "      <th>RC_BT_SCPTR_CODE</th>\n",
              "      <th>BT_CONSO_COEFF</th>\n",
              "      <th>BT_CONSO_CONSO1</th>\n",
              "      <th>BT_CONSO_CONSO2</th>\n",
              "      <th>BT_CONSO_CONSO3</th>\n",
              "      <th>BT_CONSO_CONSO4</th>\n",
              "      <th>BT_CONSO_NBRMOIS</th>\n",
              "      <th>Consomation</th>\n",
              "      <th>CONS1_ratio</th>\n",
              "      <th>CONS2_ratio</th>\n",
              "      <th>CONS3_ratio</th>\n",
              "      <th>CONS4_ratio</th>\n",
              "      <th>quarter</th>\n",
              "      <th>RC_UR_CODE</th>\n",
              "      <th>RC_CATEG_CODE</th>\n",
              "      <th>RC_COMMUNE_CODE</th>\n",
              "      <th>CF_AB_DAT_CREATION</th>\n",
              "      <th>FRAUDE</th>\n",
              "    </tr>\n",
              "    <tr>\n",
              "      <th>CF_AB_REF</th>\n",
              "      <th></th>\n",
              "      <th></th>\n",
              "      <th></th>\n",
              "      <th></th>\n",
              "      <th></th>\n",
              "      <th></th>\n",
              "      <th></th>\n",
              "      <th></th>\n",
              "      <th></th>\n",
              "      <th></th>\n",
              "      <th></th>\n",
              "      <th></th>\n",
              "      <th></th>\n",
              "      <th></th>\n",
              "      <th></th>\n",
              "      <th></th>\n",
              "      <th></th>\n",
              "      <th></th>\n",
              "      <th></th>\n",
              "    </tr>\n",
              "  </thead>\n",
              "  <tbody>\n",
              "    <tr>\n",
              "      <th>110050</th>\n",
              "      <td>124416</td>\n",
              "      <td>0</td>\n",
              "      <td>1</td>\n",
              "      <td>200</td>\n",
              "      <td>100</td>\n",
              "      <td>200</td>\n",
              "      <td>3409</td>\n",
              "      <td>1</td>\n",
              "      <td>3909</td>\n",
              "      <td>0.051164</td>\n",
              "      <td>0.025582</td>\n",
              "      <td>0.051164</td>\n",
              "      <td>0.872090</td>\n",
              "      <td>1</td>\n",
              "      <td>60</td>\n",
              "      <td>51</td>\n",
              "      <td>101</td>\n",
              "      <td>08/10/2004</td>\n",
              "      <td>0</td>\n",
              "    </tr>\n",
              "    <tr>\n",
              "      <th>110050</th>\n",
              "      <td>124416</td>\n",
              "      <td>0</td>\n",
              "      <td>1</td>\n",
              "      <td>200</td>\n",
              "      <td>100</td>\n",
              "      <td>200</td>\n",
              "      <td>4327</td>\n",
              "      <td>1</td>\n",
              "      <td>4827</td>\n",
              "      <td>0.041434</td>\n",
              "      <td>0.020717</td>\n",
              "      <td>0.041434</td>\n",
              "      <td>0.896416</td>\n",
              "      <td>2</td>\n",
              "      <td>60</td>\n",
              "      <td>51</td>\n",
              "      <td>101</td>\n",
              "      <td>08/10/2004</td>\n",
              "      <td>0</td>\n",
              "    </tr>\n",
              "    <tr>\n",
              "      <th>110050</th>\n",
              "      <td>124416</td>\n",
              "      <td>0</td>\n",
              "      <td>1</td>\n",
              "      <td>200</td>\n",
              "      <td>100</td>\n",
              "      <td>200</td>\n",
              "      <td>3756</td>\n",
              "      <td>1</td>\n",
              "      <td>4256</td>\n",
              "      <td>0.046992</td>\n",
              "      <td>0.023496</td>\n",
              "      <td>0.046992</td>\n",
              "      <td>0.882519</td>\n",
              "      <td>1</td>\n",
              "      <td>60</td>\n",
              "      <td>51</td>\n",
              "      <td>101</td>\n",
              "      <td>08/10/2004</td>\n",
              "      <td>0</td>\n",
              "    </tr>\n",
              "    <tr>\n",
              "      <th>110050</th>\n",
              "      <td>124416</td>\n",
              "      <td>0</td>\n",
              "      <td>1</td>\n",
              "      <td>200</td>\n",
              "      <td>100</td>\n",
              "      <td>200</td>\n",
              "      <td>4130</td>\n",
              "      <td>1</td>\n",
              "      <td>4630</td>\n",
              "      <td>0.043197</td>\n",
              "      <td>0.021598</td>\n",
              "      <td>0.043197</td>\n",
              "      <td>0.892009</td>\n",
              "      <td>1</td>\n",
              "      <td>60</td>\n",
              "      <td>51</td>\n",
              "      <td>101</td>\n",
              "      <td>08/10/2004</td>\n",
              "      <td>0</td>\n",
              "    </tr>\n",
              "    <tr>\n",
              "      <th>110050</th>\n",
              "      <td>124416</td>\n",
              "      <td>0</td>\n",
              "      <td>1</td>\n",
              "      <td>200</td>\n",
              "      <td>100</td>\n",
              "      <td>200</td>\n",
              "      <td>3732</td>\n",
              "      <td>1</td>\n",
              "      <td>4232</td>\n",
              "      <td>0.047259</td>\n",
              "      <td>0.023629</td>\n",
              "      <td>0.047259</td>\n",
              "      <td>0.881853</td>\n",
              "      <td>1</td>\n",
              "      <td>60</td>\n",
              "      <td>51</td>\n",
              "      <td>101</td>\n",
              "      <td>08/10/2004</td>\n",
              "      <td>0</td>\n",
              "    </tr>\n",
              "  </tbody>\n",
              "</table>\n",
              "</div>"
            ],
            "text/plain": [
              "          BT_CONSO_NUMCPTR  RC_BT_SCPTR_CODE  BT_CONSO_COEFF  BT_CONSO_CONSO1  \\\n",
              "CF_AB_REF                                                                       \n",
              "110050              124416                 0               1              200   \n",
              "110050              124416                 0               1              200   \n",
              "110050              124416                 0               1              200   \n",
              "110050              124416                 0               1              200   \n",
              "110050              124416                 0               1              200   \n",
              "\n",
              "           BT_CONSO_CONSO2  BT_CONSO_CONSO3  BT_CONSO_CONSO4  \\\n",
              "CF_AB_REF                                                      \n",
              "110050                 100              200             3409   \n",
              "110050                 100              200             4327   \n",
              "110050                 100              200             3756   \n",
              "110050                 100              200             4130   \n",
              "110050                 100              200             3732   \n",
              "\n",
              "           BT_CONSO_NBRMOIS  Consomation  CONS1_ratio  CONS2_ratio  \\\n",
              "CF_AB_REF                                                            \n",
              "110050                    1         3909     0.051164     0.025582   \n",
              "110050                    1         4827     0.041434     0.020717   \n",
              "110050                    1         4256     0.046992     0.023496   \n",
              "110050                    1         4630     0.043197     0.021598   \n",
              "110050                    1         4232     0.047259     0.023629   \n",
              "\n",
              "           CONS3_ratio  CONS4_ratio  quarter  RC_UR_CODE  RC_CATEG_CODE  \\\n",
              "CF_AB_REF                                                                 \n",
              "110050        0.051164     0.872090        1          60             51   \n",
              "110050        0.041434     0.896416        2          60             51   \n",
              "110050        0.046992     0.882519        1          60             51   \n",
              "110050        0.043197     0.892009        1          60             51   \n",
              "110050        0.047259     0.881853        1          60             51   \n",
              "\n",
              "           RC_COMMUNE_CODE CF_AB_DAT_CREATION  FRAUDE  \n",
              "CF_AB_REF                                              \n",
              "110050                 101         08/10/2004       0  \n",
              "110050                 101         08/10/2004       0  \n",
              "110050                 101         08/10/2004       0  \n",
              "110050                 101         08/10/2004       0  \n",
              "110050                 101         08/10/2004       0  "
            ]
          },
          "metadata": {
            "tags": []
          },
          "execution_count": 72
        }
      ]
    },
    {
      "cell_type": "markdown",
      "metadata": {
        "id": "uFMMGjc0rzFO"
      },
      "source": [
        "The goal of the merge here is to create our target value \"Fraude\" for our consumption DataFrame. For that reason , we are going to drop all the other features for the client's dataframe because we find it useless."
      ]
    },
    {
      "cell_type": "code",
      "metadata": {
        "id": "sWR0P9rzrzFO"
      },
      "source": [
        "new_train.drop(\"RC_UR_CODE\",1,inplace=True)\n",
        "new_train.drop(\"RC_CATEG_CODE\",1,inplace=True)\n",
        "new_train.drop(\"RC_COMMUNE_CODE\",1,inplace=True)\n",
        "new_train.drop(\"CF_AB_DAT_CREATION\",1,inplace=True)\n",
        "target_orig=new_train['FRAUDE']"
      ],
      "execution_count": null,
      "outputs": []
    },
    {
      "cell_type": "code",
      "metadata": {
        "id": "IuwuH01YrzFQ",
        "outputId": "6aa37180-f19e-4467-93fa-cfc5ca45a4e7"
      },
      "source": [
        "new_train['FRAUDE'].value_counts()"
      ],
      "execution_count": null,
      "outputs": [
        {
          "output_type": "execute_result",
          "data": {
            "text/plain": [
              "0    429134\n",
              "1      5836\n",
              "Name: FRAUDE, dtype: int64"
            ]
          },
          "metadata": {
            "tags": []
          },
          "execution_count": 74
        }
      ]
    },
    {
      "cell_type": "code",
      "metadata": {
        "id": "emkU3CXYrzFT",
        "outputId": "e5147015-86d2-4c31-d4ba-929e35ae3627"
      },
      "source": [
        "new_train.head()"
      ],
      "execution_count": null,
      "outputs": [
        {
          "output_type": "execute_result",
          "data": {
            "text/html": [
              "<div>\n",
              "<style scoped>\n",
              "    .dataframe tbody tr th:only-of-type {\n",
              "        vertical-align: middle;\n",
              "    }\n",
              "\n",
              "    .dataframe tbody tr th {\n",
              "        vertical-align: top;\n",
              "    }\n",
              "\n",
              "    .dataframe thead th {\n",
              "        text-align: right;\n",
              "    }\n",
              "</style>\n",
              "<table border=\"1\" class=\"dataframe\">\n",
              "  <thead>\n",
              "    <tr style=\"text-align: right;\">\n",
              "      <th></th>\n",
              "      <th>BT_CONSO_NUMCPTR</th>\n",
              "      <th>RC_BT_SCPTR_CODE</th>\n",
              "      <th>BT_CONSO_COEFF</th>\n",
              "      <th>BT_CONSO_CONSO1</th>\n",
              "      <th>BT_CONSO_CONSO2</th>\n",
              "      <th>BT_CONSO_CONSO3</th>\n",
              "      <th>BT_CONSO_CONSO4</th>\n",
              "      <th>BT_CONSO_NBRMOIS</th>\n",
              "      <th>Consomation</th>\n",
              "      <th>CONS1_ratio</th>\n",
              "      <th>CONS2_ratio</th>\n",
              "      <th>CONS3_ratio</th>\n",
              "      <th>CONS4_ratio</th>\n",
              "      <th>quarter</th>\n",
              "      <th>FRAUDE</th>\n",
              "    </tr>\n",
              "    <tr>\n",
              "      <th>CF_AB_REF</th>\n",
              "      <th></th>\n",
              "      <th></th>\n",
              "      <th></th>\n",
              "      <th></th>\n",
              "      <th></th>\n",
              "      <th></th>\n",
              "      <th></th>\n",
              "      <th></th>\n",
              "      <th></th>\n",
              "      <th></th>\n",
              "      <th></th>\n",
              "      <th></th>\n",
              "      <th></th>\n",
              "      <th></th>\n",
              "      <th></th>\n",
              "    </tr>\n",
              "  </thead>\n",
              "  <tbody>\n",
              "    <tr>\n",
              "      <th>110050</th>\n",
              "      <td>124416</td>\n",
              "      <td>0</td>\n",
              "      <td>1</td>\n",
              "      <td>200</td>\n",
              "      <td>100</td>\n",
              "      <td>200</td>\n",
              "      <td>3409</td>\n",
              "      <td>1</td>\n",
              "      <td>3909</td>\n",
              "      <td>0.051164</td>\n",
              "      <td>0.025582</td>\n",
              "      <td>0.051164</td>\n",
              "      <td>0.872090</td>\n",
              "      <td>1</td>\n",
              "      <td>0</td>\n",
              "    </tr>\n",
              "    <tr>\n",
              "      <th>110050</th>\n",
              "      <td>124416</td>\n",
              "      <td>0</td>\n",
              "      <td>1</td>\n",
              "      <td>200</td>\n",
              "      <td>100</td>\n",
              "      <td>200</td>\n",
              "      <td>4327</td>\n",
              "      <td>1</td>\n",
              "      <td>4827</td>\n",
              "      <td>0.041434</td>\n",
              "      <td>0.020717</td>\n",
              "      <td>0.041434</td>\n",
              "      <td>0.896416</td>\n",
              "      <td>2</td>\n",
              "      <td>0</td>\n",
              "    </tr>\n",
              "    <tr>\n",
              "      <th>110050</th>\n",
              "      <td>124416</td>\n",
              "      <td>0</td>\n",
              "      <td>1</td>\n",
              "      <td>200</td>\n",
              "      <td>100</td>\n",
              "      <td>200</td>\n",
              "      <td>3756</td>\n",
              "      <td>1</td>\n",
              "      <td>4256</td>\n",
              "      <td>0.046992</td>\n",
              "      <td>0.023496</td>\n",
              "      <td>0.046992</td>\n",
              "      <td>0.882519</td>\n",
              "      <td>1</td>\n",
              "      <td>0</td>\n",
              "    </tr>\n",
              "    <tr>\n",
              "      <th>110050</th>\n",
              "      <td>124416</td>\n",
              "      <td>0</td>\n",
              "      <td>1</td>\n",
              "      <td>200</td>\n",
              "      <td>100</td>\n",
              "      <td>200</td>\n",
              "      <td>4130</td>\n",
              "      <td>1</td>\n",
              "      <td>4630</td>\n",
              "      <td>0.043197</td>\n",
              "      <td>0.021598</td>\n",
              "      <td>0.043197</td>\n",
              "      <td>0.892009</td>\n",
              "      <td>1</td>\n",
              "      <td>0</td>\n",
              "    </tr>\n",
              "    <tr>\n",
              "      <th>110050</th>\n",
              "      <td>124416</td>\n",
              "      <td>0</td>\n",
              "      <td>1</td>\n",
              "      <td>200</td>\n",
              "      <td>100</td>\n",
              "      <td>200</td>\n",
              "      <td>3732</td>\n",
              "      <td>1</td>\n",
              "      <td>4232</td>\n",
              "      <td>0.047259</td>\n",
              "      <td>0.023629</td>\n",
              "      <td>0.047259</td>\n",
              "      <td>0.881853</td>\n",
              "      <td>1</td>\n",
              "      <td>0</td>\n",
              "    </tr>\n",
              "  </tbody>\n",
              "</table>\n",
              "</div>"
            ],
            "text/plain": [
              "          BT_CONSO_NUMCPTR  RC_BT_SCPTR_CODE  BT_CONSO_COEFF  BT_CONSO_CONSO1  \\\n",
              "CF_AB_REF                                                                       \n",
              "110050              124416                 0               1              200   \n",
              "110050              124416                 0               1              200   \n",
              "110050              124416                 0               1              200   \n",
              "110050              124416                 0               1              200   \n",
              "110050              124416                 0               1              200   \n",
              "\n",
              "           BT_CONSO_CONSO2  BT_CONSO_CONSO3  BT_CONSO_CONSO4  \\\n",
              "CF_AB_REF                                                      \n",
              "110050                 100              200             3409   \n",
              "110050                 100              200             4327   \n",
              "110050                 100              200             3756   \n",
              "110050                 100              200             4130   \n",
              "110050                 100              200             3732   \n",
              "\n",
              "           BT_CONSO_NBRMOIS  Consomation  CONS1_ratio  CONS2_ratio  \\\n",
              "CF_AB_REF                                                            \n",
              "110050                    1         3909     0.051164     0.025582   \n",
              "110050                    1         4827     0.041434     0.020717   \n",
              "110050                    1         4256     0.046992     0.023496   \n",
              "110050                    1         4630     0.043197     0.021598   \n",
              "110050                    1         4232     0.047259     0.023629   \n",
              "\n",
              "           CONS3_ratio  CONS4_ratio  quarter  FRAUDE  \n",
              "CF_AB_REF                                             \n",
              "110050        0.051164     0.872090        1       0  \n",
              "110050        0.041434     0.896416        2       0  \n",
              "110050        0.046992     0.882519        1       0  \n",
              "110050        0.043197     0.892009        1       0  \n",
              "110050        0.047259     0.881853        1       0  "
            ]
          },
          "metadata": {
            "tags": []
          },
          "execution_count": 75
        }
      ]
    },
    {
      "cell_type": "markdown",
      "metadata": {
        "id": "tw8ueuRNrzFV"
      },
      "source": [
        "## First approach"
      ]
    },
    {
      "cell_type": "markdown",
      "metadata": {
        "id": "hHcPfG2RrzFV"
      },
      "source": [
        "In this first approach, we will consider dividing our observations into 4 groups. Each group corresponds to a trimester, because we highly believe that the consommation level differs every part of the year. The most naive example, Is that the consumption in the summer session is different than the consumption in the winter.\n",
        "<br> We are going to need the quarter feature that we had already created to do so."
      ]
    },
    {
      "cell_type": "code",
      "metadata": {
        "id": "4XKkZTB2rzFW",
        "outputId": "3b67bba6-48a4-4606-9689-5530493324d6"
      },
      "source": [
        "new_train.quarter.unique()"
      ],
      "execution_count": null,
      "outputs": [
        {
          "output_type": "execute_result",
          "data": {
            "text/plain": [
              "array([1, 2, 3, 4], dtype=int64)"
            ]
          },
          "metadata": {
            "tags": []
          },
          "execution_count": 76
        }
      ]
    },
    {
      "cell_type": "code",
      "metadata": {
        "id": "6L43UAWFrzFZ"
      },
      "source": [
        "new_train.reset_index(inplace=True)"
      ],
      "execution_count": null,
      "outputs": []
    },
    {
      "cell_type": "code",
      "metadata": {
        "id": "-TgD5ySDrzFb"
      },
      "source": [
        "new_train=new_train.set_index([\"CF_AB_REF\",\"BT_CONSO_NUMCPTR\"])"
      ],
      "execution_count": null,
      "outputs": []
    },
    {
      "cell_type": "code",
      "metadata": {
        "id": "sVCZyxC6rzFd",
        "outputId": "a1bc5c22-eb9f-4886-e5ba-4511f6a4386b"
      },
      "source": [
        "new_train.head()"
      ],
      "execution_count": null,
      "outputs": [
        {
          "output_type": "execute_result",
          "data": {
            "text/html": [
              "<div>\n",
              "<style scoped>\n",
              "    .dataframe tbody tr th:only-of-type {\n",
              "        vertical-align: middle;\n",
              "    }\n",
              "\n",
              "    .dataframe tbody tr th {\n",
              "        vertical-align: top;\n",
              "    }\n",
              "\n",
              "    .dataframe thead th {\n",
              "        text-align: right;\n",
              "    }\n",
              "</style>\n",
              "<table border=\"1\" class=\"dataframe\">\n",
              "  <thead>\n",
              "    <tr style=\"text-align: right;\">\n",
              "      <th></th>\n",
              "      <th></th>\n",
              "      <th>RC_BT_SCPTR_CODE</th>\n",
              "      <th>BT_CONSO_COEFF</th>\n",
              "      <th>BT_CONSO_CONSO1</th>\n",
              "      <th>BT_CONSO_CONSO2</th>\n",
              "      <th>BT_CONSO_CONSO3</th>\n",
              "      <th>BT_CONSO_CONSO4</th>\n",
              "      <th>BT_CONSO_NBRMOIS</th>\n",
              "      <th>Consomation</th>\n",
              "      <th>CONS1_ratio</th>\n",
              "      <th>CONS2_ratio</th>\n",
              "      <th>CONS3_ratio</th>\n",
              "      <th>CONS4_ratio</th>\n",
              "      <th>quarter</th>\n",
              "      <th>FRAUDE</th>\n",
              "    </tr>\n",
              "    <tr>\n",
              "      <th>CF_AB_REF</th>\n",
              "      <th>BT_CONSO_NUMCPTR</th>\n",
              "      <th></th>\n",
              "      <th></th>\n",
              "      <th></th>\n",
              "      <th></th>\n",
              "      <th></th>\n",
              "      <th></th>\n",
              "      <th></th>\n",
              "      <th></th>\n",
              "      <th></th>\n",
              "      <th></th>\n",
              "      <th></th>\n",
              "      <th></th>\n",
              "      <th></th>\n",
              "      <th></th>\n",
              "    </tr>\n",
              "  </thead>\n",
              "  <tbody>\n",
              "    <tr>\n",
              "      <th rowspan=\"5\" valign=\"top\">110050</th>\n",
              "      <th>124416</th>\n",
              "      <td>0</td>\n",
              "      <td>1</td>\n",
              "      <td>200</td>\n",
              "      <td>100</td>\n",
              "      <td>200</td>\n",
              "      <td>3409</td>\n",
              "      <td>1</td>\n",
              "      <td>3909</td>\n",
              "      <td>0.051164</td>\n",
              "      <td>0.025582</td>\n",
              "      <td>0.051164</td>\n",
              "      <td>0.872090</td>\n",
              "      <td>1</td>\n",
              "      <td>0</td>\n",
              "    </tr>\n",
              "    <tr>\n",
              "      <th>124416</th>\n",
              "      <td>0</td>\n",
              "      <td>1</td>\n",
              "      <td>200</td>\n",
              "      <td>100</td>\n",
              "      <td>200</td>\n",
              "      <td>4327</td>\n",
              "      <td>1</td>\n",
              "      <td>4827</td>\n",
              "      <td>0.041434</td>\n",
              "      <td>0.020717</td>\n",
              "      <td>0.041434</td>\n",
              "      <td>0.896416</td>\n",
              "      <td>2</td>\n",
              "      <td>0</td>\n",
              "    </tr>\n",
              "    <tr>\n",
              "      <th>124416</th>\n",
              "      <td>0</td>\n",
              "      <td>1</td>\n",
              "      <td>200</td>\n",
              "      <td>100</td>\n",
              "      <td>200</td>\n",
              "      <td>3756</td>\n",
              "      <td>1</td>\n",
              "      <td>4256</td>\n",
              "      <td>0.046992</td>\n",
              "      <td>0.023496</td>\n",
              "      <td>0.046992</td>\n",
              "      <td>0.882519</td>\n",
              "      <td>1</td>\n",
              "      <td>0</td>\n",
              "    </tr>\n",
              "    <tr>\n",
              "      <th>124416</th>\n",
              "      <td>0</td>\n",
              "      <td>1</td>\n",
              "      <td>200</td>\n",
              "      <td>100</td>\n",
              "      <td>200</td>\n",
              "      <td>4130</td>\n",
              "      <td>1</td>\n",
              "      <td>4630</td>\n",
              "      <td>0.043197</td>\n",
              "      <td>0.021598</td>\n",
              "      <td>0.043197</td>\n",
              "      <td>0.892009</td>\n",
              "      <td>1</td>\n",
              "      <td>0</td>\n",
              "    </tr>\n",
              "    <tr>\n",
              "      <th>124416</th>\n",
              "      <td>0</td>\n",
              "      <td>1</td>\n",
              "      <td>200</td>\n",
              "      <td>100</td>\n",
              "      <td>200</td>\n",
              "      <td>3732</td>\n",
              "      <td>1</td>\n",
              "      <td>4232</td>\n",
              "      <td>0.047259</td>\n",
              "      <td>0.023629</td>\n",
              "      <td>0.047259</td>\n",
              "      <td>0.881853</td>\n",
              "      <td>1</td>\n",
              "      <td>0</td>\n",
              "    </tr>\n",
              "  </tbody>\n",
              "</table>\n",
              "</div>"
            ],
            "text/plain": [
              "                            RC_BT_SCPTR_CODE  BT_CONSO_COEFF  BT_CONSO_CONSO1  \\\n",
              "CF_AB_REF BT_CONSO_NUMCPTR                                                      \n",
              "110050    124416                           0               1              200   \n",
              "          124416                           0               1              200   \n",
              "          124416                           0               1              200   \n",
              "          124416                           0               1              200   \n",
              "          124416                           0               1              200   \n",
              "\n",
              "                            BT_CONSO_CONSO2  BT_CONSO_CONSO3  BT_CONSO_CONSO4  \\\n",
              "CF_AB_REF BT_CONSO_NUMCPTR                                                      \n",
              "110050    124416                        100              200             3409   \n",
              "          124416                        100              200             4327   \n",
              "          124416                        100              200             3756   \n",
              "          124416                        100              200             4130   \n",
              "          124416                        100              200             3732   \n",
              "\n",
              "                            BT_CONSO_NBRMOIS  Consomation  CONS1_ratio  \\\n",
              "CF_AB_REF BT_CONSO_NUMCPTR                                               \n",
              "110050    124416                           1         3909     0.051164   \n",
              "          124416                           1         4827     0.041434   \n",
              "          124416                           1         4256     0.046992   \n",
              "          124416                           1         4630     0.043197   \n",
              "          124416                           1         4232     0.047259   \n",
              "\n",
              "                            CONS2_ratio  CONS3_ratio  CONS4_ratio  quarter  \\\n",
              "CF_AB_REF BT_CONSO_NUMCPTR                                                   \n",
              "110050    124416               0.025582     0.051164     0.872090        1   \n",
              "          124416               0.020717     0.041434     0.896416        2   \n",
              "          124416               0.023496     0.046992     0.882519        1   \n",
              "          124416               0.021598     0.043197     0.892009        1   \n",
              "          124416               0.023629     0.047259     0.881853        1   \n",
              "\n",
              "                            FRAUDE  \n",
              "CF_AB_REF BT_CONSO_NUMCPTR          \n",
              "110050    124416                 0  \n",
              "          124416                 0  \n",
              "          124416                 0  \n",
              "          124416                 0  \n",
              "          124416                 0  "
            ]
          },
          "metadata": {
            "tags": []
          },
          "execution_count": 79
        }
      ]
    },
    {
      "cell_type": "code",
      "metadata": {
        "id": "i8dP8f1NrzFh"
      },
      "source": [
        "X=new_train"
      ],
      "execution_count": null,
      "outputs": []
    },
    {
      "cell_type": "code",
      "metadata": {
        "id": "wmJ5S-xdrzFj",
        "outputId": "e036e080-2ebf-4168-c579-8e7beb3a4188"
      },
      "source": [
        "len(X)"
      ],
      "execution_count": null,
      "outputs": [
        {
          "output_type": "execute_result",
          "data": {
            "text/plain": [
              "434970"
            ]
          },
          "metadata": {
            "tags": []
          },
          "execution_count": 81
        }
      ]
    },
    {
      "cell_type": "markdown",
      "metadata": {
        "id": "aIrm2sftrzFl"
      },
      "source": [
        "We have 434970 observation to work with , we have noticed that we don't have the same observations for each counter, for that reason, we have decided to apply to these observation some statistical operations in order to create a dataframe that contains the counter as the index and in order to train our model in a convenient way.\n"
      ]
    },
    {
      "cell_type": "code",
      "metadata": {
        "id": "_rMRUEcJrzFl"
      },
      "source": [
        "X=X.reset_index()"
      ],
      "execution_count": null,
      "outputs": []
    },
    {
      "cell_type": "code",
      "metadata": {
        "id": "oVcfUB5FrzFn",
        "outputId": "b2a26ed9-3754-4f0e-f3f7-556bf9159271"
      },
      "source": [
        "X.head()"
      ],
      "execution_count": null,
      "outputs": [
        {
          "output_type": "execute_result",
          "data": {
            "text/html": [
              "<div>\n",
              "<style scoped>\n",
              "    .dataframe tbody tr th:only-of-type {\n",
              "        vertical-align: middle;\n",
              "    }\n",
              "\n",
              "    .dataframe tbody tr th {\n",
              "        vertical-align: top;\n",
              "    }\n",
              "\n",
              "    .dataframe thead th {\n",
              "        text-align: right;\n",
              "    }\n",
              "</style>\n",
              "<table border=\"1\" class=\"dataframe\">\n",
              "  <thead>\n",
              "    <tr style=\"text-align: right;\">\n",
              "      <th></th>\n",
              "      <th>CF_AB_REF</th>\n",
              "      <th>BT_CONSO_NUMCPTR</th>\n",
              "      <th>RC_BT_SCPTR_CODE</th>\n",
              "      <th>BT_CONSO_COEFF</th>\n",
              "      <th>BT_CONSO_CONSO1</th>\n",
              "      <th>BT_CONSO_CONSO2</th>\n",
              "      <th>BT_CONSO_CONSO3</th>\n",
              "      <th>BT_CONSO_CONSO4</th>\n",
              "      <th>BT_CONSO_NBRMOIS</th>\n",
              "      <th>Consomation</th>\n",
              "      <th>CONS1_ratio</th>\n",
              "      <th>CONS2_ratio</th>\n",
              "      <th>CONS3_ratio</th>\n",
              "      <th>CONS4_ratio</th>\n",
              "      <th>quarter</th>\n",
              "      <th>FRAUDE</th>\n",
              "    </tr>\n",
              "  </thead>\n",
              "  <tbody>\n",
              "    <tr>\n",
              "      <th>0</th>\n",
              "      <td>110050</td>\n",
              "      <td>124416</td>\n",
              "      <td>0</td>\n",
              "      <td>1</td>\n",
              "      <td>200</td>\n",
              "      <td>100</td>\n",
              "      <td>200</td>\n",
              "      <td>3409</td>\n",
              "      <td>1</td>\n",
              "      <td>3909</td>\n",
              "      <td>0.051164</td>\n",
              "      <td>0.025582</td>\n",
              "      <td>0.051164</td>\n",
              "      <td>0.872090</td>\n",
              "      <td>1</td>\n",
              "      <td>0</td>\n",
              "    </tr>\n",
              "    <tr>\n",
              "      <th>1</th>\n",
              "      <td>110050</td>\n",
              "      <td>124416</td>\n",
              "      <td>0</td>\n",
              "      <td>1</td>\n",
              "      <td>200</td>\n",
              "      <td>100</td>\n",
              "      <td>200</td>\n",
              "      <td>4327</td>\n",
              "      <td>1</td>\n",
              "      <td>4827</td>\n",
              "      <td>0.041434</td>\n",
              "      <td>0.020717</td>\n",
              "      <td>0.041434</td>\n",
              "      <td>0.896416</td>\n",
              "      <td>2</td>\n",
              "      <td>0</td>\n",
              "    </tr>\n",
              "    <tr>\n",
              "      <th>2</th>\n",
              "      <td>110050</td>\n",
              "      <td>124416</td>\n",
              "      <td>0</td>\n",
              "      <td>1</td>\n",
              "      <td>200</td>\n",
              "      <td>100</td>\n",
              "      <td>200</td>\n",
              "      <td>3756</td>\n",
              "      <td>1</td>\n",
              "      <td>4256</td>\n",
              "      <td>0.046992</td>\n",
              "      <td>0.023496</td>\n",
              "      <td>0.046992</td>\n",
              "      <td>0.882519</td>\n",
              "      <td>1</td>\n",
              "      <td>0</td>\n",
              "    </tr>\n",
              "    <tr>\n",
              "      <th>3</th>\n",
              "      <td>110050</td>\n",
              "      <td>124416</td>\n",
              "      <td>0</td>\n",
              "      <td>1</td>\n",
              "      <td>200</td>\n",
              "      <td>100</td>\n",
              "      <td>200</td>\n",
              "      <td>4130</td>\n",
              "      <td>1</td>\n",
              "      <td>4630</td>\n",
              "      <td>0.043197</td>\n",
              "      <td>0.021598</td>\n",
              "      <td>0.043197</td>\n",
              "      <td>0.892009</td>\n",
              "      <td>1</td>\n",
              "      <td>0</td>\n",
              "    </tr>\n",
              "    <tr>\n",
              "      <th>4</th>\n",
              "      <td>110050</td>\n",
              "      <td>124416</td>\n",
              "      <td>0</td>\n",
              "      <td>1</td>\n",
              "      <td>200</td>\n",
              "      <td>100</td>\n",
              "      <td>200</td>\n",
              "      <td>3732</td>\n",
              "      <td>1</td>\n",
              "      <td>4232</td>\n",
              "      <td>0.047259</td>\n",
              "      <td>0.023629</td>\n",
              "      <td>0.047259</td>\n",
              "      <td>0.881853</td>\n",
              "      <td>1</td>\n",
              "      <td>0</td>\n",
              "    </tr>\n",
              "  </tbody>\n",
              "</table>\n",
              "</div>"
            ],
            "text/plain": [
              "   CF_AB_REF BT_CONSO_NUMCPTR  RC_BT_SCPTR_CODE  BT_CONSO_COEFF  \\\n",
              "0     110050           124416                 0               1   \n",
              "1     110050           124416                 0               1   \n",
              "2     110050           124416                 0               1   \n",
              "3     110050           124416                 0               1   \n",
              "4     110050           124416                 0               1   \n",
              "\n",
              "   BT_CONSO_CONSO1  BT_CONSO_CONSO2  BT_CONSO_CONSO3  BT_CONSO_CONSO4  \\\n",
              "0              200              100              200             3409   \n",
              "1              200              100              200             4327   \n",
              "2              200              100              200             3756   \n",
              "3              200              100              200             4130   \n",
              "4              200              100              200             3732   \n",
              "\n",
              "   BT_CONSO_NBRMOIS  Consomation  CONS1_ratio  CONS2_ratio  CONS3_ratio  \\\n",
              "0                 1         3909     0.051164     0.025582     0.051164   \n",
              "1                 1         4827     0.041434     0.020717     0.041434   \n",
              "2                 1         4256     0.046992     0.023496     0.046992   \n",
              "3                 1         4630     0.043197     0.021598     0.043197   \n",
              "4                 1         4232     0.047259     0.023629     0.047259   \n",
              "\n",
              "   CONS4_ratio  quarter  FRAUDE  \n",
              "0     0.872090        1       0  \n",
              "1     0.896416        2       0  \n",
              "2     0.882519        1       0  \n",
              "3     0.892009        1       0  \n",
              "4     0.881853        1       0  "
            ]
          },
          "metadata": {
            "tags": []
          },
          "execution_count": 83
        }
      ]
    },
    {
      "cell_type": "code",
      "metadata": {
        "id": "0-SQ-S3-rzFp"
      },
      "source": [
        "X=X[X['CF_AB_REF']!='fectif']"
      ],
      "execution_count": null,
      "outputs": []
    },
    {
      "cell_type": "code",
      "metadata": {
        "id": "DdFAzQvVrzFq",
        "outputId": "434b5a92-c0cf-4efa-9f1f-6158073998c1"
      },
      "source": [
        "X['BT_CONSO_NUMCPTR'].value_counts()"
      ],
      "execution_count": null,
      "outputs": [
        {
          "output_type": "execute_result",
          "data": {
            "text/plain": [
              "1765936           147\n",
              "50327             144\n",
              "19642             143\n",
              "19760             140\n",
              "48937             140\n",
              "                 ... \n",
              "61639               1\n",
              "22307               1\n",
              "A682565             1\n",
              "1020760             1\n",
              "27171100381090      1\n",
              "Name: BT_CONSO_NUMCPTR, Length: 19634, dtype: int64"
            ]
          },
          "metadata": {
            "tags": []
          },
          "execution_count": 85
        }
      ]
    },
    {
      "cell_type": "markdown",
      "metadata": {
        "id": "UJ6elcEtrzFs"
      },
      "source": [
        "For the Fraud detection problem, we need to evaluate the counters that have an historic of consumption , that means new counters need to be dropped to proceed. \n",
        "<br> We chose to drop all the counters that have observations less then 5."
      ]
    },
    {
      "cell_type": "code",
      "metadata": {
        "id": "8aDgpSk4rzFs"
      },
      "source": [
        "X=X.groupby('BT_CONSO_NUMCPTR').filter(lambda x: len(x) >= 5)"
      ],
      "execution_count": null,
      "outputs": []
    },
    {
      "cell_type": "markdown",
      "metadata": {
        "id": "BRWGw9KzrzFv"
      },
      "source": [
        "It's guaranteed now that each counter has at least 5 observations."
      ]
    },
    {
      "cell_type": "code",
      "metadata": {
        "id": "uQFamNY3rzFv",
        "outputId": "1f010030-6b83-44a0-aa1f-2d7cb74f8e69"
      },
      "source": [
        "X['BT_CONSO_NUMCPTR'].value_counts()"
      ],
      "execution_count": null,
      "outputs": [
        {
          "output_type": "execute_result",
          "data": {
            "text/plain": [
              "1765936           147\n",
              "50327             144\n",
              "19642             143\n",
              "48937             140\n",
              "19760             140\n",
              "                 ... \n",
              "27161135311500      5\n",
              "02155700057849      5\n",
              "92833               5\n",
              "382887              5\n",
              "27161100375540      5\n",
              "Name: BT_CONSO_NUMCPTR, Length: 16648, dtype: int64"
            ]
          },
          "metadata": {
            "tags": []
          },
          "execution_count": 87
        }
      ]
    },
    {
      "cell_type": "markdown",
      "metadata": {
        "id": "KtR92DAgrzFx"
      },
      "source": [
        "We will drop the \"RC_BT_SCPTR_CODE\" which gives us informtation about the situation of our counter. We find it useless here."
      ]
    },
    {
      "cell_type": "code",
      "metadata": {
        "id": "aPDGQxeZrzFy"
      },
      "source": [
        "X.drop(\"RC_BT_SCPTR_CODE\",1,inplace=True)"
      ],
      "execution_count": null,
      "outputs": []
    },
    {
      "cell_type": "code",
      "metadata": {
        "id": "ebgIBKgqrzFz",
        "outputId": "4d550294-5369-428b-c16c-1a725a3a56f2"
      },
      "source": [
        "X.head()"
      ],
      "execution_count": null,
      "outputs": [
        {
          "output_type": "execute_result",
          "data": {
            "text/html": [
              "<div>\n",
              "<style scoped>\n",
              "    .dataframe tbody tr th:only-of-type {\n",
              "        vertical-align: middle;\n",
              "    }\n",
              "\n",
              "    .dataframe tbody tr th {\n",
              "        vertical-align: top;\n",
              "    }\n",
              "\n",
              "    .dataframe thead th {\n",
              "        text-align: right;\n",
              "    }\n",
              "</style>\n",
              "<table border=\"1\" class=\"dataframe\">\n",
              "  <thead>\n",
              "    <tr style=\"text-align: right;\">\n",
              "      <th></th>\n",
              "      <th>CF_AB_REF</th>\n",
              "      <th>BT_CONSO_NUMCPTR</th>\n",
              "      <th>BT_CONSO_COEFF</th>\n",
              "      <th>BT_CONSO_CONSO1</th>\n",
              "      <th>BT_CONSO_CONSO2</th>\n",
              "      <th>BT_CONSO_CONSO3</th>\n",
              "      <th>BT_CONSO_CONSO4</th>\n",
              "      <th>BT_CONSO_NBRMOIS</th>\n",
              "      <th>Consomation</th>\n",
              "      <th>CONS1_ratio</th>\n",
              "      <th>CONS2_ratio</th>\n",
              "      <th>CONS3_ratio</th>\n",
              "      <th>CONS4_ratio</th>\n",
              "      <th>quarter</th>\n",
              "      <th>FRAUDE</th>\n",
              "    </tr>\n",
              "  </thead>\n",
              "  <tbody>\n",
              "    <tr>\n",
              "      <th>0</th>\n",
              "      <td>110050</td>\n",
              "      <td>124416</td>\n",
              "      <td>1</td>\n",
              "      <td>200</td>\n",
              "      <td>100</td>\n",
              "      <td>200</td>\n",
              "      <td>3409</td>\n",
              "      <td>1</td>\n",
              "      <td>3909</td>\n",
              "      <td>0.051164</td>\n",
              "      <td>0.025582</td>\n",
              "      <td>0.051164</td>\n",
              "      <td>0.872090</td>\n",
              "      <td>1</td>\n",
              "      <td>0</td>\n",
              "    </tr>\n",
              "    <tr>\n",
              "      <th>1</th>\n",
              "      <td>110050</td>\n",
              "      <td>124416</td>\n",
              "      <td>1</td>\n",
              "      <td>200</td>\n",
              "      <td>100</td>\n",
              "      <td>200</td>\n",
              "      <td>4327</td>\n",
              "      <td>1</td>\n",
              "      <td>4827</td>\n",
              "      <td>0.041434</td>\n",
              "      <td>0.020717</td>\n",
              "      <td>0.041434</td>\n",
              "      <td>0.896416</td>\n",
              "      <td>2</td>\n",
              "      <td>0</td>\n",
              "    </tr>\n",
              "    <tr>\n",
              "      <th>2</th>\n",
              "      <td>110050</td>\n",
              "      <td>124416</td>\n",
              "      <td>1</td>\n",
              "      <td>200</td>\n",
              "      <td>100</td>\n",
              "      <td>200</td>\n",
              "      <td>3756</td>\n",
              "      <td>1</td>\n",
              "      <td>4256</td>\n",
              "      <td>0.046992</td>\n",
              "      <td>0.023496</td>\n",
              "      <td>0.046992</td>\n",
              "      <td>0.882519</td>\n",
              "      <td>1</td>\n",
              "      <td>0</td>\n",
              "    </tr>\n",
              "    <tr>\n",
              "      <th>3</th>\n",
              "      <td>110050</td>\n",
              "      <td>124416</td>\n",
              "      <td>1</td>\n",
              "      <td>200</td>\n",
              "      <td>100</td>\n",
              "      <td>200</td>\n",
              "      <td>4130</td>\n",
              "      <td>1</td>\n",
              "      <td>4630</td>\n",
              "      <td>0.043197</td>\n",
              "      <td>0.021598</td>\n",
              "      <td>0.043197</td>\n",
              "      <td>0.892009</td>\n",
              "      <td>1</td>\n",
              "      <td>0</td>\n",
              "    </tr>\n",
              "    <tr>\n",
              "      <th>4</th>\n",
              "      <td>110050</td>\n",
              "      <td>124416</td>\n",
              "      <td>1</td>\n",
              "      <td>200</td>\n",
              "      <td>100</td>\n",
              "      <td>200</td>\n",
              "      <td>3732</td>\n",
              "      <td>1</td>\n",
              "      <td>4232</td>\n",
              "      <td>0.047259</td>\n",
              "      <td>0.023629</td>\n",
              "      <td>0.047259</td>\n",
              "      <td>0.881853</td>\n",
              "      <td>1</td>\n",
              "      <td>0</td>\n",
              "    </tr>\n",
              "  </tbody>\n",
              "</table>\n",
              "</div>"
            ],
            "text/plain": [
              "   CF_AB_REF BT_CONSO_NUMCPTR  BT_CONSO_COEFF  BT_CONSO_CONSO1  \\\n",
              "0     110050           124416               1              200   \n",
              "1     110050           124416               1              200   \n",
              "2     110050           124416               1              200   \n",
              "3     110050           124416               1              200   \n",
              "4     110050           124416               1              200   \n",
              "\n",
              "   BT_CONSO_CONSO2  BT_CONSO_CONSO3  BT_CONSO_CONSO4  BT_CONSO_NBRMOIS  \\\n",
              "0              100              200             3409                 1   \n",
              "1              100              200             4327                 1   \n",
              "2              100              200             3756                 1   \n",
              "3              100              200             4130                 1   \n",
              "4              100              200             3732                 1   \n",
              "\n",
              "   Consomation  CONS1_ratio  CONS2_ratio  CONS3_ratio  CONS4_ratio  quarter  \\\n",
              "0         3909     0.051164     0.025582     0.051164     0.872090        1   \n",
              "1         4827     0.041434     0.020717     0.041434     0.896416        2   \n",
              "2         4256     0.046992     0.023496     0.046992     0.882519        1   \n",
              "3         4630     0.043197     0.021598     0.043197     0.892009        1   \n",
              "4         4232     0.047259     0.023629     0.047259     0.881853        1   \n",
              "\n",
              "   FRAUDE  \n",
              "0       0  \n",
              "1       0  \n",
              "2       0  \n",
              "3       0  \n",
              "4       0  "
            ]
          },
          "metadata": {
            "tags": []
          },
          "execution_count": 89
        }
      ]
    },
    {
      "cell_type": "markdown",
      "metadata": {
        "id": "eiYkgrpyrzF0"
      },
      "source": [
        "After several tries and comparison with the different models, we chose to work and apply the statistical operations only on those feature below which are <b> 'CF_AB_REF','BT_CONSO_NUMCPTR','BT_CONSO_CONSO1', 'BT_CONSO_CONSO2','BT_CONSO_CONSO3', 'BT_CONSO_CONSO4', 'Consomation','CONS1_ratio', 'CONS2_ratio', 'CONS3_ratio', 'CONS4_ratio','FRAUDE'"
      ]
    },
    {
      "cell_type": "code",
      "metadata": {
        "id": "fvoiWylmrzF0"
      },
      "source": [
        "cols=[ 'CF_AB_REF','BT_CONSO_NUMCPTR','BT_CONSO_CONSO1', 'BT_CONSO_CONSO2','BT_CONSO_CONSO3', 'BT_CONSO_CONSO4', 'Consomation','CONS1_ratio', 'CONS2_ratio', 'CONS3_ratio', 'CONS4_ratio','quarter','FRAUDE']"
      ],
      "execution_count": null,
      "outputs": []
    },
    {
      "cell_type": "code",
      "metadata": {
        "id": "tpS4WLzZrzF3"
      },
      "source": [
        "X_=X[cols]"
      ],
      "execution_count": null,
      "outputs": []
    },
    {
      "cell_type": "code",
      "metadata": {
        "id": "x9MnCGeYrzF5"
      },
      "source": [
        "X=X_"
      ],
      "execution_count": null,
      "outputs": []
    },
    {
      "cell_type": "markdown",
      "metadata": {
        "id": "3LGvw-LOrzF9"
      },
      "source": [
        "At this stage, we will divide our data into 4 groups , each group corresponds to a trimester of the year."
      ]
    },
    {
      "cell_type": "code",
      "metadata": {
        "id": "U2DlyeR-rzF9"
      },
      "source": [
        "X_1=X[X['quarter']==1]"
      ],
      "execution_count": null,
      "outputs": []
    },
    {
      "cell_type": "code",
      "metadata": {
        "id": "iI0kdeCUrzF-"
      },
      "source": [
        "X_2=X[X['quarter']==2]"
      ],
      "execution_count": null,
      "outputs": []
    },
    {
      "cell_type": "code",
      "metadata": {
        "id": "bHlYT08przGA"
      },
      "source": [
        "X_3=X[X['quarter']==3]"
      ],
      "execution_count": null,
      "outputs": []
    },
    {
      "cell_type": "code",
      "metadata": {
        "id": "TT_qcShKrzGB"
      },
      "source": [
        "X_4=X[X['quarter']==4]"
      ],
      "execution_count": null,
      "outputs": []
    },
    {
      "cell_type": "code",
      "metadata": {
        "id": "tLwxj7wXrzGD",
        "outputId": "224a5615-8321-4c0f-a88c-9faaa4f9bcdf"
      },
      "source": [
        "len(X_1)"
      ],
      "execution_count": null,
      "outputs": [
        {
          "output_type": "execute_result",
          "data": {
            "text/plain": [
              "147216"
            ]
          },
          "metadata": {
            "tags": []
          },
          "execution_count": 97
        }
      ]
    },
    {
      "cell_type": "code",
      "metadata": {
        "id": "ttnpCCKvrzGE",
        "outputId": "f7fb9065-2056-47d7-d1eb-097d2850bafa"
      },
      "source": [
        "X_1.head()"
      ],
      "execution_count": null,
      "outputs": [
        {
          "output_type": "execute_result",
          "data": {
            "text/html": [
              "<div>\n",
              "<style scoped>\n",
              "    .dataframe tbody tr th:only-of-type {\n",
              "        vertical-align: middle;\n",
              "    }\n",
              "\n",
              "    .dataframe tbody tr th {\n",
              "        vertical-align: top;\n",
              "    }\n",
              "\n",
              "    .dataframe thead th {\n",
              "        text-align: right;\n",
              "    }\n",
              "</style>\n",
              "<table border=\"1\" class=\"dataframe\">\n",
              "  <thead>\n",
              "    <tr style=\"text-align: right;\">\n",
              "      <th></th>\n",
              "      <th>CF_AB_REF</th>\n",
              "      <th>BT_CONSO_NUMCPTR</th>\n",
              "      <th>BT_CONSO_CONSO1</th>\n",
              "      <th>BT_CONSO_CONSO2</th>\n",
              "      <th>BT_CONSO_CONSO3</th>\n",
              "      <th>BT_CONSO_CONSO4</th>\n",
              "      <th>Consomation</th>\n",
              "      <th>CONS1_ratio</th>\n",
              "      <th>CONS2_ratio</th>\n",
              "      <th>CONS3_ratio</th>\n",
              "      <th>CONS4_ratio</th>\n",
              "      <th>quarter</th>\n",
              "      <th>FRAUDE</th>\n",
              "    </tr>\n",
              "  </thead>\n",
              "  <tbody>\n",
              "    <tr>\n",
              "      <th>0</th>\n",
              "      <td>110050</td>\n",
              "      <td>124416</td>\n",
              "      <td>200</td>\n",
              "      <td>100</td>\n",
              "      <td>200</td>\n",
              "      <td>3409</td>\n",
              "      <td>3909</td>\n",
              "      <td>0.051164</td>\n",
              "      <td>0.025582</td>\n",
              "      <td>0.051164</td>\n",
              "      <td>0.872090</td>\n",
              "      <td>1</td>\n",
              "      <td>0</td>\n",
              "    </tr>\n",
              "    <tr>\n",
              "      <th>2</th>\n",
              "      <td>110050</td>\n",
              "      <td>124416</td>\n",
              "      <td>200</td>\n",
              "      <td>100</td>\n",
              "      <td>200</td>\n",
              "      <td>3756</td>\n",
              "      <td>4256</td>\n",
              "      <td>0.046992</td>\n",
              "      <td>0.023496</td>\n",
              "      <td>0.046992</td>\n",
              "      <td>0.882519</td>\n",
              "      <td>1</td>\n",
              "      <td>0</td>\n",
              "    </tr>\n",
              "    <tr>\n",
              "      <th>3</th>\n",
              "      <td>110050</td>\n",
              "      <td>124416</td>\n",
              "      <td>200</td>\n",
              "      <td>100</td>\n",
              "      <td>200</td>\n",
              "      <td>4130</td>\n",
              "      <td>4630</td>\n",
              "      <td>0.043197</td>\n",
              "      <td>0.021598</td>\n",
              "      <td>0.043197</td>\n",
              "      <td>0.892009</td>\n",
              "      <td>1</td>\n",
              "      <td>0</td>\n",
              "    </tr>\n",
              "    <tr>\n",
              "      <th>4</th>\n",
              "      <td>110050</td>\n",
              "      <td>124416</td>\n",
              "      <td>200</td>\n",
              "      <td>100</td>\n",
              "      <td>200</td>\n",
              "      <td>3732</td>\n",
              "      <td>4232</td>\n",
              "      <td>0.047259</td>\n",
              "      <td>0.023629</td>\n",
              "      <td>0.047259</td>\n",
              "      <td>0.881853</td>\n",
              "      <td>1</td>\n",
              "      <td>0</td>\n",
              "    </tr>\n",
              "    <tr>\n",
              "      <th>5</th>\n",
              "      <td>110050</td>\n",
              "      <td>124416</td>\n",
              "      <td>200</td>\n",
              "      <td>100</td>\n",
              "      <td>200</td>\n",
              "      <td>4008</td>\n",
              "      <td>4508</td>\n",
              "      <td>0.044366</td>\n",
              "      <td>0.022183</td>\n",
              "      <td>0.044366</td>\n",
              "      <td>0.889086</td>\n",
              "      <td>1</td>\n",
              "      <td>0</td>\n",
              "    </tr>\n",
              "  </tbody>\n",
              "</table>\n",
              "</div>"
            ],
            "text/plain": [
              "   CF_AB_REF BT_CONSO_NUMCPTR  BT_CONSO_CONSO1  BT_CONSO_CONSO2  \\\n",
              "0     110050           124416              200              100   \n",
              "2     110050           124416              200              100   \n",
              "3     110050           124416              200              100   \n",
              "4     110050           124416              200              100   \n",
              "5     110050           124416              200              100   \n",
              "\n",
              "   BT_CONSO_CONSO3  BT_CONSO_CONSO4  Consomation  CONS1_ratio  CONS2_ratio  \\\n",
              "0              200             3409         3909     0.051164     0.025582   \n",
              "2              200             3756         4256     0.046992     0.023496   \n",
              "3              200             4130         4630     0.043197     0.021598   \n",
              "4              200             3732         4232     0.047259     0.023629   \n",
              "5              200             4008         4508     0.044366     0.022183   \n",
              "\n",
              "   CONS3_ratio  CONS4_ratio  quarter  FRAUDE  \n",
              "0     0.051164     0.872090        1       0  \n",
              "2     0.046992     0.882519        1       0  \n",
              "3     0.043197     0.892009        1       0  \n",
              "4     0.047259     0.881853        1       0  \n",
              "5     0.044366     0.889086        1       0  "
            ]
          },
          "metadata": {
            "tags": []
          },
          "execution_count": 98
        }
      ]
    },
    {
      "cell_type": "markdown",
      "metadata": {
        "id": "-QOyuUDYrzGG"
      },
      "source": [
        "### Statistical operations on the first group"
      ]
    },
    {
      "cell_type": "code",
      "metadata": {
        "id": "3Jq8bN1frzGG"
      },
      "source": [
        "cols=['BT_CONSO_CONSO1', 'BT_CONSO_CONSO2','BT_CONSO_CONSO3', 'BT_CONSO_CONSO4', 'Consomation','CONS1_ratio', 'CONS2_ratio', 'CONS3_ratio', 'CONS4_ratio',]"
      ],
      "execution_count": null,
      "outputs": []
    },
    {
      "cell_type": "code",
      "metadata": {
        "id": "fD4bmjgdrzGH"
      },
      "source": [
        "group_train_mean_1 = X_1.groupby('BT_CONSO_NUMCPTR')[cols].mean()\n",
        "rename_dict={}\n",
        "for col in cols: \n",
        "    rename_dict[col]=col+\"_mean\"\n",
        "group_train_mean_1.rename(rename_dict, axis= 1,inplace=True)\n",
        "\n",
        "X1  =  pd.merge(X_1,group_train_mean_1, left_on=\"BT_CONSO_NUMCPTR\",right_on=\"BT_CONSO_NUMCPTR\",how=\"inner\")\n",
        "#std\n",
        "group_train_std_1 = X_1.groupby('BT_CONSO_NUMCPTR')[cols].std()\n",
        "rename_dict={}\n",
        "for col in cols: \n",
        "    rename_dict[col]=col+\"_std\"\n",
        "group_train_std_1.rename(rename_dict, axis= 1,inplace=True)\n",
        "\n",
        "X1  =  pd.merge(X1,group_train_std_1, left_on=\"BT_CONSO_NUMCPTR\",right_on=\"BT_CONSO_NUMCPTR\",how=\"inner\")\n",
        "#min\n",
        "\n",
        "group_train_min_1 = X_1.groupby('BT_CONSO_NUMCPTR')[cols].min()\n",
        "rename_dict={}\n",
        "for col in cols: \n",
        "    rename_dict[col]=col+\"_min\"\n",
        "group_train_min_1.rename(rename_dict, axis= 1,inplace=True)\n",
        "\n",
        "X1  =  pd.merge(X1,group_train_min_1, left_on=\"BT_CONSO_NUMCPTR\",right_on=\"BT_CONSO_NUMCPTR\",how=\"inner\")\n",
        "\n",
        "#max\n",
        "\n",
        "group_train_max_1 = X_1.groupby('BT_CONSO_NUMCPTR')[cols].max()\n",
        "rename_dict={}\n",
        "for col in cols: \n",
        "    rename_dict[col]=col+\"_max\"\n",
        "group_train_max_1.rename(rename_dict, axis= 1,inplace=True)\n",
        "\n",
        "X1  =  pd.merge(X1,group_train_max_1, left_on=\"BT_CONSO_NUMCPTR\",right_on=\"BT_CONSO_NUMCPTR\",how=\"inner\")\n",
        "\n",
        "#var\n",
        "\n",
        "group_train_max_1 = X_1.groupby('BT_CONSO_NUMCPTR')[cols].var()\n",
        "rename_dict={}\n",
        "for col in cols: \n",
        "    rename_dict[col]=col+\"_var\"\n",
        "group_train_max_1.rename(rename_dict, axis= 1,inplace=True)\n",
        "\n",
        "X1  =  pd.merge(X1,group_train_max_1, left_on=\"BT_CONSO_NUMCPTR\",right_on=\"BT_CONSO_NUMCPTR\",how=\"inner\")\n",
        "\n",
        "#median\n",
        "\n",
        "group_train_max_1 = X_1.groupby('BT_CONSO_NUMCPTR')[cols].median()\n",
        "rename_dict={}\n",
        "for col in cols: \n",
        "    rename_dict[col]=col+\"_median\"\n",
        "group_train_max_1.rename(rename_dict, axis= 1,inplace=True)\n",
        "\n",
        "X1  =  pd.merge(X1,group_train_max_1, left_on=\"BT_CONSO_NUMCPTR\",right_on=\"BT_CONSO_NUMCPTR\",how=\"inner\")"
      ],
      "execution_count": null,
      "outputs": []
    },
    {
      "cell_type": "markdown",
      "metadata": {
        "id": "sQVarw3trzGJ"
      },
      "source": [
        "We will drop the columns that we already used because we had already took what we want from it."
      ]
    },
    {
      "cell_type": "code",
      "metadata": {
        "id": "d52XaP-7rzGJ"
      },
      "source": [
        "X1.drop(\"BT_CONSO_CONSO1\",1,inplace=True)\n",
        "X1.drop(\"BT_CONSO_CONSO2\",1,inplace=True)\n",
        "X1.drop(\"BT_CONSO_CONSO3\",1,inplace=True)\n",
        "X1.drop(\"BT_CONSO_CONSO4\",1,inplace=True)\n",
        "X1.drop(\"Consomation\",1,inplace=True)\n",
        "X1.drop(\"CONS1_ratio\",1,inplace=True)\n",
        "X1.drop(\"CONS2_ratio\",1,inplace=True)\n",
        "X1.drop(\"CONS3_ratio\",1,inplace=True)\n",
        "X1.drop(\"CONS4_ratio\",1,inplace=True)\n",
        "\n"
      ],
      "execution_count": null,
      "outputs": []
    },
    {
      "cell_type": "code",
      "metadata": {
        "id": "4kHW6K47rzGK",
        "outputId": "3c5d39d0-81c1-468e-c527-a7c2b733e563"
      },
      "source": [
        "X1['FRAUDE'].value_counts()"
      ],
      "execution_count": null,
      "outputs": [
        {
          "output_type": "execute_result",
          "data": {
            "text/plain": [
              "0    145179\n",
              "1      2037\n",
              "Name: FRAUDE, dtype: int64"
            ]
          },
          "metadata": {
            "tags": []
          },
          "execution_count": 102
        }
      ]
    },
    {
      "cell_type": "markdown",
      "metadata": {
        "id": "kSr4mv6erzGM"
      },
      "source": [
        "We have a lot of duplicated values , for that reason we have to drop them in order to feed the data into our model."
      ]
    },
    {
      "cell_type": "code",
      "metadata": {
        "id": "G2ARd2derzGM"
      },
      "source": [
        "X1.drop_duplicates(inplace=True)"
      ],
      "execution_count": null,
      "outputs": []
    },
    {
      "cell_type": "code",
      "metadata": {
        "id": "qUtGnenlrzGP",
        "outputId": "e94d3564-a8f6-4ff6-e8ac-eccf4b85007b"
      },
      "source": [
        "X1['FRAUDE'].value_counts()"
      ],
      "execution_count": null,
      "outputs": [
        {
          "output_type": "execute_result",
          "data": {
            "text/plain": [
              "0    19171\n",
              "1      273\n",
              "Name: FRAUDE, dtype: int64"
            ]
          },
          "metadata": {
            "tags": []
          },
          "execution_count": 104
        }
      ]
    },
    {
      "cell_type": "code",
      "metadata": {
        "id": "lqUzbzk-rzGR"
      },
      "source": [
        "X1.dropna(inplace=True)"
      ],
      "execution_count": null,
      "outputs": []
    },
    {
      "cell_type": "code",
      "metadata": {
        "id": "UCYSJetPrzGV",
        "outputId": "26627da2-afbf-4e42-b7dc-84dddc397ebb"
      },
      "source": [
        "X1['FRAUDE'].value_counts()"
      ],
      "execution_count": null,
      "outputs": [
        {
          "output_type": "execute_result",
          "data": {
            "text/plain": [
              "0    17362\n",
              "1      251\n",
              "Name: FRAUDE, dtype: int64"
            ]
          },
          "metadata": {
            "tags": []
          },
          "execution_count": 106
        }
      ]
    },
    {
      "cell_type": "code",
      "metadata": {
        "scrolled": true,
        "id": "iSRtVvpXrzGW",
        "outputId": "6cd62e1d-5fac-4dd4-89f3-836902efae7e"
      },
      "source": [
        "X1.head()"
      ],
      "execution_count": null,
      "outputs": [
        {
          "output_type": "execute_result",
          "data": {
            "text/html": [
              "<div>\n",
              "<style scoped>\n",
              "    .dataframe tbody tr th:only-of-type {\n",
              "        vertical-align: middle;\n",
              "    }\n",
              "\n",
              "    .dataframe tbody tr th {\n",
              "        vertical-align: top;\n",
              "    }\n",
              "\n",
              "    .dataframe thead th {\n",
              "        text-align: right;\n",
              "    }\n",
              "</style>\n",
              "<table border=\"1\" class=\"dataframe\">\n",
              "  <thead>\n",
              "    <tr style=\"text-align: right;\">\n",
              "      <th></th>\n",
              "      <th>CF_AB_REF</th>\n",
              "      <th>BT_CONSO_NUMCPTR</th>\n",
              "      <th>quarter</th>\n",
              "      <th>FRAUDE</th>\n",
              "      <th>BT_CONSO_CONSO1_mean</th>\n",
              "      <th>BT_CONSO_CONSO2_mean</th>\n",
              "      <th>BT_CONSO_CONSO3_mean</th>\n",
              "      <th>BT_CONSO_CONSO4_mean</th>\n",
              "      <th>Consomation_mean</th>\n",
              "      <th>CONS1_ratio_mean</th>\n",
              "      <th>...</th>\n",
              "      <th>CONS4_ratio_var</th>\n",
              "      <th>BT_CONSO_CONSO1_median</th>\n",
              "      <th>BT_CONSO_CONSO2_median</th>\n",
              "      <th>BT_CONSO_CONSO3_median</th>\n",
              "      <th>BT_CONSO_CONSO4_median</th>\n",
              "      <th>Consomation_median</th>\n",
              "      <th>CONS1_ratio_median</th>\n",
              "      <th>CONS2_ratio_median</th>\n",
              "      <th>CONS3_ratio_median</th>\n",
              "      <th>CONS4_ratio_median</th>\n",
              "    </tr>\n",
              "  </thead>\n",
              "  <tbody>\n",
              "    <tr>\n",
              "      <th>0</th>\n",
              "      <td>110050</td>\n",
              "      <td>124416</td>\n",
              "      <td>1</td>\n",
              "      <td>0</td>\n",
              "      <td>291.633333</td>\n",
              "      <td>3249.088889</td>\n",
              "      <td>91.111111</td>\n",
              "      <td>1512.566667</td>\n",
              "      <td>5144.400000</td>\n",
              "      <td>0.072101</td>\n",
              "      <td>...</td>\n",
              "      <td>0.180760</td>\n",
              "      <td>300.0</td>\n",
              "      <td>3214.0</td>\n",
              "      <td>0.0</td>\n",
              "      <td>0.0</td>\n",
              "      <td>4147.0</td>\n",
              "      <td>0.060846</td>\n",
              "      <td>0.916060</td>\n",
              "      <td>0.000000</td>\n",
              "      <td>0.00000</td>\n",
              "    </tr>\n",
              "    <tr>\n",
              "      <th>90</th>\n",
              "      <td>110070</td>\n",
              "      <td>171147</td>\n",
              "      <td>1</td>\n",
              "      <td>0</td>\n",
              "      <td>268.203390</td>\n",
              "      <td>1138.745763</td>\n",
              "      <td>138.983051</td>\n",
              "      <td>1798.610169</td>\n",
              "      <td>3344.542373</td>\n",
              "      <td>0.118534</td>\n",
              "      <td>...</td>\n",
              "      <td>0.164980</td>\n",
              "      <td>200.0</td>\n",
              "      <td>100.0</td>\n",
              "      <td>200.0</td>\n",
              "      <td>1772.0</td>\n",
              "      <td>2747.0</td>\n",
              "      <td>0.086976</td>\n",
              "      <td>0.043488</td>\n",
              "      <td>0.053858</td>\n",
              "      <td>0.77417</td>\n",
              "    </tr>\n",
              "    <tr>\n",
              "      <th>149</th>\n",
              "      <td>112400</td>\n",
              "      <td>300317</td>\n",
              "      <td>1</td>\n",
              "      <td>0</td>\n",
              "      <td>1382.857143</td>\n",
              "      <td>686.571429</td>\n",
              "      <td>211.785714</td>\n",
              "      <td>0.000000</td>\n",
              "      <td>2281.214286</td>\n",
              "      <td>0.607178</td>\n",
              "      <td>...</td>\n",
              "      <td>0.000000</td>\n",
              "      <td>1200.0</td>\n",
              "      <td>672.0</td>\n",
              "      <td>0.0</td>\n",
              "      <td>0.0</td>\n",
              "      <td>1894.5</td>\n",
              "      <td>0.625501</td>\n",
              "      <td>0.304807</td>\n",
              "      <td>0.000000</td>\n",
              "      <td>0.00000</td>\n",
              "    </tr>\n",
              "    <tr>\n",
              "      <th>150</th>\n",
              "      <td>112401</td>\n",
              "      <td>300317</td>\n",
              "      <td>1</td>\n",
              "      <td>0</td>\n",
              "      <td>1382.857143</td>\n",
              "      <td>686.571429</td>\n",
              "      <td>211.785714</td>\n",
              "      <td>0.000000</td>\n",
              "      <td>2281.214286</td>\n",
              "      <td>0.607178</td>\n",
              "      <td>...</td>\n",
              "      <td>0.000000</td>\n",
              "      <td>1200.0</td>\n",
              "      <td>672.0</td>\n",
              "      <td>0.0</td>\n",
              "      <td>0.0</td>\n",
              "      <td>1894.5</td>\n",
              "      <td>0.625501</td>\n",
              "      <td>0.304807</td>\n",
              "      <td>0.000000</td>\n",
              "      <td>0.00000</td>\n",
              "    </tr>\n",
              "    <tr>\n",
              "      <th>163</th>\n",
              "      <td>112450</td>\n",
              "      <td>300115</td>\n",
              "      <td>1</td>\n",
              "      <td>0</td>\n",
              "      <td>1354.000000</td>\n",
              "      <td>666.928571</td>\n",
              "      <td>310.785714</td>\n",
              "      <td>42.714286</td>\n",
              "      <td>2374.428571</td>\n",
              "      <td>0.584778</td>\n",
              "      <td>...</td>\n",
              "      <td>0.002233</td>\n",
              "      <td>1200.0</td>\n",
              "      <td>650.5</td>\n",
              "      <td>0.0</td>\n",
              "      <td>0.0</td>\n",
              "      <td>2172.5</td>\n",
              "      <td>0.562860</td>\n",
              "      <td>0.264215</td>\n",
              "      <td>0.000000</td>\n",
              "      <td>0.00000</td>\n",
              "    </tr>\n",
              "  </tbody>\n",
              "</table>\n",
              "<p>5 rows × 58 columns</p>\n",
              "</div>"
            ],
            "text/plain": [
              "     CF_AB_REF BT_CONSO_NUMCPTR  quarter  FRAUDE  BT_CONSO_CONSO1_mean  \\\n",
              "0       110050           124416        1       0            291.633333   \n",
              "90      110070           171147        1       0            268.203390   \n",
              "149     112400           300317        1       0           1382.857143   \n",
              "150     112401           300317        1       0           1382.857143   \n",
              "163     112450           300115        1       0           1354.000000   \n",
              "\n",
              "     BT_CONSO_CONSO2_mean  BT_CONSO_CONSO3_mean  BT_CONSO_CONSO4_mean  \\\n",
              "0             3249.088889             91.111111           1512.566667   \n",
              "90            1138.745763            138.983051           1798.610169   \n",
              "149            686.571429            211.785714              0.000000   \n",
              "150            686.571429            211.785714              0.000000   \n",
              "163            666.928571            310.785714             42.714286   \n",
              "\n",
              "     Consomation_mean  CONS1_ratio_mean  ...  CONS4_ratio_var  \\\n",
              "0         5144.400000          0.072101  ...         0.180760   \n",
              "90        3344.542373          0.118534  ...         0.164980   \n",
              "149       2281.214286          0.607178  ...         0.000000   \n",
              "150       2281.214286          0.607178  ...         0.000000   \n",
              "163       2374.428571          0.584778  ...         0.002233   \n",
              "\n",
              "     BT_CONSO_CONSO1_median  BT_CONSO_CONSO2_median  BT_CONSO_CONSO3_median  \\\n",
              "0                     300.0                  3214.0                     0.0   \n",
              "90                    200.0                   100.0                   200.0   \n",
              "149                  1200.0                   672.0                     0.0   \n",
              "150                  1200.0                   672.0                     0.0   \n",
              "163                  1200.0                   650.5                     0.0   \n",
              "\n",
              "     BT_CONSO_CONSO4_median  Consomation_median  CONS1_ratio_median  \\\n",
              "0                       0.0              4147.0            0.060846   \n",
              "90                   1772.0              2747.0            0.086976   \n",
              "149                     0.0              1894.5            0.625501   \n",
              "150                     0.0              1894.5            0.625501   \n",
              "163                     0.0              2172.5            0.562860   \n",
              "\n",
              "     CONS2_ratio_median  CONS3_ratio_median  CONS4_ratio_median  \n",
              "0              0.916060            0.000000             0.00000  \n",
              "90             0.043488            0.053858             0.77417  \n",
              "149            0.304807            0.000000             0.00000  \n",
              "150            0.304807            0.000000             0.00000  \n",
              "163            0.264215            0.000000             0.00000  \n",
              "\n",
              "[5 rows x 58 columns]"
            ]
          },
          "metadata": {
            "tags": []
          },
          "execution_count": 107
        }
      ]
    },
    {
      "cell_type": "code",
      "metadata": {
        "id": "yfbIJcQZrzGX"
      },
      "source": [
        "X1=X1.reset_index()"
      ],
      "execution_count": null,
      "outputs": []
    },
    {
      "cell_type": "markdown",
      "metadata": {
        "id": "qv0_okKqrzGZ"
      },
      "source": [
        "We will store the Fraude columns and the counter columns because we are going to need them to identify which counters are fraudulants"
      ]
    },
    {
      "cell_type": "code",
      "metadata": {
        "id": "q7VVUHODrzGZ"
      },
      "source": [
        "target=X1[\"FRAUDE\"]\n",
        "comp=X1[\"BT_CONSO_NUMCPTR\"]\n",
        "clt=X1[\"CF_AB_REF\"]\n",
        "X1.drop(\"CF_AB_REF\",1,inplace=True)\n",
        "X1.drop(\"BT_CONSO_NUMCPTR\",1,inplace=True)\n",
        "X1.drop(\"FRAUDE\",1,inplace=True)"
      ],
      "execution_count": null,
      "outputs": []
    },
    {
      "cell_type": "code",
      "metadata": {
        "id": "N7xGSUGbrzGa"
      },
      "source": [
        "X1.drop(\"index\",1,inplace=True)\n",
        "X1.drop(\"quarter\",1,inplace=True)"
      ],
      "execution_count": null,
      "outputs": []
    },
    {
      "cell_type": "code",
      "metadata": {
        "id": "CKbp-eR5rzGb",
        "outputId": "9c0bc388-2d50-4535-e23f-797d3447422e"
      },
      "source": [
        "X1.columns"
      ],
      "execution_count": null,
      "outputs": [
        {
          "output_type": "execute_result",
          "data": {
            "text/plain": [
              "Index(['BT_CONSO_CONSO1_mean', 'BT_CONSO_CONSO2_mean', 'BT_CONSO_CONSO3_mean',\n",
              "       'BT_CONSO_CONSO4_mean', 'Consomation_mean', 'CONS1_ratio_mean',\n",
              "       'CONS2_ratio_mean', 'CONS3_ratio_mean', 'CONS4_ratio_mean',\n",
              "       'BT_CONSO_CONSO1_std', 'BT_CONSO_CONSO2_std', 'BT_CONSO_CONSO3_std',\n",
              "       'BT_CONSO_CONSO4_std', 'Consomation_std', 'CONS1_ratio_std',\n",
              "       'CONS2_ratio_std', 'CONS3_ratio_std', 'CONS4_ratio_std',\n",
              "       'BT_CONSO_CONSO1_min', 'BT_CONSO_CONSO2_min', 'BT_CONSO_CONSO3_min',\n",
              "       'BT_CONSO_CONSO4_min', 'Consomation_min', 'CONS1_ratio_min',\n",
              "       'CONS2_ratio_min', 'CONS3_ratio_min', 'CONS4_ratio_min',\n",
              "       'BT_CONSO_CONSO1_max', 'BT_CONSO_CONSO2_max', 'BT_CONSO_CONSO3_max',\n",
              "       'BT_CONSO_CONSO4_max', 'Consomation_max', 'CONS1_ratio_max',\n",
              "       'CONS2_ratio_max', 'CONS3_ratio_max', 'CONS4_ratio_max',\n",
              "       'BT_CONSO_CONSO1_var', 'BT_CONSO_CONSO2_var', 'BT_CONSO_CONSO3_var',\n",
              "       'BT_CONSO_CONSO4_var', 'Consomation_var', 'CONS1_ratio_var',\n",
              "       'CONS2_ratio_var', 'CONS3_ratio_var', 'CONS4_ratio_var',\n",
              "       'BT_CONSO_CONSO1_median', 'BT_CONSO_CONSO2_median',\n",
              "       'BT_CONSO_CONSO3_median', 'BT_CONSO_CONSO4_median',\n",
              "       'Consomation_median', 'CONS1_ratio_median', 'CONS2_ratio_median',\n",
              "       'CONS3_ratio_median', 'CONS4_ratio_median'],\n",
              "      dtype='object')"
            ]
          },
          "metadata": {
            "tags": []
          },
          "execution_count": 111
        }
      ]
    },
    {
      "cell_type": "markdown",
      "metadata": {
        "id": "hMsBxI0vrzGd"
      },
      "source": [
        "## Training "
      ]
    },
    {
      "cell_type": "markdown",
      "metadata": {
        "id": "2nOzEsJ0rzGd"
      },
      "source": [
        "Now, we are going to feed our data into  the  models. After several tries of hyperparameters tuning, we concluded that the parameters below are the best fit."
      ]
    },
    {
      "cell_type": "code",
      "metadata": {
        "scrolled": true,
        "id": "R-crkM-MrzGd",
        "outputId": "2a35cfba-c65b-4dfd-b3b2-838f76de153c"
      },
      "source": [
        "from sklearn.ensemble import IsolationForest\n",
        "from sklearn.neighbors import LocalOutlierFactor\n",
        "from sklearn.cluster import DBSCAN\n",
        "from sklearn.metrics import confusion_matrix, f1_score\n",
        "\n",
        "\n",
        "# outlier detectors to be compared\n",
        "classifiers = {'Isolation Forest':IsolationForest(n_estimators=2, max_samples='auto', \n",
        "                                                  contamination='auto', max_features=1.0,\n",
        "                                                  bootstrap=False, n_jobs=-1, behaviour='deprecated',\n",
        "                                                  random_state=None, verbose=0, warm_start=False),     \n",
        "             'Local Outlier Factor': LocalOutlierFactor(n_neighbors=2, algorithm='auto', leaf_size=30,\n",
        "                                                        metric='minkowski', p=2, metric_params=None,\n",
        "                                                        contamination='auto', novelty=False, n_jobs=None),\n",
        "             'DBSCAN':DBSCAN(eps = .2, metric=\"euclidean\", min_samples = 2, n_jobs = -1)}\n",
        "             \n",
        "for (clf_name, clf) in classifiers.items():\n",
        "    \n",
        "    # fit and predict labels \n",
        "    y_pred = clf.fit_predict(X1)   \n",
        "      \n",
        "    # Reshape the prediction values to 0 for valid, 1 for fraud. \n",
        "    y_pred[y_pred != -1] = 0\n",
        "    y_pred[y_pred == -1] = 1 \n",
        "        \n",
        "    # classification metrics\n",
        "    print(clf_name)\n",
        "    print('Confusion Matrix\\n', confusion_matrix(target, y_pred))  \n",
        "    print('F1-score', f1_score(target, y_pred))\n",
        "    print()"
      ],
      "execution_count": null,
      "outputs": [
        {
          "output_type": "stream",
          "text": [
            "Isolation Forest\n",
            "Confusion Matrix\n",
            " [[16632   730]\n",
            " [  241    10]]\n",
            "F1-score 0.020181634712411706\n",
            "\n",
            "Local Outlier Factor\n",
            "Confusion Matrix\n",
            " [[14719  2643]\n",
            " [  210    41]]\n",
            "F1-score 0.027938671209540033\n",
            "\n",
            "DBSCAN\n",
            "Confusion Matrix\n",
            " [[ 5303 12059]\n",
            " [   39   212]]\n",
            "F1-score 0.033860405685992655\n",
            "\n"
          ],
          "name": "stdout"
        }
      ]
    },
    {
      "cell_type": "markdown",
      "metadata": {
        "id": "fpceW6CYrzGe"
      },
      "source": [
        "As we see we have very bad results for this first quarter , and it's likely to happen for the other groups, for that reason , we will work on all the data.\n",
        "<br>\n",
        "**However**,when we worked only on our data, we had only 290 fraud compared to 28000 non fraudulant counters, for that reason, we decided to extract the frauds from our colleagues data to have a better representation for the fraudulant cluster."
      ]
    },
    {
      "cell_type": "markdown",
      "metadata": {
        "id": "_W4SZ7lPrzGf"
      },
      "source": [
        "# Second approach"
      ]
    },
    {
      "cell_type": "markdown",
      "metadata": {
        "id": "ljBB-_CTrzGf"
      },
      "source": [
        "We will repeat here the same thing that we did on the group of the first trimester but now , it will be applied instead to all our data."
      ]
    },
    {
      "cell_type": "code",
      "metadata": {
        "id": "ehmOGdb9rzGf"
      },
      "source": [
        "cols=['BT_CONSO_CONSO1', 'BT_CONSO_CONSO2','BT_CONSO_CONSO3', 'BT_CONSO_CONSO4', 'Consomation','CONS1_ratio', 'CONS2_ratio', 'CONS3_ratio', 'CONS4_ratio',]"
      ],
      "execution_count": null,
      "outputs": []
    },
    {
      "cell_type": "code",
      "metadata": {
        "id": "HyweQv07rzGj",
        "outputId": "b8adf4ee-a7f5-41c3-9452-ad8ec3644409"
      },
      "source": [
        "X"
      ],
      "execution_count": null,
      "outputs": [
        {
          "output_type": "execute_result",
          "data": {
            "text/html": [
              "<div>\n",
              "<style scoped>\n",
              "    .dataframe tbody tr th:only-of-type {\n",
              "        vertical-align: middle;\n",
              "    }\n",
              "\n",
              "    .dataframe tbody tr th {\n",
              "        vertical-align: top;\n",
              "    }\n",
              "\n",
              "    .dataframe thead th {\n",
              "        text-align: right;\n",
              "    }\n",
              "</style>\n",
              "<table border=\"1\" class=\"dataframe\">\n",
              "  <thead>\n",
              "    <tr style=\"text-align: right;\">\n",
              "      <th></th>\n",
              "      <th>CF_AB_REF</th>\n",
              "      <th>BT_CONSO_NUMCPTR</th>\n",
              "      <th>BT_CONSO_CONSO1</th>\n",
              "      <th>BT_CONSO_CONSO2</th>\n",
              "      <th>BT_CONSO_CONSO3</th>\n",
              "      <th>BT_CONSO_CONSO4</th>\n",
              "      <th>Consomation</th>\n",
              "      <th>CONS1_ratio</th>\n",
              "      <th>CONS2_ratio</th>\n",
              "      <th>CONS3_ratio</th>\n",
              "      <th>CONS4_ratio</th>\n",
              "      <th>quarter</th>\n",
              "      <th>FRAUDE</th>\n",
              "    </tr>\n",
              "  </thead>\n",
              "  <tbody>\n",
              "    <tr>\n",
              "      <th>0</th>\n",
              "      <td>110050</td>\n",
              "      <td>124416</td>\n",
              "      <td>200</td>\n",
              "      <td>100</td>\n",
              "      <td>200</td>\n",
              "      <td>3409</td>\n",
              "      <td>3909</td>\n",
              "      <td>0.051164</td>\n",
              "      <td>0.025582</td>\n",
              "      <td>0.051164</td>\n",
              "      <td>0.872090</td>\n",
              "      <td>1</td>\n",
              "      <td>0</td>\n",
              "    </tr>\n",
              "    <tr>\n",
              "      <th>1</th>\n",
              "      <td>110050</td>\n",
              "      <td>124416</td>\n",
              "      <td>200</td>\n",
              "      <td>100</td>\n",
              "      <td>200</td>\n",
              "      <td>4327</td>\n",
              "      <td>4827</td>\n",
              "      <td>0.041434</td>\n",
              "      <td>0.020717</td>\n",
              "      <td>0.041434</td>\n",
              "      <td>0.896416</td>\n",
              "      <td>2</td>\n",
              "      <td>0</td>\n",
              "    </tr>\n",
              "    <tr>\n",
              "      <th>2</th>\n",
              "      <td>110050</td>\n",
              "      <td>124416</td>\n",
              "      <td>200</td>\n",
              "      <td>100</td>\n",
              "      <td>200</td>\n",
              "      <td>3756</td>\n",
              "      <td>4256</td>\n",
              "      <td>0.046992</td>\n",
              "      <td>0.023496</td>\n",
              "      <td>0.046992</td>\n",
              "      <td>0.882519</td>\n",
              "      <td>1</td>\n",
              "      <td>0</td>\n",
              "    </tr>\n",
              "    <tr>\n",
              "      <th>3</th>\n",
              "      <td>110050</td>\n",
              "      <td>124416</td>\n",
              "      <td>200</td>\n",
              "      <td>100</td>\n",
              "      <td>200</td>\n",
              "      <td>4130</td>\n",
              "      <td>4630</td>\n",
              "      <td>0.043197</td>\n",
              "      <td>0.021598</td>\n",
              "      <td>0.043197</td>\n",
              "      <td>0.892009</td>\n",
              "      <td>1</td>\n",
              "      <td>0</td>\n",
              "    </tr>\n",
              "    <tr>\n",
              "      <th>4</th>\n",
              "      <td>110050</td>\n",
              "      <td>124416</td>\n",
              "      <td>200</td>\n",
              "      <td>100</td>\n",
              "      <td>200</td>\n",
              "      <td>3732</td>\n",
              "      <td>4232</td>\n",
              "      <td>0.047259</td>\n",
              "      <td>0.023629</td>\n",
              "      <td>0.047259</td>\n",
              "      <td>0.881853</td>\n",
              "      <td>1</td>\n",
              "      <td>0</td>\n",
              "    </tr>\n",
              "    <tr>\n",
              "      <th>...</th>\n",
              "      <td>...</td>\n",
              "      <td>...</td>\n",
              "      <td>...</td>\n",
              "      <td>...</td>\n",
              "      <td>...</td>\n",
              "      <td>...</td>\n",
              "      <td>...</td>\n",
              "      <td>...</td>\n",
              "      <td>...</td>\n",
              "      <td>...</td>\n",
              "      <td>...</td>\n",
              "      <td>...</td>\n",
              "      <td>...</td>\n",
              "    </tr>\n",
              "    <tr>\n",
              "      <th>434965</th>\n",
              "      <td>3755650</td>\n",
              "      <td>242238</td>\n",
              "      <td>297</td>\n",
              "      <td>0</td>\n",
              "      <td>0</td>\n",
              "      <td>0</td>\n",
              "      <td>297</td>\n",
              "      <td>1.000000</td>\n",
              "      <td>0.000000</td>\n",
              "      <td>0.000000</td>\n",
              "      <td>0.000000</td>\n",
              "      <td>1</td>\n",
              "      <td>0</td>\n",
              "    </tr>\n",
              "    <tr>\n",
              "      <th>434966</th>\n",
              "      <td>3755650</td>\n",
              "      <td>242238</td>\n",
              "      <td>346</td>\n",
              "      <td>0</td>\n",
              "      <td>0</td>\n",
              "      <td>0</td>\n",
              "      <td>346</td>\n",
              "      <td>1.000000</td>\n",
              "      <td>0.000000</td>\n",
              "      <td>0.000000</td>\n",
              "      <td>0.000000</td>\n",
              "      <td>1</td>\n",
              "      <td>0</td>\n",
              "    </tr>\n",
              "    <tr>\n",
              "      <th>434967</th>\n",
              "      <td>3755650</td>\n",
              "      <td>242238</td>\n",
              "      <td>321</td>\n",
              "      <td>0</td>\n",
              "      <td>0</td>\n",
              "      <td>0</td>\n",
              "      <td>321</td>\n",
              "      <td>1.000000</td>\n",
              "      <td>0.000000</td>\n",
              "      <td>0.000000</td>\n",
              "      <td>0.000000</td>\n",
              "      <td>2</td>\n",
              "      <td>0</td>\n",
              "    </tr>\n",
              "    <tr>\n",
              "      <th>434968</th>\n",
              "      <td>3755650</td>\n",
              "      <td>242238</td>\n",
              "      <td>368</td>\n",
              "      <td>0</td>\n",
              "      <td>0</td>\n",
              "      <td>0</td>\n",
              "      <td>368</td>\n",
              "      <td>1.000000</td>\n",
              "      <td>0.000000</td>\n",
              "      <td>0.000000</td>\n",
              "      <td>0.000000</td>\n",
              "      <td>3</td>\n",
              "      <td>0</td>\n",
              "    </tr>\n",
              "    <tr>\n",
              "      <th>434969</th>\n",
              "      <td>3755650</td>\n",
              "      <td>242238</td>\n",
              "      <td>330</td>\n",
              "      <td>0</td>\n",
              "      <td>0</td>\n",
              "      <td>0</td>\n",
              "      <td>330</td>\n",
              "      <td>1.000000</td>\n",
              "      <td>0.000000</td>\n",
              "      <td>0.000000</td>\n",
              "      <td>0.000000</td>\n",
              "      <td>3</td>\n",
              "      <td>0</td>\n",
              "    </tr>\n",
              "  </tbody>\n",
              "</table>\n",
              "<p>427963 rows × 13 columns</p>\n",
              "</div>"
            ],
            "text/plain": [
              "        CF_AB_REF BT_CONSO_NUMCPTR  BT_CONSO_CONSO1  BT_CONSO_CONSO2  \\\n",
              "0          110050           124416              200              100   \n",
              "1          110050           124416              200              100   \n",
              "2          110050           124416              200              100   \n",
              "3          110050           124416              200              100   \n",
              "4          110050           124416              200              100   \n",
              "...           ...              ...              ...              ...   \n",
              "434965    3755650           242238              297                0   \n",
              "434966    3755650           242238              346                0   \n",
              "434967    3755650           242238              321                0   \n",
              "434968    3755650           242238              368                0   \n",
              "434969    3755650           242238              330                0   \n",
              "\n",
              "        BT_CONSO_CONSO3  BT_CONSO_CONSO4  Consomation  CONS1_ratio  \\\n",
              "0                   200             3409         3909     0.051164   \n",
              "1                   200             4327         4827     0.041434   \n",
              "2                   200             3756         4256     0.046992   \n",
              "3                   200             4130         4630     0.043197   \n",
              "4                   200             3732         4232     0.047259   \n",
              "...                 ...              ...          ...          ...   \n",
              "434965                0                0          297     1.000000   \n",
              "434966                0                0          346     1.000000   \n",
              "434967                0                0          321     1.000000   \n",
              "434968                0                0          368     1.000000   \n",
              "434969                0                0          330     1.000000   \n",
              "\n",
              "        CONS2_ratio  CONS3_ratio  CONS4_ratio  quarter  FRAUDE  \n",
              "0          0.025582     0.051164     0.872090        1       0  \n",
              "1          0.020717     0.041434     0.896416        2       0  \n",
              "2          0.023496     0.046992     0.882519        1       0  \n",
              "3          0.021598     0.043197     0.892009        1       0  \n",
              "4          0.023629     0.047259     0.881853        1       0  \n",
              "...             ...          ...          ...      ...     ...  \n",
              "434965     0.000000     0.000000     0.000000        1       0  \n",
              "434966     0.000000     0.000000     0.000000        1       0  \n",
              "434967     0.000000     0.000000     0.000000        2       0  \n",
              "434968     0.000000     0.000000     0.000000        3       0  \n",
              "434969     0.000000     0.000000     0.000000        3       0  \n",
              "\n",
              "[427963 rows x 13 columns]"
            ]
          },
          "metadata": {
            "tags": []
          },
          "execution_count": 114
        }
      ]
    },
    {
      "cell_type": "code",
      "metadata": {
        "id": "ja8A16-crzGk"
      },
      "source": [
        "group_train_mean_1 = X.groupby('BT_CONSO_NUMCPTR')[cols].mean()\n",
        "rename_dict={}\n",
        "for col in cols: \n",
        "    rename_dict[col]=col+\"_mean\"\n",
        "group_train_mean_1.rename(rename_dict, axis= 1,inplace=True)\n",
        "\n",
        "X1  =  pd.merge(X,group_train_mean_1, left_on=\"BT_CONSO_NUMCPTR\",right_on=\"BT_CONSO_NUMCPTR\",how=\"inner\")\n",
        "#std\n",
        "group_train_std_1 = X.groupby('BT_CONSO_NUMCPTR')[cols].std()\n",
        "rename_dict={}\n",
        "for col in cols: \n",
        "    rename_dict[col]=col+\"_std\"\n",
        "group_train_std_1.rename(rename_dict, axis= 1,inplace=True)\n",
        "\n",
        "X1  =  pd.merge(X1,group_train_std_1, left_on=\"BT_CONSO_NUMCPTR\",right_on=\"BT_CONSO_NUMCPTR\",how=\"inner\")\n",
        "#min\n",
        "\n",
        "group_train_min_1 = X.groupby('BT_CONSO_NUMCPTR')[cols].min()\n",
        "rename_dict={}\n",
        "for col in cols: \n",
        "    rename_dict[col]=col+\"_min\"\n",
        "group_train_min_1.rename(rename_dict, axis= 1,inplace=True)\n",
        "\n",
        "X1  =  pd.merge(X1,group_train_min_1, left_on=\"BT_CONSO_NUMCPTR\",right_on=\"BT_CONSO_NUMCPTR\",how=\"inner\")\n",
        "\n",
        "#max\n",
        "\n",
        "group_train_max_1 = X.groupby('BT_CONSO_NUMCPTR')[cols].max()\n",
        "rename_dict={}\n",
        "for col in cols: \n",
        "    rename_dict[col]=col+\"_max\"\n",
        "group_train_max_1.rename(rename_dict, axis= 1,inplace=True)\n",
        "\n",
        "X1  =  pd.merge(X1,group_train_max_1, left_on=\"BT_CONSO_NUMCPTR\",right_on=\"BT_CONSO_NUMCPTR\",how=\"inner\")\n",
        "\n",
        "#median\n",
        "\n",
        "group_train_max_1 = X_1.groupby('BT_CONSO_NUMCPTR')[cols].median()\n",
        "rename_dict={}\n",
        "for col in cols: \n",
        "    rename_dict[col]=col+\"_median\"\n",
        "group_train_max_1.rename(rename_dict, axis= 1,inplace=True)\n",
        "\n",
        "X1  =  pd.merge(X1,group_train_max_1, left_on=\"BT_CONSO_NUMCPTR\",right_on=\"BT_CONSO_NUMCPTR\",how=\"inner\")\n",
        "\n",
        "#var\n",
        "\n",
        "group_train_max_1 = X_1.groupby('BT_CONSO_NUMCPTR')[cols].var()\n",
        "rename_dict={}\n",
        "for col in cols: \n",
        "    rename_dict[col]=col+\"_var\"\n",
        "group_train_max_1.rename(rename_dict, axis= 1,inplace=True)\n",
        "\n",
        "X1  =  pd.merge(X1,group_train_max_1, left_on=\"BT_CONSO_NUMCPTR\",right_on=\"BT_CONSO_NUMCPTR\",how=\"inner\")\n"
      ],
      "execution_count": null,
      "outputs": []
    },
    {
      "cell_type": "code",
      "metadata": {
        "id": "Tk1MtoUDrzGm",
        "outputId": "04ea907e-aad4-40e1-e917-b9bce2c4f9b6"
      },
      "source": [
        "X1.columns"
      ],
      "execution_count": null,
      "outputs": [
        {
          "output_type": "execute_result",
          "data": {
            "text/plain": [
              "Index(['CF_AB_REF', 'BT_CONSO_NUMCPTR', 'BT_CONSO_CONSO1', 'BT_CONSO_CONSO2',\n",
              "       'BT_CONSO_CONSO3', 'BT_CONSO_CONSO4', 'Consomation', 'CONS1_ratio',\n",
              "       'CONS2_ratio', 'CONS3_ratio', 'CONS4_ratio', 'quarter', 'FRAUDE',\n",
              "       'BT_CONSO_CONSO1_mean', 'BT_CONSO_CONSO2_mean', 'BT_CONSO_CONSO3_mean',\n",
              "       'BT_CONSO_CONSO4_mean', 'Consomation_mean', 'CONS1_ratio_mean',\n",
              "       'CONS2_ratio_mean', 'CONS3_ratio_mean', 'CONS4_ratio_mean',\n",
              "       'BT_CONSO_CONSO1_std', 'BT_CONSO_CONSO2_std', 'BT_CONSO_CONSO3_std',\n",
              "       'BT_CONSO_CONSO4_std', 'Consomation_std', 'CONS1_ratio_std',\n",
              "       'CONS2_ratio_std', 'CONS3_ratio_std', 'CONS4_ratio_std',\n",
              "       'BT_CONSO_CONSO1_min', 'BT_CONSO_CONSO2_min', 'BT_CONSO_CONSO3_min',\n",
              "       'BT_CONSO_CONSO4_min', 'Consomation_min', 'CONS1_ratio_min',\n",
              "       'CONS2_ratio_min', 'CONS3_ratio_min', 'CONS4_ratio_min',\n",
              "       'BT_CONSO_CONSO1_max', 'BT_CONSO_CONSO2_max', 'BT_CONSO_CONSO3_max',\n",
              "       'BT_CONSO_CONSO4_max', 'Consomation_max', 'CONS1_ratio_max',\n",
              "       'CONS2_ratio_max', 'CONS3_ratio_max', 'CONS4_ratio_max',\n",
              "       'BT_CONSO_CONSO1_median', 'BT_CONSO_CONSO2_median',\n",
              "       'BT_CONSO_CONSO3_median', 'BT_CONSO_CONSO4_median',\n",
              "       'Consomation_median', 'CONS1_ratio_median', 'CONS2_ratio_median',\n",
              "       'CONS3_ratio_median', 'CONS4_ratio_median', 'BT_CONSO_CONSO1_var',\n",
              "       'BT_CONSO_CONSO2_var', 'BT_CONSO_CONSO3_var', 'BT_CONSO_CONSO4_var',\n",
              "       'Consomation_var', 'CONS1_ratio_var', 'CONS2_ratio_var',\n",
              "       'CONS3_ratio_var', 'CONS4_ratio_var'],\n",
              "      dtype='object')"
            ]
          },
          "metadata": {
            "tags": []
          },
          "execution_count": 116
        }
      ]
    },
    {
      "cell_type": "code",
      "metadata": {
        "id": "B-YkepRZrzGo"
      },
      "source": [
        "X1.drop(\"BT_CONSO_CONSO1\",1,inplace=True)\n",
        "X1.drop(\"BT_CONSO_CONSO2\",1,inplace=True)\n",
        "X1.drop(\"BT_CONSO_CONSO3\",1,inplace=True)\n",
        "X1.drop(\"BT_CONSO_CONSO4\",1,inplace=True)\n",
        "X1.drop(\"Consomation\",1,inplace=True)\n",
        "X1.drop(\"CONS1_ratio\",1,inplace=True)\n",
        "X1.drop(\"CONS2_ratio\",1,inplace=True)\n",
        "X1.drop(\"CONS3_ratio\",1,inplace=True)\n",
        "X1.drop(\"CONS4_ratio\",1,inplace=True)\n",
        "\n"
      ],
      "execution_count": null,
      "outputs": []
    },
    {
      "cell_type": "code",
      "metadata": {
        "id": "1Hvdax-NrzGo"
      },
      "source": [
        "X1.drop(\"quarter\",1,inplace=True)"
      ],
      "execution_count": null,
      "outputs": []
    },
    {
      "cell_type": "code",
      "metadata": {
        "id": "U-eFTmcWrzGp",
        "outputId": "469ee867-91eb-433d-8e3c-a54e076d6812"
      },
      "source": [
        "X1.head()"
      ],
      "execution_count": null,
      "outputs": [
        {
          "output_type": "execute_result",
          "data": {
            "text/html": [
              "<div>\n",
              "<style scoped>\n",
              "    .dataframe tbody tr th:only-of-type {\n",
              "        vertical-align: middle;\n",
              "    }\n",
              "\n",
              "    .dataframe tbody tr th {\n",
              "        vertical-align: top;\n",
              "    }\n",
              "\n",
              "    .dataframe thead th {\n",
              "        text-align: right;\n",
              "    }\n",
              "</style>\n",
              "<table border=\"1\" class=\"dataframe\">\n",
              "  <thead>\n",
              "    <tr style=\"text-align: right;\">\n",
              "      <th></th>\n",
              "      <th>CF_AB_REF</th>\n",
              "      <th>BT_CONSO_NUMCPTR</th>\n",
              "      <th>FRAUDE</th>\n",
              "      <th>BT_CONSO_CONSO1_mean</th>\n",
              "      <th>BT_CONSO_CONSO2_mean</th>\n",
              "      <th>BT_CONSO_CONSO3_mean</th>\n",
              "      <th>BT_CONSO_CONSO4_mean</th>\n",
              "      <th>Consomation_mean</th>\n",
              "      <th>CONS1_ratio_mean</th>\n",
              "      <th>CONS2_ratio_mean</th>\n",
              "      <th>...</th>\n",
              "      <th>CONS4_ratio_median</th>\n",
              "      <th>BT_CONSO_CONSO1_var</th>\n",
              "      <th>BT_CONSO_CONSO2_var</th>\n",
              "      <th>BT_CONSO_CONSO3_var</th>\n",
              "      <th>BT_CONSO_CONSO4_var</th>\n",
              "      <th>Consomation_var</th>\n",
              "      <th>CONS1_ratio_var</th>\n",
              "      <th>CONS2_ratio_var</th>\n",
              "      <th>CONS3_ratio_var</th>\n",
              "      <th>CONS4_ratio_var</th>\n",
              "    </tr>\n",
              "  </thead>\n",
              "  <tbody>\n",
              "    <tr>\n",
              "      <th>0</th>\n",
              "      <td>110050</td>\n",
              "      <td>124416</td>\n",
              "      <td>0</td>\n",
              "      <td>306.862319</td>\n",
              "      <td>3572.804348</td>\n",
              "      <td>91.304348</td>\n",
              "      <td>1482.449275</td>\n",
              "      <td>5453.42029</td>\n",
              "      <td>0.068039</td>\n",
              "      <td>0.571008</td>\n",
              "      <td>...</td>\n",
              "      <td>0.0</td>\n",
              "      <td>25704.594382</td>\n",
              "      <td>1.636554e+07</td>\n",
              "      <td>16324.594257</td>\n",
              "      <td>4.875409e+06</td>\n",
              "      <td>1.269367e+07</td>\n",
              "      <td>0.010204</td>\n",
              "      <td>0.200755</td>\n",
              "      <td>0.000735</td>\n",
              "      <td>0.18076</td>\n",
              "    </tr>\n",
              "    <tr>\n",
              "      <th>1</th>\n",
              "      <td>110050</td>\n",
              "      <td>124416</td>\n",
              "      <td>0</td>\n",
              "      <td>306.862319</td>\n",
              "      <td>3572.804348</td>\n",
              "      <td>91.304348</td>\n",
              "      <td>1482.449275</td>\n",
              "      <td>5453.42029</td>\n",
              "      <td>0.068039</td>\n",
              "      <td>0.571008</td>\n",
              "      <td>...</td>\n",
              "      <td>0.0</td>\n",
              "      <td>25704.594382</td>\n",
              "      <td>1.636554e+07</td>\n",
              "      <td>16324.594257</td>\n",
              "      <td>4.875409e+06</td>\n",
              "      <td>1.269367e+07</td>\n",
              "      <td>0.010204</td>\n",
              "      <td>0.200755</td>\n",
              "      <td>0.000735</td>\n",
              "      <td>0.18076</td>\n",
              "    </tr>\n",
              "    <tr>\n",
              "      <th>2</th>\n",
              "      <td>110050</td>\n",
              "      <td>124416</td>\n",
              "      <td>0</td>\n",
              "      <td>306.862319</td>\n",
              "      <td>3572.804348</td>\n",
              "      <td>91.304348</td>\n",
              "      <td>1482.449275</td>\n",
              "      <td>5453.42029</td>\n",
              "      <td>0.068039</td>\n",
              "      <td>0.571008</td>\n",
              "      <td>...</td>\n",
              "      <td>0.0</td>\n",
              "      <td>25704.594382</td>\n",
              "      <td>1.636554e+07</td>\n",
              "      <td>16324.594257</td>\n",
              "      <td>4.875409e+06</td>\n",
              "      <td>1.269367e+07</td>\n",
              "      <td>0.010204</td>\n",
              "      <td>0.200755</td>\n",
              "      <td>0.000735</td>\n",
              "      <td>0.18076</td>\n",
              "    </tr>\n",
              "    <tr>\n",
              "      <th>3</th>\n",
              "      <td>110050</td>\n",
              "      <td>124416</td>\n",
              "      <td>0</td>\n",
              "      <td>306.862319</td>\n",
              "      <td>3572.804348</td>\n",
              "      <td>91.304348</td>\n",
              "      <td>1482.449275</td>\n",
              "      <td>5453.42029</td>\n",
              "      <td>0.068039</td>\n",
              "      <td>0.571008</td>\n",
              "      <td>...</td>\n",
              "      <td>0.0</td>\n",
              "      <td>25704.594382</td>\n",
              "      <td>1.636554e+07</td>\n",
              "      <td>16324.594257</td>\n",
              "      <td>4.875409e+06</td>\n",
              "      <td>1.269367e+07</td>\n",
              "      <td>0.010204</td>\n",
              "      <td>0.200755</td>\n",
              "      <td>0.000735</td>\n",
              "      <td>0.18076</td>\n",
              "    </tr>\n",
              "    <tr>\n",
              "      <th>4</th>\n",
              "      <td>110050</td>\n",
              "      <td>124416</td>\n",
              "      <td>0</td>\n",
              "      <td>306.862319</td>\n",
              "      <td>3572.804348</td>\n",
              "      <td>91.304348</td>\n",
              "      <td>1482.449275</td>\n",
              "      <td>5453.42029</td>\n",
              "      <td>0.068039</td>\n",
              "      <td>0.571008</td>\n",
              "      <td>...</td>\n",
              "      <td>0.0</td>\n",
              "      <td>25704.594382</td>\n",
              "      <td>1.636554e+07</td>\n",
              "      <td>16324.594257</td>\n",
              "      <td>4.875409e+06</td>\n",
              "      <td>1.269367e+07</td>\n",
              "      <td>0.010204</td>\n",
              "      <td>0.200755</td>\n",
              "      <td>0.000735</td>\n",
              "      <td>0.18076</td>\n",
              "    </tr>\n",
              "  </tbody>\n",
              "</table>\n",
              "<p>5 rows × 57 columns</p>\n",
              "</div>"
            ],
            "text/plain": [
              "   CF_AB_REF BT_CONSO_NUMCPTR  FRAUDE  BT_CONSO_CONSO1_mean  \\\n",
              "0     110050           124416       0            306.862319   \n",
              "1     110050           124416       0            306.862319   \n",
              "2     110050           124416       0            306.862319   \n",
              "3     110050           124416       0            306.862319   \n",
              "4     110050           124416       0            306.862319   \n",
              "\n",
              "   BT_CONSO_CONSO2_mean  BT_CONSO_CONSO3_mean  BT_CONSO_CONSO4_mean  \\\n",
              "0           3572.804348             91.304348           1482.449275   \n",
              "1           3572.804348             91.304348           1482.449275   \n",
              "2           3572.804348             91.304348           1482.449275   \n",
              "3           3572.804348             91.304348           1482.449275   \n",
              "4           3572.804348             91.304348           1482.449275   \n",
              "\n",
              "   Consomation_mean  CONS1_ratio_mean  CONS2_ratio_mean  ...  \\\n",
              "0        5453.42029          0.068039          0.571008  ...   \n",
              "1        5453.42029          0.068039          0.571008  ...   \n",
              "2        5453.42029          0.068039          0.571008  ...   \n",
              "3        5453.42029          0.068039          0.571008  ...   \n",
              "4        5453.42029          0.068039          0.571008  ...   \n",
              "\n",
              "   CONS4_ratio_median  BT_CONSO_CONSO1_var  BT_CONSO_CONSO2_var  \\\n",
              "0                 0.0         25704.594382         1.636554e+07   \n",
              "1                 0.0         25704.594382         1.636554e+07   \n",
              "2                 0.0         25704.594382         1.636554e+07   \n",
              "3                 0.0         25704.594382         1.636554e+07   \n",
              "4                 0.0         25704.594382         1.636554e+07   \n",
              "\n",
              "   BT_CONSO_CONSO3_var  BT_CONSO_CONSO4_var  Consomation_var  CONS1_ratio_var  \\\n",
              "0         16324.594257         4.875409e+06     1.269367e+07         0.010204   \n",
              "1         16324.594257         4.875409e+06     1.269367e+07         0.010204   \n",
              "2         16324.594257         4.875409e+06     1.269367e+07         0.010204   \n",
              "3         16324.594257         4.875409e+06     1.269367e+07         0.010204   \n",
              "4         16324.594257         4.875409e+06     1.269367e+07         0.010204   \n",
              "\n",
              "   CONS2_ratio_var  CONS3_ratio_var  CONS4_ratio_var  \n",
              "0         0.200755         0.000735          0.18076  \n",
              "1         0.200755         0.000735          0.18076  \n",
              "2         0.200755         0.000735          0.18076  \n",
              "3         0.200755         0.000735          0.18076  \n",
              "4         0.200755         0.000735          0.18076  \n",
              "\n",
              "[5 rows x 57 columns]"
            ]
          },
          "metadata": {
            "tags": []
          },
          "execution_count": 119
        }
      ]
    },
    {
      "cell_type": "code",
      "metadata": {
        "id": "fGLqbMGfrzGq",
        "outputId": "5b430ac7-152e-441f-ec0c-2b068e43dfdf"
      },
      "source": [
        "X1['FRAUDE'].value_counts()"
      ],
      "execution_count": null,
      "outputs": [
        {
          "output_type": "execute_result",
          "data": {
            "text/plain": [
              "0    420912\n",
              "1      5664\n",
              "Name: FRAUDE, dtype: int64"
            ]
          },
          "metadata": {
            "tags": []
          },
          "execution_count": 120
        }
      ]
    },
    {
      "cell_type": "markdown",
      "metadata": {
        "id": "r9Bupc4KrzGs"
      },
      "source": [
        "We have a lot of duplicates because of the merge that we did, for that reason we are going to drop them"
      ]
    },
    {
      "cell_type": "code",
      "metadata": {
        "id": "eXr5HieDrzGs"
      },
      "source": [
        "X1.drop_duplicates(inplace=True)"
      ],
      "execution_count": null,
      "outputs": []
    },
    {
      "cell_type": "code",
      "metadata": {
        "id": "t9YttX30rzGt"
      },
      "source": [
        "X1.dropna(inplace=True)"
      ],
      "execution_count": null,
      "outputs": []
    },
    {
      "cell_type": "code",
      "metadata": {
        "id": "lAdWmclfrzGv",
        "outputId": "013dce14-ce56-4db8-c43e-5a8c71910a82"
      },
      "source": [
        "X1['FRAUDE'].value_counts()"
      ],
      "execution_count": null,
      "outputs": [
        {
          "output_type": "execute_result",
          "data": {
            "text/plain": [
              "0    18092\n",
              "1      254\n",
              "Name: FRAUDE, dtype: int64"
            ]
          },
          "metadata": {
            "tags": []
          },
          "execution_count": 123
        }
      ]
    },
    {
      "cell_type": "markdown",
      "metadata": {
        "id": "vHfOZlP6rzGw"
      },
      "source": [
        "As we see, we have only 254 frauds comapred to 18092 non frauds , for that reason we will bring some frauds from our colleagues data."
      ]
    },
    {
      "cell_type": "markdown",
      "metadata": {
        "id": "bHFWd7C1rzGw"
      },
      "source": [
        "### Bringing Data"
      ]
    },
    {
      "cell_type": "markdown",
      "metadata": {
        "id": "kd0lOTWirzGw"
      },
      "source": [
        "For the second and third csv files, we applied the same data preparation that we did before, in order to maintain the same shape."
      ]
    },
    {
      "cell_type": "code",
      "metadata": {
        "id": "OYXkIjd4rzGy"
      },
      "source": [
        "second=pd.read_csv('62.csv')\n",
        "third=pd.read_csv('63.csv')"
      ],
      "execution_count": null,
      "outputs": []
    },
    {
      "cell_type": "code",
      "metadata": {
        "id": "NUUc1d2CrzG0"
      },
      "source": [
        "forth=pd.read_csv('69.csv')"
      ],
      "execution_count": null,
      "outputs": []
    },
    {
      "cell_type": "code",
      "metadata": {
        "id": "J_jNxesMrzG1",
        "outputId": "d1e97cc3-3194-4245-b7e3-3dd252dc37a8"
      },
      "source": [
        "forth.head()"
      ],
      "execution_count": null,
      "outputs": [
        {
          "output_type": "execute_result",
          "data": {
            "text/html": [
              "<div>\n",
              "<style scoped>\n",
              "    .dataframe tbody tr th:only-of-type {\n",
              "        vertical-align: middle;\n",
              "    }\n",
              "\n",
              "    .dataframe tbody tr th {\n",
              "        vertical-align: top;\n",
              "    }\n",
              "\n",
              "    .dataframe thead th {\n",
              "        text-align: right;\n",
              "    }\n",
              "</style>\n",
              "<table border=\"1\" class=\"dataframe\">\n",
              "  <thead>\n",
              "    <tr style=\"text-align: right;\">\n",
              "      <th></th>\n",
              "      <th>Unnamed: 0</th>\n",
              "      <th>CF_AB_REF</th>\n",
              "      <th>BT_CONSO_NUMCPTR</th>\n",
              "      <th>FRAUDE</th>\n",
              "      <th>BT_CONSO_CONSO1_mean</th>\n",
              "      <th>BT_CONSO_CONSO2_mean</th>\n",
              "      <th>BT_CONSO_CONSO3_mean</th>\n",
              "      <th>BT_CONSO_CONSO4_mean</th>\n",
              "      <th>Consomation_mean</th>\n",
              "      <th>CONS1_ratio_mean</th>\n",
              "      <th>...</th>\n",
              "      <th>CONS4_ratio_median</th>\n",
              "      <th>BT_CONSO_CONSO1_var</th>\n",
              "      <th>BT_CONSO_CONSO2_var</th>\n",
              "      <th>BT_CONSO_CONSO3_var</th>\n",
              "      <th>BT_CONSO_CONSO4_var</th>\n",
              "      <th>Consomation_var</th>\n",
              "      <th>CONS1_ratio_var</th>\n",
              "      <th>CONS2_ratio_var</th>\n",
              "      <th>CONS3_ratio_var</th>\n",
              "      <th>CONS4_ratio_var</th>\n",
              "    </tr>\n",
              "  </thead>\n",
              "  <tbody>\n",
              "    <tr>\n",
              "      <th>0</th>\n",
              "      <td>137</td>\n",
              "      <td>215020780</td>\n",
              "      <td>351822</td>\n",
              "      <td>1</td>\n",
              "      <td>431.238095</td>\n",
              "      <td>76.190476</td>\n",
              "      <td>64.142857</td>\n",
              "      <td>10.380952</td>\n",
              "      <td>581.952381</td>\n",
              "      <td>0.899855</td>\n",
              "      <td>...</td>\n",
              "      <td>0.0</td>\n",
              "      <td>105515.290476</td>\n",
              "      <td>25904.761905</td>\n",
              "      <td>32726.528571</td>\n",
              "      <td>2263.047619</td>\n",
              "      <td>3.498406e+05</td>\n",
              "      <td>0.041693</td>\n",
              "      <td>0.012556</td>\n",
              "      <td>0.008475</td>\n",
              "      <td>0.000508</td>\n",
              "    </tr>\n",
              "    <tr>\n",
              "      <th>1</th>\n",
              "      <td>158</td>\n",
              "      <td>215020780</td>\n",
              "      <td>17412</td>\n",
              "      <td>1</td>\n",
              "      <td>609.416667</td>\n",
              "      <td>0.000000</td>\n",
              "      <td>0.000000</td>\n",
              "      <td>0.000000</td>\n",
              "      <td>609.416667</td>\n",
              "      <td>1.000000</td>\n",
              "      <td>...</td>\n",
              "      <td>0.0</td>\n",
              "      <td>38784.265152</td>\n",
              "      <td>0.000000</td>\n",
              "      <td>0.000000</td>\n",
              "      <td>0.000000</td>\n",
              "      <td>3.878427e+04</td>\n",
              "      <td>0.000000</td>\n",
              "      <td>0.000000</td>\n",
              "      <td>0.000000</td>\n",
              "      <td>0.000000</td>\n",
              "    </tr>\n",
              "    <tr>\n",
              "      <th>2</th>\n",
              "      <td>270</td>\n",
              "      <td>215021520</td>\n",
              "      <td>59323</td>\n",
              "      <td>1</td>\n",
              "      <td>571.156250</td>\n",
              "      <td>95.781250</td>\n",
              "      <td>7.718750</td>\n",
              "      <td>0.000000</td>\n",
              "      <td>674.656250</td>\n",
              "      <td>0.922400</td>\n",
              "      <td>...</td>\n",
              "      <td>0.0</td>\n",
              "      <td>77399.555444</td>\n",
              "      <td>34262.950605</td>\n",
              "      <td>618.853831</td>\n",
              "      <td>0.000000</td>\n",
              "      <td>2.149828e+05</td>\n",
              "      <td>0.017599</td>\n",
              "      <td>0.014916</td>\n",
              "      <td>0.000249</td>\n",
              "      <td>0.000000</td>\n",
              "    </tr>\n",
              "    <tr>\n",
              "      <th>3</th>\n",
              "      <td>366</td>\n",
              "      <td>215021570</td>\n",
              "      <td>59367</td>\n",
              "      <td>1</td>\n",
              "      <td>314.909091</td>\n",
              "      <td>2.878788</td>\n",
              "      <td>0.000000</td>\n",
              "      <td>0.000000</td>\n",
              "      <td>317.787879</td>\n",
              "      <td>0.998302</td>\n",
              "      <td>...</td>\n",
              "      <td>0.0</td>\n",
              "      <td>73683.085227</td>\n",
              "      <td>273.484848</td>\n",
              "      <td>0.000000</td>\n",
              "      <td>0.000000</td>\n",
              "      <td>8.158680e+04</td>\n",
              "      <td>0.000095</td>\n",
              "      <td>0.000095</td>\n",
              "      <td>0.000000</td>\n",
              "      <td>0.000000</td>\n",
              "    </tr>\n",
              "    <tr>\n",
              "      <th>4</th>\n",
              "      <td>723</td>\n",
              "      <td>215021750</td>\n",
              "      <td>LZ15X405572377</td>\n",
              "      <td>1</td>\n",
              "      <td>669.500000</td>\n",
              "      <td>83.333333</td>\n",
              "      <td>166.666667</td>\n",
              "      <td>228.583333</td>\n",
              "      <td>1459.250000</td>\n",
              "      <td>0.798168</td>\n",
              "      <td>...</td>\n",
              "      <td>0.0</td>\n",
              "      <td>111044.818182</td>\n",
              "      <td>25151.515152</td>\n",
              "      <td>100606.060606</td>\n",
              "      <td>230476.083333</td>\n",
              "      <td>1.650824e+06</td>\n",
              "      <td>0.120998</td>\n",
              "      <td>0.004062</td>\n",
              "      <td>0.016249</td>\n",
              "      <td>0.036157</td>\n",
              "    </tr>\n",
              "  </tbody>\n",
              "</table>\n",
              "<p>5 rows × 58 columns</p>\n",
              "</div>"
            ],
            "text/plain": [
              "   Unnamed: 0  CF_AB_REF BT_CONSO_NUMCPTR  FRAUDE  BT_CONSO_CONSO1_mean  \\\n",
              "0         137  215020780           351822       1            431.238095   \n",
              "1         158  215020780            17412       1            609.416667   \n",
              "2         270  215021520            59323       1            571.156250   \n",
              "3         366  215021570            59367       1            314.909091   \n",
              "4         723  215021750   LZ15X405572377       1            669.500000   \n",
              "\n",
              "   BT_CONSO_CONSO2_mean  BT_CONSO_CONSO3_mean  BT_CONSO_CONSO4_mean  \\\n",
              "0             76.190476             64.142857             10.380952   \n",
              "1              0.000000              0.000000              0.000000   \n",
              "2             95.781250              7.718750              0.000000   \n",
              "3              2.878788              0.000000              0.000000   \n",
              "4             83.333333            166.666667            228.583333   \n",
              "\n",
              "   Consomation_mean  CONS1_ratio_mean  ...  CONS4_ratio_median  \\\n",
              "0        581.952381          0.899855  ...                 0.0   \n",
              "1        609.416667          1.000000  ...                 0.0   \n",
              "2        674.656250          0.922400  ...                 0.0   \n",
              "3        317.787879          0.998302  ...                 0.0   \n",
              "4       1459.250000          0.798168  ...                 0.0   \n",
              "\n",
              "   BT_CONSO_CONSO1_var  BT_CONSO_CONSO2_var  BT_CONSO_CONSO3_var  \\\n",
              "0        105515.290476         25904.761905         32726.528571   \n",
              "1         38784.265152             0.000000             0.000000   \n",
              "2         77399.555444         34262.950605           618.853831   \n",
              "3         73683.085227           273.484848             0.000000   \n",
              "4        111044.818182         25151.515152        100606.060606   \n",
              "\n",
              "   BT_CONSO_CONSO4_var  Consomation_var  CONS1_ratio_var  CONS2_ratio_var  \\\n",
              "0          2263.047619     3.498406e+05         0.041693         0.012556   \n",
              "1             0.000000     3.878427e+04         0.000000         0.000000   \n",
              "2             0.000000     2.149828e+05         0.017599         0.014916   \n",
              "3             0.000000     8.158680e+04         0.000095         0.000095   \n",
              "4        230476.083333     1.650824e+06         0.120998         0.004062   \n",
              "\n",
              "   CONS3_ratio_var  CONS4_ratio_var  \n",
              "0         0.008475         0.000508  \n",
              "1         0.000000         0.000000  \n",
              "2         0.000249         0.000000  \n",
              "3         0.000000         0.000000  \n",
              "4         0.016249         0.036157  \n",
              "\n",
              "[5 rows x 58 columns]"
            ]
          },
          "metadata": {
            "tags": []
          },
          "execution_count": 126
        }
      ]
    },
    {
      "cell_type": "code",
      "metadata": {
        "id": "QZ7wWTe_rzG3",
        "outputId": "c96a3d06-75d6-44c2-d729-b66e54ff85de"
      },
      "source": [
        "third.head()\n"
      ],
      "execution_count": null,
      "outputs": [
        {
          "output_type": "execute_result",
          "data": {
            "text/html": [
              "<div>\n",
              "<style scoped>\n",
              "    .dataframe tbody tr th:only-of-type {\n",
              "        vertical-align: middle;\n",
              "    }\n",
              "\n",
              "    .dataframe tbody tr th {\n",
              "        vertical-align: top;\n",
              "    }\n",
              "\n",
              "    .dataframe thead th {\n",
              "        text-align: right;\n",
              "    }\n",
              "</style>\n",
              "<table border=\"1\" class=\"dataframe\">\n",
              "  <thead>\n",
              "    <tr style=\"text-align: right;\">\n",
              "      <th></th>\n",
              "      <th>Unnamed: 0</th>\n",
              "      <th>CF_AB_REF</th>\n",
              "      <th>BT_CONSO_NUMCPTR</th>\n",
              "      <th>FRAUDE</th>\n",
              "      <th>BT_CONSO_CONSO1_mean</th>\n",
              "      <th>BT_CONSO_CONSO2_mean</th>\n",
              "      <th>BT_CONSO_CONSO3_mean</th>\n",
              "      <th>BT_CONSO_CONSO4_mean</th>\n",
              "      <th>Consomation_mean</th>\n",
              "      <th>CONS1_ratio_mean</th>\n",
              "      <th>...</th>\n",
              "      <th>CONS4_ratio_median</th>\n",
              "      <th>BT_CONSO_CONSO1_var</th>\n",
              "      <th>BT_CONSO_CONSO2_var</th>\n",
              "      <th>BT_CONSO_CONSO3_var</th>\n",
              "      <th>BT_CONSO_CONSO4_var</th>\n",
              "      <th>Consomation_var</th>\n",
              "      <th>CONS1_ratio_var</th>\n",
              "      <th>CONS2_ratio_var</th>\n",
              "      <th>CONS3_ratio_var</th>\n",
              "      <th>CONS4_ratio_var</th>\n",
              "    </tr>\n",
              "  </thead>\n",
              "  <tbody>\n",
              "    <tr>\n",
              "      <th>0</th>\n",
              "      <td>42</td>\n",
              "      <td>230073150</td>\n",
              "      <td>610001</td>\n",
              "      <td>1</td>\n",
              "      <td>385.638889</td>\n",
              "      <td>0.000000</td>\n",
              "      <td>0.000</td>\n",
              "      <td>0.0</td>\n",
              "      <td>385.638889</td>\n",
              "      <td>1.000000</td>\n",
              "      <td>...</td>\n",
              "      <td>0.0</td>\n",
              "      <td>26951.323016</td>\n",
              "      <td>0.000000</td>\n",
              "      <td>0.00</td>\n",
              "      <td>0.0</td>\n",
              "      <td>26951.323016</td>\n",
              "      <td>0.000000</td>\n",
              "      <td>0.000000</td>\n",
              "      <td>0.000000</td>\n",
              "      <td>0.0</td>\n",
              "    </tr>\n",
              "    <tr>\n",
              "      <th>1</th>\n",
              "      <td>78</td>\n",
              "      <td>230073150</td>\n",
              "      <td>2175703053400</td>\n",
              "      <td>1</td>\n",
              "      <td>472.333333</td>\n",
              "      <td>48.333333</td>\n",
              "      <td>0.000</td>\n",
              "      <td>0.0</td>\n",
              "      <td>520.666667</td>\n",
              "      <td>0.955657</td>\n",
              "      <td>...</td>\n",
              "      <td>0.0</td>\n",
              "      <td>66751.466667</td>\n",
              "      <td>14016.666667</td>\n",
              "      <td>0.00</td>\n",
              "      <td>0.0</td>\n",
              "      <td>118777.466667</td>\n",
              "      <td>0.011798</td>\n",
              "      <td>0.011798</td>\n",
              "      <td>0.000000</td>\n",
              "      <td>0.0</td>\n",
              "    </tr>\n",
              "    <tr>\n",
              "      <th>2</th>\n",
              "      <td>737</td>\n",
              "      <td>230062600</td>\n",
              "      <td>225357</td>\n",
              "      <td>1</td>\n",
              "      <td>641.000000</td>\n",
              "      <td>58.562500</td>\n",
              "      <td>7.375</td>\n",
              "      <td>0.0</td>\n",
              "      <td>706.937500</td>\n",
              "      <td>0.964009</td>\n",
              "      <td>...</td>\n",
              "      <td>0.0</td>\n",
              "      <td>293405.066667</td>\n",
              "      <td>26233.062500</td>\n",
              "      <td>870.25</td>\n",
              "      <td>0.0</td>\n",
              "      <td>462806.329167</td>\n",
              "      <td>0.011145</td>\n",
              "      <td>0.007384</td>\n",
              "      <td>0.000501</td>\n",
              "      <td>0.0</td>\n",
              "    </tr>\n",
              "    <tr>\n",
              "      <th>3</th>\n",
              "      <td>753</td>\n",
              "      <td>230062600</td>\n",
              "      <td>46953</td>\n",
              "      <td>1</td>\n",
              "      <td>1478.800000</td>\n",
              "      <td>56.400000</td>\n",
              "      <td>0.000</td>\n",
              "      <td>0.0</td>\n",
              "      <td>1535.200000</td>\n",
              "      <td>0.970032</td>\n",
              "      <td>...</td>\n",
              "      <td>0.0</td>\n",
              "      <td>870610.700000</td>\n",
              "      <td>15904.800000</td>\n",
              "      <td>0.00</td>\n",
              "      <td>0.0</td>\n",
              "      <td>903604.700000</td>\n",
              "      <td>0.004490</td>\n",
              "      <td>0.004490</td>\n",
              "      <td>0.000000</td>\n",
              "      <td>0.0</td>\n",
              "    </tr>\n",
              "    <tr>\n",
              "      <th>4</th>\n",
              "      <td>1610</td>\n",
              "      <td>230071200</td>\n",
              "      <td>610224</td>\n",
              "      <td>1</td>\n",
              "      <td>254.214286</td>\n",
              "      <td>0.000000</td>\n",
              "      <td>0.000</td>\n",
              "      <td>0.0</td>\n",
              "      <td>254.214286</td>\n",
              "      <td>1.000000</td>\n",
              "      <td>...</td>\n",
              "      <td>0.0</td>\n",
              "      <td>18755.878307</td>\n",
              "      <td>0.000000</td>\n",
              "      <td>0.00</td>\n",
              "      <td>0.0</td>\n",
              "      <td>18755.878307</td>\n",
              "      <td>0.000000</td>\n",
              "      <td>0.000000</td>\n",
              "      <td>0.000000</td>\n",
              "      <td>0.0</td>\n",
              "    </tr>\n",
              "  </tbody>\n",
              "</table>\n",
              "<p>5 rows × 58 columns</p>\n",
              "</div>"
            ],
            "text/plain": [
              "   Unnamed: 0  CF_AB_REF  BT_CONSO_NUMCPTR  FRAUDE  BT_CONSO_CONSO1_mean  \\\n",
              "0          42  230073150            610001       1            385.638889   \n",
              "1          78  230073150     2175703053400       1            472.333333   \n",
              "2         737  230062600            225357       1            641.000000   \n",
              "3         753  230062600             46953       1           1478.800000   \n",
              "4        1610  230071200            610224       1            254.214286   \n",
              "\n",
              "   BT_CONSO_CONSO2_mean  BT_CONSO_CONSO3_mean  BT_CONSO_CONSO4_mean  \\\n",
              "0              0.000000                 0.000                   0.0   \n",
              "1             48.333333                 0.000                   0.0   \n",
              "2             58.562500                 7.375                   0.0   \n",
              "3             56.400000                 0.000                   0.0   \n",
              "4              0.000000                 0.000                   0.0   \n",
              "\n",
              "   Consomation_mean  CONS1_ratio_mean  ...  CONS4_ratio_median  \\\n",
              "0        385.638889          1.000000  ...                 0.0   \n",
              "1        520.666667          0.955657  ...                 0.0   \n",
              "2        706.937500          0.964009  ...                 0.0   \n",
              "3       1535.200000          0.970032  ...                 0.0   \n",
              "4        254.214286          1.000000  ...                 0.0   \n",
              "\n",
              "   BT_CONSO_CONSO1_var  BT_CONSO_CONSO2_var  BT_CONSO_CONSO3_var  \\\n",
              "0         26951.323016             0.000000                 0.00   \n",
              "1         66751.466667         14016.666667                 0.00   \n",
              "2        293405.066667         26233.062500               870.25   \n",
              "3        870610.700000         15904.800000                 0.00   \n",
              "4         18755.878307             0.000000                 0.00   \n",
              "\n",
              "   BT_CONSO_CONSO4_var  Consomation_var  CONS1_ratio_var  CONS2_ratio_var  \\\n",
              "0                  0.0     26951.323016         0.000000         0.000000   \n",
              "1                  0.0    118777.466667         0.011798         0.011798   \n",
              "2                  0.0    462806.329167         0.011145         0.007384   \n",
              "3                  0.0    903604.700000         0.004490         0.004490   \n",
              "4                  0.0     18755.878307         0.000000         0.000000   \n",
              "\n",
              "   CONS3_ratio_var  CONS4_ratio_var  \n",
              "0         0.000000              0.0  \n",
              "1         0.000000              0.0  \n",
              "2         0.000501              0.0  \n",
              "3         0.000000              0.0  \n",
              "4         0.000000              0.0  \n",
              "\n",
              "[5 rows x 58 columns]"
            ]
          },
          "metadata": {
            "tags": []
          },
          "execution_count": 127
        }
      ]
    },
    {
      "cell_type": "markdown",
      "metadata": {
        "id": "aY0Bsnn-rzG4"
      },
      "source": [
        "Data cleaning"
      ]
    },
    {
      "cell_type": "code",
      "metadata": {
        "id": "nx-JM416rzG4"
      },
      "source": [
        "third.drop('Unnamed: 0',1,inplace=True)\n",
        "second.drop('Unnamed: 0',1,inplace=True)\n",
        "forth.drop('Unnamed: 0',1,inplace=True)"
      ],
      "execution_count": null,
      "outputs": []
    },
    {
      "cell_type": "code",
      "metadata": {
        "id": "Pb00Q2yZrzG6"
      },
      "source": [
        "Others=pd.concat([second,third,forth])\n",
        "X2=pd.concat([X1,Others])"
      ],
      "execution_count": null,
      "outputs": []
    },
    {
      "cell_type": "markdown",
      "metadata": {
        "id": "068GjbMyrzG8"
      },
      "source": [
        "We will shuffle here in order to seperate the frauds that are now in the bottom of our DataFrame"
      ]
    },
    {
      "cell_type": "code",
      "metadata": {
        "id": "-vB6LzAerzG8"
      },
      "source": [
        "X2=X2.sample(frac=1)"
      ],
      "execution_count": null,
      "outputs": []
    },
    {
      "cell_type": "code",
      "metadata": {
        "id": "cq3ZHqo1rzG9"
      },
      "source": [
        "X2.reset_index(inplace=True)"
      ],
      "execution_count": null,
      "outputs": []
    },
    {
      "cell_type": "code",
      "metadata": {
        "id": "oVRtReMOrzG-"
      },
      "source": [
        "X2.drop('index',1,inplace=True)"
      ],
      "execution_count": null,
      "outputs": []
    },
    {
      "cell_type": "code",
      "metadata": {
        "id": "AovAVS8RrzG_",
        "outputId": "e333cbdc-de43-44f6-9bc4-eae68940e5f4"
      },
      "source": [
        "X2.head()"
      ],
      "execution_count": null,
      "outputs": [
        {
          "output_type": "execute_result",
          "data": {
            "text/html": [
              "<div>\n",
              "<style scoped>\n",
              "    .dataframe tbody tr th:only-of-type {\n",
              "        vertical-align: middle;\n",
              "    }\n",
              "\n",
              "    .dataframe tbody tr th {\n",
              "        vertical-align: top;\n",
              "    }\n",
              "\n",
              "    .dataframe thead th {\n",
              "        text-align: right;\n",
              "    }\n",
              "</style>\n",
              "<table border=\"1\" class=\"dataframe\">\n",
              "  <thead>\n",
              "    <tr style=\"text-align: right;\">\n",
              "      <th></th>\n",
              "      <th>CF_AB_REF</th>\n",
              "      <th>BT_CONSO_NUMCPTR</th>\n",
              "      <th>FRAUDE</th>\n",
              "      <th>BT_CONSO_CONSO1_mean</th>\n",
              "      <th>BT_CONSO_CONSO2_mean</th>\n",
              "      <th>BT_CONSO_CONSO3_mean</th>\n",
              "      <th>BT_CONSO_CONSO4_mean</th>\n",
              "      <th>Consomation_mean</th>\n",
              "      <th>CONS1_ratio_mean</th>\n",
              "      <th>CONS2_ratio_mean</th>\n",
              "      <th>...</th>\n",
              "      <th>CONS4_ratio_median</th>\n",
              "      <th>BT_CONSO_CONSO1_var</th>\n",
              "      <th>BT_CONSO_CONSO2_var</th>\n",
              "      <th>BT_CONSO_CONSO3_var</th>\n",
              "      <th>BT_CONSO_CONSO4_var</th>\n",
              "      <th>Consomation_var</th>\n",
              "      <th>CONS1_ratio_var</th>\n",
              "      <th>CONS2_ratio_var</th>\n",
              "      <th>CONS3_ratio_var</th>\n",
              "      <th>CONS4_ratio_var</th>\n",
              "    </tr>\n",
              "  </thead>\n",
              "  <tbody>\n",
              "    <tr>\n",
              "      <th>0</th>\n",
              "      <td>456030</td>\n",
              "      <td>671915</td>\n",
              "      <td>0</td>\n",
              "      <td>1091.037037</td>\n",
              "      <td>85.037037</td>\n",
              "      <td>1.222222</td>\n",
              "      <td>0.000000</td>\n",
              "      <td>1147.555556</td>\n",
              "      <td>0.934677</td>\n",
              "      <td>0.064332</td>\n",
              "      <td>...</td>\n",
              "      <td>0.000000</td>\n",
              "      <td>69534.266667</td>\n",
              "      <td>9.647062e+04</td>\n",
              "      <td>108.900000</td>\n",
              "      <td>0.000000e+00</td>\n",
              "      <td>2.458752e+05</td>\n",
              "      <td>0.044480</td>\n",
              "      <td>0.043257</td>\n",
              "      <td>0.000072</td>\n",
              "      <td>0.000000</td>\n",
              "    </tr>\n",
              "    <tr>\n",
              "      <th>1</th>\n",
              "      <td>231106130</td>\n",
              "      <td>221740</td>\n",
              "      <td>1</td>\n",
              "      <td>627.564103</td>\n",
              "      <td>2.564103</td>\n",
              "      <td>5.128205</td>\n",
              "      <td>1.589744</td>\n",
              "      <td>636.846154</td>\n",
              "      <td>0.983484</td>\n",
              "      <td>0.004562</td>\n",
              "      <td>...</td>\n",
              "      <td>0.000000</td>\n",
              "      <td>178420.726046</td>\n",
              "      <td>2.564103e+02</td>\n",
              "      <td>1025.641026</td>\n",
              "      <td>9.856410e+01</td>\n",
              "      <td>1.736346e+05</td>\n",
              "      <td>0.010638</td>\n",
              "      <td>0.000812</td>\n",
              "      <td>0.003247</td>\n",
              "      <td>0.000312</td>\n",
              "    </tr>\n",
              "    <tr>\n",
              "      <th>2</th>\n",
              "      <td>3077450</td>\n",
              "      <td>616580</td>\n",
              "      <td>0</td>\n",
              "      <td>740.243243</td>\n",
              "      <td>2.324324</td>\n",
              "      <td>0.000000</td>\n",
              "      <td>0.000000</td>\n",
              "      <td>742.567568</td>\n",
              "      <td>0.997377</td>\n",
              "      <td>0.002623</td>\n",
              "      <td>...</td>\n",
              "      <td>0.000000</td>\n",
              "      <td>41688.247253</td>\n",
              "      <td>0.000000e+00</td>\n",
              "      <td>0.000000</td>\n",
              "      <td>0.000000e+00</td>\n",
              "      <td>4.168825e+04</td>\n",
              "      <td>0.000000</td>\n",
              "      <td>0.000000</td>\n",
              "      <td>0.000000</td>\n",
              "      <td>0.000000</td>\n",
              "    </tr>\n",
              "    <tr>\n",
              "      <th>3</th>\n",
              "      <td>215382740</td>\n",
              "      <td>570986</td>\n",
              "      <td>1</td>\n",
              "      <td>466.666667</td>\n",
              "      <td>1214.666667</td>\n",
              "      <td>266.666667</td>\n",
              "      <td>1902.333333</td>\n",
              "      <td>4419.333333</td>\n",
              "      <td>0.232598</td>\n",
              "      <td>0.456635</td>\n",
              "      <td>...</td>\n",
              "      <td>0.000000</td>\n",
              "      <td>85000.000000</td>\n",
              "      <td>5.177437e+06</td>\n",
              "      <td>160000.000000</td>\n",
              "      <td>1.011146e+07</td>\n",
              "      <td>1.318863e+07</td>\n",
              "      <td>0.026833</td>\n",
              "      <td>0.126271</td>\n",
              "      <td>0.004040</td>\n",
              "      <td>0.140171</td>\n",
              "    </tr>\n",
              "    <tr>\n",
              "      <th>4</th>\n",
              "      <td>215145681</td>\n",
              "      <td>048159</td>\n",
              "      <td>1</td>\n",
              "      <td>490.909091</td>\n",
              "      <td>245.454545</td>\n",
              "      <td>490.909091</td>\n",
              "      <td>13333.727273</td>\n",
              "      <td>14561.000000</td>\n",
              "      <td>0.052160</td>\n",
              "      <td>0.026080</td>\n",
              "      <td>...</td>\n",
              "      <td>0.879488</td>\n",
              "      <td>626909.090909</td>\n",
              "      <td>1.567273e+05</td>\n",
              "      <td>626909.090909</td>\n",
              "      <td>3.882561e+08</td>\n",
              "      <td>4.654863e+08</td>\n",
              "      <td>0.000933</td>\n",
              "      <td>0.000233</td>\n",
              "      <td>0.000933</td>\n",
              "      <td>0.005828</td>\n",
              "    </tr>\n",
              "  </tbody>\n",
              "</table>\n",
              "<p>5 rows × 57 columns</p>\n",
              "</div>"
            ],
            "text/plain": [
              "   CF_AB_REF BT_CONSO_NUMCPTR  FRAUDE  BT_CONSO_CONSO1_mean  \\\n",
              "0     456030           671915       0           1091.037037   \n",
              "1  231106130           221740       1            627.564103   \n",
              "2    3077450           616580       0            740.243243   \n",
              "3  215382740           570986       1            466.666667   \n",
              "4  215145681           048159       1            490.909091   \n",
              "\n",
              "   BT_CONSO_CONSO2_mean  BT_CONSO_CONSO3_mean  BT_CONSO_CONSO4_mean  \\\n",
              "0             85.037037              1.222222              0.000000   \n",
              "1              2.564103              5.128205              1.589744   \n",
              "2              2.324324              0.000000              0.000000   \n",
              "3           1214.666667            266.666667           1902.333333   \n",
              "4            245.454545            490.909091          13333.727273   \n",
              "\n",
              "   Consomation_mean  CONS1_ratio_mean  CONS2_ratio_mean  ...  \\\n",
              "0       1147.555556          0.934677          0.064332  ...   \n",
              "1        636.846154          0.983484          0.004562  ...   \n",
              "2        742.567568          0.997377          0.002623  ...   \n",
              "3       4419.333333          0.232598          0.456635  ...   \n",
              "4      14561.000000          0.052160          0.026080  ...   \n",
              "\n",
              "   CONS4_ratio_median  BT_CONSO_CONSO1_var  BT_CONSO_CONSO2_var  \\\n",
              "0            0.000000         69534.266667         9.647062e+04   \n",
              "1            0.000000        178420.726046         2.564103e+02   \n",
              "2            0.000000         41688.247253         0.000000e+00   \n",
              "3            0.000000         85000.000000         5.177437e+06   \n",
              "4            0.879488        626909.090909         1.567273e+05   \n",
              "\n",
              "   BT_CONSO_CONSO3_var  BT_CONSO_CONSO4_var  Consomation_var  CONS1_ratio_var  \\\n",
              "0           108.900000         0.000000e+00     2.458752e+05         0.044480   \n",
              "1          1025.641026         9.856410e+01     1.736346e+05         0.010638   \n",
              "2             0.000000         0.000000e+00     4.168825e+04         0.000000   \n",
              "3        160000.000000         1.011146e+07     1.318863e+07         0.026833   \n",
              "4        626909.090909         3.882561e+08     4.654863e+08         0.000933   \n",
              "\n",
              "   CONS2_ratio_var  CONS3_ratio_var  CONS4_ratio_var  \n",
              "0         0.043257         0.000072         0.000000  \n",
              "1         0.000812         0.003247         0.000312  \n",
              "2         0.000000         0.000000         0.000000  \n",
              "3         0.126271         0.004040         0.140171  \n",
              "4         0.000233         0.000933         0.005828  \n",
              "\n",
              "[5 rows x 57 columns]"
            ]
          },
          "metadata": {
            "tags": []
          },
          "execution_count": 133
        }
      ]
    },
    {
      "cell_type": "markdown",
      "metadata": {
        "id": "gijWVZabrzHA"
      },
      "source": [
        "We will here save the target and prepare our final data to pipe it into our model. "
      ]
    },
    {
      "cell_type": "code",
      "metadata": {
        "id": "ZMqrKc37rzHA"
      },
      "source": [
        "target=X2[\"FRAUDE\"]"
      ],
      "execution_count": null,
      "outputs": []
    },
    {
      "cell_type": "code",
      "metadata": {
        "id": "WJQxQjGmrzHC"
      },
      "source": [
        "compteur=X2[\"BT_CONSO_NUMCPTR\"]"
      ],
      "execution_count": null,
      "outputs": []
    },
    {
      "cell_type": "code",
      "metadata": {
        "id": "cuoXJVwsrzHF"
      },
      "source": [
        "client=X2[\"CF_AB_REF\"]"
      ],
      "execution_count": null,
      "outputs": []
    },
    {
      "cell_type": "code",
      "metadata": {
        "id": "62z2BeAMrzHF"
      },
      "source": [
        "X2.drop(\"CF_AB_REF\",1,inplace=True)\n",
        "X2.drop(\"BT_CONSO_NUMCPTR\",1,inplace=True)\n",
        "X2.drop(\"FRAUDE\",1,inplace=True)"
      ],
      "execution_count": null,
      "outputs": []
    },
    {
      "cell_type": "code",
      "metadata": {
        "id": "wV59PaJ9rzHG",
        "outputId": "92a49d57-4647-4711-8e94-d63bdc3bf6f0"
      },
      "source": [
        "target.value_counts()"
      ],
      "execution_count": null,
      "outputs": [
        {
          "output_type": "execute_result",
          "data": {
            "text/plain": [
              "0    18092\n",
              "1     3589\n",
              "Name: FRAUDE, dtype: int64"
            ]
          },
          "metadata": {
            "tags": []
          },
          "execution_count": 138
        }
      ]
    },
    {
      "cell_type": "code",
      "metadata": {
        "id": "aIcx-5p0rzHI"
      },
      "source": [
        "import pandas as pd\n",
        "from sklearn.preprocessing import MinMaxScaler\n",
        "import matplotlib.pyplot as plt\n",
        "from mpl_toolkits import mplot3d\n",
        "from matplotlib.pyplot import axes, title\n",
        "import numpy as np"
      ],
      "execution_count": null,
      "outputs": []
    },
    {
      "cell_type": "code",
      "metadata": {
        "id": "oRjSEMcNrzHK"
      },
      "source": [
        "from sklearn.metrics import confusion_matrix, f1_score"
      ],
      "execution_count": null,
      "outputs": []
    },
    {
      "cell_type": "markdown",
      "metadata": {
        "id": "bO5MgHtQrzHL"
      },
      "source": [
        "#### Without Standaridsation of the data"
      ]
    },
    {
      "cell_type": "code",
      "metadata": {
        "id": "mT5CAIzArzHL",
        "outputId": "6cc6e527-1bf0-45a3-fe62-96ee5ab72298"
      },
      "source": [
        "from sklearn.ensemble import IsolationForest\n",
        "from sklearn.neighbors import LocalOutlierFactor\n",
        "from sklearn.cluster import DBSCAN\n",
        "from sklearn.metrics import confusion_matrix, f1_score\n",
        "from sklearn.metrics import roc_auc_score\n",
        "# outlier detectors to be compared\n",
        "classifiers = {'Isolation Forest':IsolationForest(n_estimators=2, max_samples='auto', \n",
        "                                                  contamination='auto', max_features=1.0,\n",
        "                                                  bootstrap=False, n_jobs=-1, behaviour='deprecated',\n",
        "                                                  random_state=None, verbose=0, warm_start=False),     \n",
        "             'Local Outlier Factor': LocalOutlierFactor(n_neighbors=2, algorithm='auto', leaf_size=30,\n",
        "                                                        metric='minkowski', p=2, metric_params=None,\n",
        "                                                        contamination='auto', novelty=False, n_jobs=None),\n",
        "             'DBSCAN':DBSCAN(eps = 0.1, metric=\"euclidean\", min_samples = 5, n_jobs = -1)}           \n",
        "for (clf_name, clf) in classifiers.items():\n",
        "    \n",
        "    # fit and predict labels \n",
        "    y_pred = clf.fit_predict(X2)   \n",
        "      \n",
        "    # Reshape the prediction values to 0 for valid, 1 for fraud. \n",
        "    y_pred[y_pred != -1] = 0\n",
        "    y_pred[y_pred == -1] = 1 \n",
        "        \n",
        "    # classification metrics\n",
        "    print(clf_name)\n",
        "    print('Confusion Matrix\\n', confusion_matrix(target, y_pred))  \n",
        "    print('F1-score', f1_score(target, y_pred))\n",
        "    print('AUC', roc_auc_score(target, y_pred))\n",
        "    print('\\n')"
      ],
      "execution_count": null,
      "outputs": [
        {
          "output_type": "stream",
          "text": [
            "Isolation Forest\n",
            "Confusion Matrix\n",
            " [[15638  2454]\n",
            " [ 3178   411]]\n",
            "F1-score 0.12736287573597768\n",
            "AUC 0.4894382582641448\n",
            "\n",
            "\n",
            "Local Outlier Factor\n",
            "Confusion Matrix\n",
            " [[15193  2899]\n",
            " [ 2956   633]]\n",
            "F1-score 0.17778401909844121\n",
            "AUC 0.5080678399440351\n",
            "\n",
            "\n",
            "DBSCAN\n",
            "Confusion Matrix\n",
            " [[   74 18018]\n",
            " [    0  3589]]\n",
            "F1-score 0.2848864899190348\n",
            "AUC 0.502045102807871\n",
            "\n",
            "\n"
          ],
          "name": "stdout"
        }
      ]
    },
    {
      "cell_type": "markdown",
      "metadata": {
        "id": "baXzHx4przHM"
      },
      "source": [
        "#### With Standardisation of the data"
      ]
    },
    {
      "cell_type": "code",
      "metadata": {
        "id": "lP4b513frzHM",
        "outputId": "6cdcb3ee-ed84-4727-859a-9f172f8a6f50"
      },
      "source": [
        "import numpy as np \n",
        "import pandas as pd \n",
        "import seaborn as sns\n",
        "import matplotlib.pyplot as plt\n",
        "from sklearn.ensemble import IsolationForest\n",
        "from sklearn.neighbors import LocalOutlierFactor\n",
        "from sklearn.cluster import DBSCAN\n",
        "from sklearn.metrics import confusion_matrix, f1_score\n",
        "\n",
        "from sklearn.preprocessing import StandardScaler\n",
        "X_Stand = StandardScaler().fit_transform(X2) \n",
        "X_Stand=pd.DataFrame(X_Stand)\n",
        "classifiers = {'Isolation Forest':IsolationForest(n_estimators=2, max_samples='auto', \n",
        "                                                  contamination='auto', max_features=1.0,\n",
        "                                                  bootstrap=False, n_jobs=-1, behaviour='deprecated',\n",
        "                                                  random_state=None, verbose=0, warm_start=False),     \n",
        "             'Local Outlier Factor': LocalOutlierFactor(n_neighbors=2, algorithm='auto', leaf_size=30,\n",
        "                                                        metric='minkowski', p=2, metric_params=None,\n",
        "                                                        contamination='auto', novelty=False, n_jobs=None),\n",
        "             'DBSCAN':DBSCAN(eps = .2, metric=\"euclidean\", min_samples = 2, n_jobs = -1)}\n",
        "             \n",
        "for (clf_name, clf) in classifiers.items():\n",
        "    \n",
        "    # fit and predict labels \n",
        "    y_pred = clf.fit_predict(X_Stand)   \n",
        "      \n",
        "    # Reshape the prediction values to 0 for valid, 1 for fraud. \n",
        "    y_pred[y_pred != -1] = 0\n",
        "    y_pred[y_pred == -1] = 1 \n",
        "        \n",
        "    # classification metrics\n",
        "    print(clf_name)\n",
        "    print('Confusion Matrix\\n', confusion_matrix(target, y_pred))  \n",
        "    print('F1-score', f1_score(target, y_pred))\n",
        "    print('AUC', roc_auc_score(target, y_pred))\n",
        "    print('\\n')"
      ],
      "execution_count": null,
      "outputs": [
        {
          "output_type": "stream",
          "text": [
            "Isolation Forest\n",
            "Confusion Matrix\n",
            " [[14924  3168]\n",
            " [ 3077   512]]\n",
            "F1-score 0.14087219700096298\n",
            "AUC 0.48377655162336436\n",
            "\n",
            "\n",
            "Local Outlier Factor\n",
            "Confusion Matrix\n",
            " [[16411  1681]\n",
            " [ 3264   325]]\n",
            "F1-score 0.1161751563896336\n",
            "AUC 0.4988202384308996\n",
            "\n",
            "\n",
            "DBSCAN\n",
            "Confusion Matrix\n",
            " [[9874 8218]\n",
            " [1119 2470]]\n",
            "F1-score 0.34601106675071797\n",
            "AUC 0.616990035820139\n",
            "\n",
            "\n"
          ],
          "name": "stdout"
        }
      ]
    },
    {
      "cell_type": "markdown",
      "metadata": {
        "id": "7AajzS-drzHP"
      },
      "source": [
        "### Interpretation of the models"
      ]
    },
    {
      "cell_type": "markdown",
      "metadata": {
        "id": "-zqwchrlrzHP"
      },
      "source": [
        "As we see here, We don't have that much good of the results. That can be explained ,as we said in class, by the fact that the non fraudulant clients can be in fact fraudulants. <br> We can  clearly see that with Standardisation the Isolation Forest behaved better. However, this does not hold for the Local Outlier Factor , the F1 score decreased when we applied Standardisation. <br>\n",
        "As for the DBSCAN algorthims, despite the fact that it gave us the best results (with/ without standardisation), we observed that it assigns a lot of 1 , the fact that lead to increased the number of False Positives (we tried a lot of hyperparameters but that did'nt help at all)."
      ]
    },
    {
      "cell_type": "markdown",
      "metadata": {
        "id": "kDmqMPizrzHQ"
      },
      "source": [
        "## Deep learning approach"
      ]
    },
    {
      "cell_type": "code",
      "metadata": {
        "scrolled": false,
        "id": "At3m8NTGrzHQ",
        "outputId": "7a8f4d75-5433-40b1-f8c9-e87081fe9b81"
      },
      "source": [
        "from pyod.models.auto_encoder import AutoEncoder\n",
        "clf1 = AutoEncoder(hidden_neurons =[54,15, 10, 2, 10,15,54],epochs=30)\n",
        "clf1.fit(X_Stand)"
      ],
      "execution_count": null,
      "outputs": [
        {
          "output_type": "stream",
          "text": [
            "Using TensorFlow backend.\n"
          ],
          "name": "stderr"
        },
        {
          "output_type": "stream",
          "text": [
            "Model: \"sequential_1\"\n",
            "_________________________________________________________________\n",
            "Layer (type)                 Output Shape              Param #   \n",
            "=================================================================\n",
            "dense_1 (Dense)              (None, 54)                2970      \n",
            "_________________________________________________________________\n",
            "dropout_1 (Dropout)          (None, 54)                0         \n",
            "_________________________________________________________________\n",
            "dense_2 (Dense)              (None, 54)                2970      \n",
            "_________________________________________________________________\n",
            "dropout_2 (Dropout)          (None, 54)                0         \n",
            "_________________________________________________________________\n",
            "dense_3 (Dense)              (None, 54)                2970      \n",
            "_________________________________________________________________\n",
            "dropout_3 (Dropout)          (None, 54)                0         \n",
            "_________________________________________________________________\n",
            "dense_4 (Dense)              (None, 15)                825       \n",
            "_________________________________________________________________\n",
            "dropout_4 (Dropout)          (None, 15)                0         \n",
            "_________________________________________________________________\n",
            "dense_5 (Dense)              (None, 10)                160       \n",
            "_________________________________________________________________\n",
            "dropout_5 (Dropout)          (None, 10)                0         \n",
            "_________________________________________________________________\n",
            "dense_6 (Dense)              (None, 2)                 22        \n",
            "_________________________________________________________________\n",
            "dropout_6 (Dropout)          (None, 2)                 0         \n",
            "_________________________________________________________________\n",
            "dense_7 (Dense)              (None, 10)                30        \n",
            "_________________________________________________________________\n",
            "dropout_7 (Dropout)          (None, 10)                0         \n",
            "_________________________________________________________________\n",
            "dense_8 (Dense)              (None, 15)                165       \n",
            "_________________________________________________________________\n",
            "dropout_8 (Dropout)          (None, 15)                0         \n",
            "_________________________________________________________________\n",
            "dense_9 (Dense)              (None, 54)                864       \n",
            "_________________________________________________________________\n",
            "dropout_9 (Dropout)          (None, 54)                0         \n",
            "_________________________________________________________________\n",
            "dense_10 (Dense)             (None, 54)                2970      \n",
            "=================================================================\n",
            "Total params: 13,946\n",
            "Trainable params: 13,946\n",
            "Non-trainable params: 0\n",
            "_________________________________________________________________\n",
            "None\n",
            "WARNING:tensorflow:From D:\\Anaconda\\lib\\site-packages\\keras\\backend\\tensorflow_backend.py:422: The name tf.global_variables is deprecated. Please use tf.compat.v1.global_variables instead.\n",
            "\n",
            "Train on 19512 samples, validate on 2169 samples\n",
            "Epoch 1/30\n",
            "19512/19512 [==============================] - 3s 154us/step - loss: 29.5607 - val_loss: 6.2671\n",
            "Epoch 2/30\n",
            "19512/19512 [==============================] - 2s 108us/step - loss: 6.6575 - val_loss: 3.3664\n",
            "Epoch 3/30\n",
            "19512/19512 [==============================] - 2s 104us/step - loss: 3.6216 - val_loss: 2.5301\n",
            "Epoch 4/30\n",
            "19512/19512 [==============================] - 2s 106us/step - loss: 2.5705 - val_loss: 2.1050\n",
            "Epoch 5/30\n",
            "19512/19512 [==============================] - 2s 94us/step - loss: 2.1009 - val_loss: 1.8471\n",
            "Epoch 6/30\n",
            "19512/19512 [==============================] - 2s 85us/step - loss: 1.8374 - val_loss: 1.6659\n",
            "Epoch 7/30\n",
            "19512/19512 [==============================] - 2s 87us/step - loss: 1.6711 - val_loss: 1.5286\n",
            "Epoch 8/30\n",
            "19512/19512 [==============================] - 2s 80us/step - loss: 1.5453 - val_loss: 1.4223\n",
            "Epoch 9/30\n",
            "19512/19512 [==============================] - 2s 78us/step - loss: 1.4471 - val_loss: 1.3386\n",
            "Epoch 10/30\n",
            "19512/19512 [==============================] - 2s 83us/step - loss: 1.3670 - val_loss: 1.2699\n",
            "Epoch 11/30\n",
            "19512/19512 [==============================] - 2s 86us/step - loss: 1.3008 - val_loss: 1.2122\n",
            "Epoch 12/30\n",
            "19512/19512 [==============================] - 2s 92us/step - loss: 1.2450 - val_loss: 1.1626\n",
            "Epoch 13/30\n",
            "19512/19512 [==============================] - 2s 80us/step - loss: 1.1985 - val_loss: 1.1232\n",
            "Epoch 14/30\n",
            "19512/19512 [==============================] - 2s 81us/step - loss: 1.1600 - val_loss: 1.0904\n",
            "Epoch 15/30\n",
            "19512/19512 [==============================] - 2s 84us/step - loss: 1.1278 - val_loss: 1.0586\n",
            "Epoch 16/30\n",
            "19512/19512 [==============================] - 2s 85us/step - loss: 1.1014 - val_loss: 1.0361\n",
            "Epoch 17/30\n",
            "19512/19512 [==============================] - 2s 81us/step - loss: 1.0801 - val_loss: 1.0177\n",
            "Epoch 18/30\n",
            "19512/19512 [==============================] - 2s 85us/step - loss: 1.0628 - val_loss: 1.0025\n",
            "Epoch 19/30\n",
            "19512/19512 [==============================] - 2s 92us/step - loss: 1.0491 - val_loss: 0.9914\n",
            "Epoch 20/30\n",
            "19512/19512 [==============================] - 2s 81us/step - loss: 1.0386 - val_loss: 0.9831\n",
            "Epoch 21/30\n",
            "19512/19512 [==============================] - 2s 97us/step - loss: 1.0304 - val_loss: 0.9763\n",
            "Epoch 22/30\n",
            "19512/19512 [==============================] - 2s 80us/step - loss: 1.0244 - val_loss: 0.9711\n",
            "Epoch 23/30\n",
            "19512/19512 [==============================] - 2s 84us/step - loss: 1.0199 - val_loss: 0.9675\n",
            "Epoch 24/30\n",
            "19512/19512 [==============================] - 2s 79us/step - loss: 1.0167 - val_loss: 0.9649\n",
            "Epoch 25/30\n",
            "19512/19512 [==============================] - 2s 90us/step - loss: 1.0145 - val_loss: 0.9631\n",
            "Epoch 26/30\n",
            "19512/19512 [==============================] - 2s 84us/step - loss: 1.0130 - val_loss: 0.9618\n",
            "Epoch 27/30\n",
            "19512/19512 [==============================] - 2s 98us/step - loss: 1.0120 - val_loss: 0.9610\n",
            "Epoch 28/30\n",
            "19512/19512 [==============================] - 2s 88us/step - loss: 1.0113 - val_loss: 0.9604\n",
            "Epoch 29/30\n",
            "19512/19512 [==============================] - 2s 83us/step - loss: 1.0108 - val_loss: 0.9600\n",
            "Epoch 30/30\n",
            "19512/19512 [==============================] - 2s 87us/step - loss: 1.0105 - val_loss: 0.9598\n"
          ],
          "name": "stdout"
        },
        {
          "output_type": "execute_result",
          "data": {
            "text/plain": [
              "AutoEncoder(batch_size=32, contamination=0.1, dropout_rate=0.2, epochs=30,\n",
              "      hidden_activation='relu', hidden_neurons=[54, 15, 10, 2, 10, 15, 54],\n",
              "      l2_regularizer=0.1,\n",
              "      loss=<function mean_squared_error at 0x0000020E38C5F168>,\n",
              "      optimizer='adam', output_activation='sigmoid', preprocessing=True,\n",
              "      random_state=None, validation_size=0.1, verbose=1)"
            ]
          },
          "metadata": {
            "tags": []
          },
          "execution_count": 143
        }
      ]
    },
    {
      "cell_type": "code",
      "metadata": {
        "id": "nUBnkS_MrzHR"
      },
      "source": [
        "y_test_scores = clf1.decision_function(X_Stand)  \n",
        "y_test_scores = pd.Series(y_test_scores)"
      ],
      "execution_count": null,
      "outputs": []
    },
    {
      "cell_type": "code",
      "metadata": {
        "id": "Figka9P2rzHS",
        "outputId": "03711eff-915f-43a9-8258-76fbac8baf63"
      },
      "source": [
        "import matplotlib.pyplot as plt\n",
        "plt.hist(y_test_scores,bins='auto',color=\"blue\")  \n",
        "plt.title(\"Histogram with Model Clf Anomaly Scores\")\n",
        "plt.show()"
      ],
      "execution_count": null,
      "outputs": [
        {
          "output_type": "display_data",
          "data": {
            "image/png": "[encoded data removed]",
            "text/plain": [
              "<Figure size 432x288 with 1 Axes>"
            ]
          },
          "metadata": {
            "tags": []
          }
        }
      ]
    },
    {
      "cell_type": "code",
      "metadata": {
        "id": "9x9wG02nrzHT",
        "outputId": "32c11d03-6582-43df-92bc-18e92106239b"
      },
      "source": [
        "df_test = X_Stand.copy()\n",
        "df_test['score'] = y_test_scores\n",
        "df_test['cluster'] = np.where(df_test['score']<7, 0, 1)\n",
        "df_test['cluster'].value_counts()"
      ],
      "execution_count": null,
      "outputs": [
        {
          "output_type": "execute_result",
          "data": {
            "text/plain": [
              "0    18194\n",
              "1     3487\n",
              "Name: cluster, dtype: int64"
            ]
          },
          "metadata": {
            "tags": []
          },
          "execution_count": 146
        }
      ]
    },
    {
      "cell_type": "code",
      "metadata": {
        "id": "AYCPj_bYrzHU",
        "outputId": "683000cb-2f5a-4459-cc2b-4de450d4bd9c"
      },
      "source": [
        "df_test.groupby('cluster').mean()\n"
      ],
      "execution_count": null,
      "outputs": [
        {
          "output_type": "execute_result",
          "data": {
            "text/html": [
              "<div>\n",
              "<style scoped>\n",
              "    .dataframe tbody tr th:only-of-type {\n",
              "        vertical-align: middle;\n",
              "    }\n",
              "\n",
              "    .dataframe tbody tr th {\n",
              "        vertical-align: top;\n",
              "    }\n",
              "\n",
              "    .dataframe thead th {\n",
              "        text-align: right;\n",
              "    }\n",
              "</style>\n",
              "<table border=\"1\" class=\"dataframe\">\n",
              "  <thead>\n",
              "    <tr style=\"text-align: right;\">\n",
              "      <th></th>\n",
              "      <th>0</th>\n",
              "      <th>1</th>\n",
              "      <th>2</th>\n",
              "      <th>3</th>\n",
              "      <th>4</th>\n",
              "      <th>5</th>\n",
              "      <th>6</th>\n",
              "      <th>7</th>\n",
              "      <th>8</th>\n",
              "      <th>9</th>\n",
              "      <th>...</th>\n",
              "      <th>45</th>\n",
              "      <th>46</th>\n",
              "      <th>47</th>\n",
              "      <th>48</th>\n",
              "      <th>49</th>\n",
              "      <th>50</th>\n",
              "      <th>51</th>\n",
              "      <th>52</th>\n",
              "      <th>53</th>\n",
              "      <th>score</th>\n",
              "    </tr>\n",
              "    <tr>\n",
              "      <th>cluster</th>\n",
              "      <th></th>\n",
              "      <th></th>\n",
              "      <th></th>\n",
              "      <th></th>\n",
              "      <th></th>\n",
              "      <th></th>\n",
              "      <th></th>\n",
              "      <th></th>\n",
              "      <th></th>\n",
              "      <th></th>\n",
              "      <th></th>\n",
              "      <th></th>\n",
              "      <th></th>\n",
              "      <th></th>\n",
              "      <th></th>\n",
              "      <th></th>\n",
              "      <th></th>\n",
              "      <th></th>\n",
              "      <th></th>\n",
              "      <th></th>\n",
              "      <th></th>\n",
              "    </tr>\n",
              "  </thead>\n",
              "  <tbody>\n",
              "    <tr>\n",
              "      <th>0</th>\n",
              "      <td>-0.120601</td>\n",
              "      <td>-0.232555</td>\n",
              "      <td>-0.299686</td>\n",
              "      <td>-0.166566</td>\n",
              "      <td>-0.266757</td>\n",
              "      <td>0.362797</td>\n",
              "      <td>-0.282825</td>\n",
              "      <td>-0.273943</td>\n",
              "      <td>-0.273479</td>\n",
              "      <td>-0.082734</td>\n",
              "      <td>...</td>\n",
              "      <td>-0.023241</td>\n",
              "      <td>-0.077424</td>\n",
              "      <td>-0.191011</td>\n",
              "      <td>-0.027620</td>\n",
              "      <td>-0.033727</td>\n",
              "      <td>-0.185117</td>\n",
              "      <td>-0.223490</td>\n",
              "      <td>-0.180421</td>\n",
              "      <td>-0.256487</td>\n",
              "      <td>3.547756</td>\n",
              "    </tr>\n",
              "    <tr>\n",
              "      <th>1</th>\n",
              "      <td>0.629256</td>\n",
              "      <td>1.213393</td>\n",
              "      <td>1.563659</td>\n",
              "      <td>0.869086</td>\n",
              "      <td>1.391849</td>\n",
              "      <td>-1.892952</td>\n",
              "      <td>1.475687</td>\n",
              "      <td>1.429341</td>\n",
              "      <td>1.426920</td>\n",
              "      <td>0.431678</td>\n",
              "      <td>...</td>\n",
              "      <td>0.121264</td>\n",
              "      <td>0.403971</td>\n",
              "      <td>0.996631</td>\n",
              "      <td>0.144111</td>\n",
              "      <td>0.175976</td>\n",
              "      <td>0.965879</td>\n",
              "      <td>1.166095</td>\n",
              "      <td>0.941375</td>\n",
              "      <td>1.338261</td>\n",
              "      <td>13.256273</td>\n",
              "    </tr>\n",
              "  </tbody>\n",
              "</table>\n",
              "<p>2 rows × 55 columns</p>\n",
              "</div>"
            ],
            "text/plain": [
              "                0         1         2         3         4         5         6  \\\n",
              "cluster                                                                         \n",
              "0       -0.120601 -0.232555 -0.299686 -0.166566 -0.266757  0.362797 -0.282825   \n",
              "1        0.629256  1.213393  1.563659  0.869086  1.391849 -1.892952  1.475687   \n",
              "\n",
              "                7         8         9  ...        45        46        47  \\\n",
              "cluster                                ...                                 \n",
              "0       -0.273943 -0.273479 -0.082734  ... -0.023241 -0.077424 -0.191011   \n",
              "1        1.429341  1.426920  0.431678  ...  0.121264  0.403971  0.996631   \n",
              "\n",
              "               48        49        50        51        52        53      score  \n",
              "cluster                                                                         \n",
              "0       -0.027620 -0.033727 -0.185117 -0.223490 -0.180421 -0.256487   3.547756  \n",
              "1        0.144111  0.175976  0.965879  1.166095  0.941375  1.338261  13.256273  \n",
              "\n",
              "[2 rows x 55 columns]"
            ]
          },
          "metadata": {
            "tags": []
          },
          "execution_count": 147
        }
      ]
    },
    {
      "cell_type": "code",
      "metadata": {
        "scrolled": false,
        "id": "OkfISSgyrzHV",
        "outputId": "735640a1-c5c1-4d05-8351-cde4a9f44991"
      },
      "source": [
        "print('Confusion Matrix\\n', confusion_matrix(target, df_test['cluster']))  \n",
        "print('F1-score', f1_score(target, df_test['cluster']))\n",
        "print('AUC', roc_auc_score(target, df_test['cluster']))\n"
      ],
      "execution_count": null,
      "outputs": [
        {
          "output_type": "stream",
          "text": [
            "Confusion Matrix\n",
            " [[15094  2998]\n",
            " [ 3100   489]]\n",
            "F1-score 0.1382136800452233\n",
            "AUC 0.4852705256135832\n"
          ],
          "name": "stdout"
        }
      ]
    },
    {
      "cell_type": "markdown",
      "metadata": {
        "id": "-dgw65FmrzHW"
      },
      "source": [
        "Well as we see here, the deep learning model is on average like the machine learning models that we have used for the anomalie detection problem."
      ]
    },
    {
      "cell_type": "markdown",
      "metadata": {
        "id": "eN7g8qYorzHW"
      },
      "source": [
        "# Conclusion"
      ]
    },
    {
      "cell_type": "markdown",
      "metadata": {
        "id": "N8FyzkHXrzHX"
      },
      "source": [
        "Unsupervised learning is a type of machine learning that looks for previously undetected patterns in a data set with no pre-existing labels and with a minimum of human supervision. In our case, we used the Unsupervised approach for the  detection of fraudulent activities.. In this type of problems, the model attempts to  analyze the available data and tries to identify the similarities and the differences between the transaction occurrences.\n",
        "\n",
        "In our project, we have tried different models(IF,LOF,DBSCAN) and after comparing the results we are much likely going to use the LOF without standardisation (it has the highest F1 score and AUC).\n",
        "\n",
        "According to the metrics that we calculated, using unsupervised learnig models didn't lead to that much good of results. That can be explained, by the fact that the non fraudulant clients can be in fact fraudulants and the fact that we have a very umbalanced data. "
      ]
    },
    {
      "cell_type": "code",
      "metadata": {
        "id": "e3LzfVwfrzHX"
      },
      "source": [
        ""
      ],
      "execution_count": null,
      "outputs": []
    }
  ]
}